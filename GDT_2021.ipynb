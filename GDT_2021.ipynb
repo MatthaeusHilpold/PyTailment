{
  "nbformat": 4,
  "nbformat_minor": 5,
  "metadata": {
    "kernelspec": {
      "display_name": "Python 3",
      "language": "python",
      "name": "python3"
    },
    "language_info": {
      "codemirror_mode": {
        "name": "ipython",
        "version": 3
      },
      "file_extension": ".py",
      "mimetype": "text/x-python",
      "name": "python",
      "nbconvert_exporter": "python",
      "pygments_lexer": "ipython3",
      "version": "3.8.7"
    },
    "colab": {
      "name": "GDT_2021.ipynb",
      "provenance": [],
      "collapsed_sections": [
        "AJ1cYQypOfW1",
        "zcn5tbaT0Gim"
      ]
    }
  },
  "cells": [
    {
      "cell_type": "markdown",
      "metadata": {
        "id": "25kJlnk0WmYX"
      },
      "source": [
        "# **Unreported Curtailment Analysis**\n",
        "\n"
      ],
      "id": "25kJlnk0WmYX"
    },
    {
      "cell_type": "markdown",
      "metadata": {
        "id": "zPuAiBZtsZ16"
      },
      "source": [
        "## Data loading and imports"
      ],
      "id": "zPuAiBZtsZ16"
    },
    {
      "cell_type": "markdown",
      "metadata": {
        "id": "VjT_LzcJs5H_"
      },
      "source": [
        "### Imports"
      ],
      "id": "VjT_LzcJs5H_"
    },
    {
      "cell_type": "code",
      "metadata": {
        "colab": {
          "base_uri": "https://localhost:8080/"
        },
        "id": "izr5nEWYWg1Q",
        "outputId": "ef266aec-7303-4be3-df60-cda13bce73ef"
      },
      "source": [
        "from google.colab import drive\n",
        "drive.mount('/content/drive')\n",
        "\n",
        "!pip install  pickle5\n",
        "\n",
        "import pickle5 as pickle\n",
        "import xlwt\n",
        "import pandas as pd\n",
        "import numpy as np\n",
        "import seaborn as sns\n",
        "import matplotlib.pyplot as plt\n",
        "import time\n",
        "from scipy import stats\n",
        "from datetime import datetime, timedelta\n",
        "from IPython.display import display, clear_output, HTML\n",
        "from sklearn.feature_selection import mutual_info_classif\n",
        "from os import path\n",
        "from PIL import Image\n",
        "from wordcloud import WordCloud, STOPWORDS, ImageColorGenerator"
      ],
      "id": "izr5nEWYWg1Q",
      "execution_count": 9,
      "outputs": [
        {
          "output_type": "stream",
          "text": [
            "Drive already mounted at /content/drive; to attempt to forcibly remount, call drive.mount(\"/content/drive\", force_remount=True).\n",
            "Requirement already satisfied: pickle5 in /usr/local/lib/python3.7/dist-packages (0.0.11)\n"
          ],
          "name": "stdout"
        }
      ]
    },
    {
      "cell_type": "markdown",
      "metadata": {
        "id": "EyF6ZVwMst_p"
      },
      "source": [
        "### Definitions (paths, parameters...)"
      ],
      "id": "EyF6ZVwMst_p"
    },
    {
      "cell_type": "code",
      "metadata": {
        "id": "zVHDB7sPs_gm"
      },
      "source": [
        "root = 'drive/MyDrive/gdt data/'\n",
        "eventfile = root+'2021_GDT_Warning_Events.pkl'\n",
        "curtailmentfile = root+'2021_GDT_curtailment.pkl'\n",
        "setpointfile = root+'2021_GDT_setpoint.pkl'\n",
        "windfile = root+'2021_GDT_wind.pkl'\n",
        "alarmfile = root+'2021_GDT_alarms.pkl'\n",
        "\n",
        "# Thomas' files for validation\n",
        "Val_GDT004 = root+'GDT004_2020_now'\n",
        "Val_GDT005 = root+'GDT005_2020_now'\n",
        "Val_GDT022 = root+'GDT022_2020_now'\n",
        "Val_GDT024 = root+'GDT024_2020_now'\n",
        "Val_GDT025 = root+'GDT025_2020_now'"
      ],
      "id": "zVHDB7sPs_gm",
      "execution_count": 10,
      "outputs": []
    },
    {
      "cell_type": "markdown",
      "metadata": {
        "id": "66H3ZKixtDdQ"
      },
      "source": [
        "### loading data"
      ],
      "id": "66H3ZKixtDdQ"
    },
    {
      "cell_type": "code",
      "metadata": {
        "id": "oefgh7VdDbTt"
      },
      "source": [
        "with open(setpointfile, \"rb\") as fh:\n",
        "  SCADA_setpoint = pickle.load(fh)\n",
        "\n",
        "with open(eventfile, \"rb\") as fh:\n",
        "  turbine_events = pickle.load(fh)\n",
        "\n",
        "with open(curtailmentfile, \"rb\") as fh:\n",
        "  curtailment_reports = pickle.load(fh)\n",
        "\n",
        "with open(windfile, \"rb\") as fh:\n",
        "  SCADA_wind = pickle.load(fh)\n",
        "\n",
        "with open(alarmfile, \"rb\") as fh:\n",
        "  turbine_alarms = pickle.load(fh)"
      ],
      "id": "oefgh7VdDbTt",
      "execution_count": 11,
      "outputs": []
    },
    {
      "cell_type": "code",
      "metadata": {
        "id": "2P_69mtoxiUA"
      },
      "source": [
        "with open(Val_GDT004, \"rb\") as fh:\n",
        "  Val_GDT004 = pickle.load(fh)\n",
        "with open(Val_GDT005, \"rb\") as fh:\n",
        "  Val_GDT005 = pickle.load(fh)\n",
        "with open(Val_GDT022, \"rb\") as fh:\n",
        "  Val_GDT022 = pickle.load(fh)\n",
        "with open(Val_GDT024, \"rb\") as fh:\n",
        "  Val_GDT024 = pickle.load(fh)\n",
        "with open(Val_GDT025, \"rb\") as fh:\n",
        "  Val_GDT025 = pickle.load(fh)"
      ],
      "id": "2P_69mtoxiUA",
      "execution_count": 12,
      "outputs": []
    },
    {
      "cell_type": "code",
      "metadata": {
        "id": "Y5NtlciMtTSs"
      },
      "source": [
        "if 'Querydate' in curtailment_reports:\n",
        "  curtailment_reports = curtailment_reports.drop(['Querydate', 'From_Local', 'To_Local', 'Duration', 'Comment', 'Id', 'LostProduction', 'Park', 'Production', 'ProductionLostTotal', 'ProductionTotal'], axis = 1)\n",
        "if 'From_UTC' in curtailment_reports:\n",
        "  # Rounding to closest 10 mins is a possible source of model bias\n",
        "  curtailment_reports['From'] = curtailment_reports['From_UTC'].dt.floor('10min')\n",
        "  curtailment_reports['To'] = curtailment_reports['To_UTC'].dt.round('10min')\n",
        "  curtailment_reports = curtailment_reports.drop(['From_UTC', 'To_UTC'], axis=1)"
      ],
      "id": "Y5NtlciMtTSs",
      "execution_count": 13,
      "outputs": []
    },
    {
      "cell_type": "code",
      "metadata": {
        "id": "gHXz8ztdQZ9y"
      },
      "source": [
        "turbine_alarms['ErrorType'] = 'Alarm'\n",
        "if 'Unit' in turbine_alarms:\n",
        "  turbine_alarms['Turbine'] = turbine_alarms['Unit']\n",
        "  turbine_alarms = turbine_alarms.drop(['Unit'], axis=1)\n",
        "\"\"\"\n",
        "if 'From_Floor' in turbine_alarms:\n",
        "  turbine_alarms['From'] = turbine_alarms['From_Floor']\n",
        "  turbine_alarms['To'] = turbine_alarms['To_Floor']\n",
        "  turbine_alarms = turbine_alarms.drop(['From_Floor', 'To_Floor'], axis=1)\n",
        "\"\"\"\n",
        "if 'From_UTC' in turbine_alarms:\n",
        "  turbine_alarms['From'] = turbine_alarms['From_UTC'].dt.floor('10min') #possible cause for missed correlations if curtailment triggers shortly after event\n",
        "  turbine_alarms['To'] = turbine_alarms['To_UTC'].dt.round('10min') # round should alleviate the above-stated problem\n",
        "  turbine_alarms = turbine_alarms.drop(['From_UTC', 'To_UTC'], axis=1)\n",
        "\n",
        "if 'AlarmTxt' in turbine_alarms:\n",
        "  turbine_alarms['Text'] = turbine_alarms['AlarmTxt']\n",
        "  turbine_alarms = turbine_alarms.drop(['AlarmTxt'], axis=1)\n",
        "\n",
        "if 'AlarmCode' in turbine_alarms:\n",
        "  turbine_alarms['ErrorCode'] = turbine_alarms['AlarmCode']\n",
        "  turbine_alarms = turbine_alarms.drop(['AlarmCode'], axis=1)\n"
      ],
      "id": "gHXz8ztdQZ9y",
      "execution_count": 14,
      "outputs": []
    },
    {
      "cell_type": "code",
      "metadata": {
        "id": "37ed209d",
        "colab": {
          "base_uri": "https://localhost:8080/"
        },
        "outputId": "9c5f4535-a206-4b26-c0cc-5b3bf79db491"
      },
      "source": [
        "rename = [col for col in SCADA_setpoint.columns if 'WTUR11_WSpt_val_max' in col]\n",
        "\n",
        "print('turbine events length:', len(turbine_events))\n",
        "print('turbine alarms length:', len(turbine_alarms))\n",
        "\n",
        "\n",
        "if len(rename) > 0:\n",
        "    df['Tag'] = 'WTUR11_WSpt_val'\n",
        "    df['Value'] = df['WTUR11_WSpt_val_max']\n",
        "    df['Timestamp'] = df['StartTime']\n",
        "\n",
        "if 'Unit' in turbine_events:\n",
        "  turbine_events['Turbine'] = turbine_events['Unit']\n",
        "  turbine_events = turbine_events.drop(['Unit'], axis=1)\n",
        "if 'From_Floor' in turbine_events:\n",
        "  turbine_events['From'] = turbine_events['From_Floor']\n",
        "  turbine_events['To'] = turbine_events['To_Floor']\n",
        "  turbine_events = turbine_events.drop(['From_Floor', 'To_Floor'], axis=1)\n",
        "if 'From_UTC' in turbine_events:\n",
        "  turbine_events['From'] = turbine_events['From_UTC'].dt.floor('10min') #possible cause for missed correlations if curtailment triggers shortly after event\n",
        "  turbine_events['To'] = turbine_events['To_UTC'].dt.round('10min') # round should alleviate the above-stated problem\n",
        "  turbine_events = turbine_events.drop(['From_UTC', 'To_UTC'], axis=1)\n",
        "if 'ID' in turbine_events:\n",
        "  turbine_events = turbine_events.drop(['ID', 'Source', 'CustomText', 'Wallclock_UTC', 'CommFailure', 'MayTrigger', 'RemoteID', 'Created_UTC', 'ErrorListID', 'RowLastUpdated'], axis=1)\n",
        "turbine_events =  pd.concat([turbine_events ,turbine_alarms], ignore_index=True) #merge alarms and events into one dataframe\n",
        "\n",
        "turbine_events['Duration'] = turbine_events.To - turbine_events.From\n",
        "\n",
        "print('length after merging:', len(turbine_events))"
      ],
      "id": "37ed209d",
      "execution_count": 15,
      "outputs": [
        {
          "output_type": "stream",
          "text": [
            "turbine events length: 87609\n",
            "turbine alarms length: 3415\n",
            "length after merging: 91024\n"
          ],
          "name": "stdout"
        }
      ]
    },
    {
      "cell_type": "code",
      "metadata": {
        "colab": {
          "base_uri": "https://localhost:8080/"
        },
        "id": "mVJ3igtzSX6Z",
        "outputId": "395b928b-af06-4bfc-ffe6-2677d6cf0764"
      },
      "source": [
        "long_events = (turbine_events['To'] - turbine_events['From']  < pd.Timedelta(value=31, unit='days'))\n",
        "print('Number of events that exceed one month: ', len(long_events[long_events == False]))\n",
        "turbine_events = turbine_events[long_events]\n",
        "print('Remaining length: ', len(turbine_events))"
      ],
      "id": "mVJ3igtzSX6Z",
      "execution_count": 16,
      "outputs": [
        {
          "output_type": "stream",
          "text": [
            "Number of events that exceed one month:  293\n",
            "Remaining length:  90731\n"
          ],
          "name": "stdout"
        }
      ]
    },
    {
      "cell_type": "markdown",
      "metadata": {
        "id": "mOOdfF12Xm8a"
      },
      "source": [
        "Removing events that are longer than one month."
      ],
      "id": "mOOdfF12Xm8a"
    },
    {
      "cell_type": "markdown",
      "metadata": {
        "id": "3VLBJQ36uGLh"
      },
      "source": [
        "## Model functions: information gathering and rule-based alaysis"
      ],
      "id": "3VLBJQ36uGLh"
    },
    {
      "cell_type": "markdown",
      "metadata": {
        "id": "_ls6LXB6uPwx"
      },
      "source": [
        "### Utility"
      ],
      "id": "_ls6LXB6uPwx"
    },
    {
      "cell_type": "code",
      "metadata": {
        "id": "kOdnHeIMufDZ"
      },
      "source": [
        "def navigator(*argv, function=None):\n",
        "    \"\"\"\n",
        "    Small CLI-style function that helps to sequentially execute commands \n",
        "    on user input.\n",
        "    type \"y\" to continue and \"n\" to exit\n",
        "\n",
        "    Args:\n",
        "        function to be executed, takes an integer as parameter\n",
        "\n",
        "    Returns:\n",
        "        Nothing\n",
        "    \"\"\"\n",
        "\n",
        "    counter = 0\n",
        "    while(True):\n",
        "      print('index ', counter, ' ...continue?')\n",
        "      val = input()\n",
        "      if val == 'n':\n",
        "        break\n",
        "      else:\n",
        "        function(argv, i=counter)\n",
        "      counter += 1\n",
        "\n",
        "def within_margin(target_value, comparison_value, maxval: int, difference_ratio=0.02):\n",
        "    \"\"\"\n",
        "    Evaluate whether the target value falls into a interval around the\n",
        "    comparison value. The interval is defined as percentage of the maximum value\n",
        "    for the dataset. This is used to determine oscillating values pertaining to\n",
        "    the same curtailment event (controller curtailment) and gradual change\n",
        "    as opposed to constant values (technician curtailment). \n",
        "\n",
        "    Args:\n",
        "        target_value: the value or vector of values being compared/checked\n",
        "        comparison value: the value or vector of values \n",
        "        at the center of the interval\n",
        "        maxval: the highest value in the dataset\n",
        "        difference_ratio: the ratio that defines the interval\n",
        "\n",
        "    Returns:\n",
        "        True if target_value is close enough to comparison_value. False othewise.\n",
        "    \"\"\"\n",
        "\n",
        "    return np.abs(target_value-comparison_value) < (maxval * difference_ratio )\n",
        "\n",
        "def progress(value: float, max=100):\n",
        "    \"\"\"Display progress bar for execution\n",
        "\n",
        "    Args:\n",
        "        value: progress value\n",
        "        max: maximum value of progress (default 100)\n",
        "\n",
        "    Returns:\n",
        "        Html progress bar\n",
        "\n",
        "    \"\"\"\n",
        "    return HTML(\"\"\"\n",
        "        <progress\n",
        "            value='{value}'\n",
        "            max='{max}',\n",
        "            style='width: 100%'\n",
        "        >\n",
        "            {value}\n",
        "        </progress>\n",
        "    \"\"\".format(value=value, max=max))\n",
        "\n",
        "def during(start1: pd.Timestamp, end1: pd.Timestamp, end2: pd.Timestamp):\n",
        "    \"\"\"Check whether event 1 is happening during event 2 \n",
        "    (check for positive overlap of the two events)\n",
        "\n",
        "    Args:\n",
        "        start1: Timestamp indicating the start of event 1\n",
        "        end1: Timestamp indicating the end of event 1\n",
        "        end2: Timestamp indicating the end of event 2\n",
        "\n",
        "    Returns:\n",
        "        True if event 2 happens (partly) during event 1, False otherwise\n",
        "\n",
        "    \"\"\"\n",
        "\n",
        "    latest = max(start1, end2)\n",
        "    earliest = min(end1, end2)\n",
        "    delta = pd.Timedelta((earliest - latest)).total_seconds()\n",
        "    \n",
        "    if delta < 0:\n",
        "        return False\n",
        "    return True"
      ],
      "id": "kOdnHeIMufDZ",
      "execution_count": 17,
      "outputs": []
    },
    {
      "cell_type": "markdown",
      "metadata": {
        "id": "i0MthZWIo98T"
      },
      "source": [
        "### Reflections and statistics about turbine data"
      ],
      "id": "i0MthZWIo98T"
    },
    {
      "cell_type": "code",
      "metadata": {
        "colab": {
          "base_uri": "https://localhost:8080/"
        },
        "id": "R50ateO4zgte",
        "outputId": "6b1ba7e2-a065-4f10-c9df-d5a2dcf0de07"
      },
      "source": [
        "len(SCADA_setpoint['Turbine'].unique())"
      ],
      "id": "R50ateO4zgte",
      "execution_count": 18,
      "outputs": [
        {
          "output_type": "execute_result",
          "data": {
            "text/plain": [
              "80"
            ]
          },
          "metadata": {
            "tags": []
          },
          "execution_count": 18
        }
      ]
    },
    {
      "cell_type": "markdown",
      "metadata": {
        "id": "WDzIDGMmz4-M"
      },
      "source": [
        "Number of turbines in park."
      ],
      "id": "WDzIDGMmz4-M"
    },
    {
      "cell_type": "code",
      "metadata": {
        "colab": {
          "base_uri": "https://localhost:8080/"
        },
        "id": "1lirgkUBpRJb",
        "outputId": "b3774a24-a9bf-4b8d-ab02-010048c43c89"
      },
      "source": [
        "max_val = SCADA_setpoint['Value'].max()\n",
        "max_val"
      ],
      "id": "1lirgkUBpRJb",
      "execution_count": 19,
      "outputs": [
        {
          "output_type": "execute_result",
          "data": {
            "text/plain": [
              "3600.0"
            ]
          },
          "metadata": {
            "tags": []
          },
          "execution_count": 19
        }
      ]
    },
    {
      "cell_type": "markdown",
      "metadata": {
        "id": "eH_RPcafpVvd"
      },
      "source": [
        "rated power of the Siemens turbines deployed at GDT is 3600 kW. Cut-in wind speed : 3.5 m/s, Rated-end: 24 m/s, Cut-out: 25 m/s (High wind ride through suspected, but often not reported)"
      ],
      "id": "eH_RPcafpVvd"
    },
    {
      "cell_type": "code",
      "metadata": {
        "colab": {
          "base_uri": "https://localhost:8080/"
        },
        "id": "zJRHoXXfp1Qi",
        "outputId": "e2c469b5-7beb-4f83-926e-f7c917d2969a"
      },
      "source": [
        "avg_events = turbine_events.groupby(\"Turbine\", axis=0)[\"ErrorCode\"].count().mean()\n",
        "print(avg_events)"
      ],
      "id": "zJRHoXXfp1Qi",
      "execution_count": 20,
      "outputs": [
        {
          "output_type": "stream",
          "text": [
            "1134.1375\n"
          ],
          "name": "stdout"
        }
      ]
    },
    {
      "cell_type": "markdown",
      "metadata": {
        "id": "TjXsH4WZqi6m"
      },
      "source": [
        "Average number of events (alarms included) per Turbine."
      ],
      "id": "TjXsH4WZqi6m"
    },
    {
      "cell_type": "code",
      "metadata": {
        "colab": {
          "base_uri": "https://localhost:8080/"
        },
        "id": "rCFnucCgyXl7",
        "outputId": "f790d929-ac3b-48aa-a095-3fd301df5576"
      },
      "source": [
        "avg_unique_events = turbine_events.groupby(\"Turbine\", axis=0)[\"ErrorCode\"].nunique().mean()\n",
        "avg_unique_events"
      ],
      "id": "rCFnucCgyXl7",
      "execution_count": 21,
      "outputs": [
        {
          "output_type": "execute_result",
          "data": {
            "text/plain": [
              "65.425"
            ]
          },
          "metadata": {
            "tags": []
          },
          "execution_count": 21
        }
      ]
    },
    {
      "cell_type": "markdown",
      "metadata": {
        "id": "UihAE6pby5xc"
      },
      "source": [
        "Average number of unique event codes per Turbine."
      ],
      "id": "UihAE6pby5xc"
    },
    {
      "cell_type": "code",
      "metadata": {
        "colab": {
          "base_uri": "https://localhost:8080/"
        },
        "id": "bVusOF03nJMZ",
        "outputId": "7c91298f-b7cc-4c44-e5b9-bfee4da01718"
      },
      "source": [
        "print(len(curtailment_reports), ' reported curtailments', ' between ', curtailment_reports.From.min(), ' and ', curtailment_reports['To'].max())"
      ],
      "id": "bVusOF03nJMZ",
      "execution_count": 22,
      "outputs": [
        {
          "output_type": "stream",
          "text": [
            "39  reported curtailments  between  2021-01-03 12:20:00  and  2021-05-19 18:10:00\n"
          ],
          "name": "stdout"
        }
      ]
    },
    {
      "cell_type": "code",
      "metadata": {
        "colab": {
          "base_uri": "https://localhost:8080/"
        },
        "id": "qYUH4vqyrFcP",
        "outputId": "558e5474-295f-4c3d-82b7-2c91af7fd180"
      },
      "source": [
        "avg_len_data = SCADA_wind.groupby(\"Turbine\", axis=0)['Value'].count().mean()\n",
        "print(\"average number of data points per turbine: \", avg_len_data )\n",
        "avg_number_of_data_points_below_cut_in = SCADA_wind[SCADA_wind['Value'] <= 3.5].groupby(\"Turbine\", axis=0)['Value'].count().mean()\n",
        "print(\"average number of data points below cut in power per turbine: \", round(avg_number_of_data_points_below_cut_in,2))\n",
        "print(\"percentage of data points below cut in: \", round(avg_number_of_data_points_below_cut_in/avg_len_data*100, 4), \"%\")\n",
        "avg_number_of_data_points_above_rated = SCADA_wind[SCADA_wind['Value'] >= 24].groupby(\"Turbine\", axis=0)['Value'].count().mean()\n",
        "print(\"average number of data points above rated power per turbine: \", round(avg_number_of_data_points_above_rated, 4))\n",
        "print(\"percentage of data points in possible HWRT zone: \", round(avg_number_of_data_points_above_rated/avg_len_data*100, 4), \"%\")"
      ],
      "id": "qYUH4vqyrFcP",
      "execution_count": 23,
      "outputs": [
        {
          "output_type": "stream",
          "text": [
            "average number of data points per turbine:  16672.1625\n",
            "average number of data points below cut in power per turbine:  1794.97\n",
            "percentage of data points below cut in:  10.7663 %\n",
            "average number of data points above rated power per turbine:  36.1538\n",
            "percentage of data points in possible HWRT zone:  0.2169 %\n"
          ],
          "name": "stdout"
        }
      ]
    },
    {
      "cell_type": "markdown",
      "metadata": {
        "id": "_gckrMlpBB9v"
      },
      "source": [
        "Even though the model has a rule to flag potential instances of High Wind Ride Through, this has a minor impact, as the occurences of very high windspeed are merely **0.2%** of the data"
      ],
      "id": "_gckrMlpBB9v"
    },
    {
      "cell_type": "code",
      "metadata": {
        "colab": {
          "base_uri": "https://localhost:8080/"
        },
        "id": "qqeHN7kWk_nb",
        "outputId": "576e5230-b9a2-48fd-f30d-f6cdb516ca4d"
      },
      "source": [
        "setpoint = SCADA_setpoint.pivot_table(index=['Timestamp'], columns=['Turbine'])\n",
        "\n",
        "highest_number_of_nan = setpoint.isna().sum().max()\n",
        "average_number_of_nan = setpoint.isna().sum().mean()\n",
        "avg_num_of_datapoint = setpoint.count().mean()\n",
        "print('highest number of nans after regrouping into timeseries: ', highest_number_of_nan)\n",
        "print('average number of nans after regrouping into timeseries: ', average_number_of_nan)\n",
        "print('average number of datapoints in total: ', avg_num_of_datapoint)\n",
        "print('As percentages. avg: ', round((average_number_of_nan/avg_num_of_datapoint)*100, 2), '%. max: ', round((highest_number_of_nan/avg_num_of_datapoint)*100, 2), '%')\n",
        "\n",
        "setpoint = setpoint.stack().swaplevel(i='Turbine', j='Timestamp')\n",
        "print('Length of turbine dataframe after stacking: ', len(setpoint.xs('GDT058', level='Turbine')), 'compared to max length: ', SCADA_setpoint.groupby(\"Turbine\", axis=0)['Value'].count().max())\n"
      ],
      "id": "qqeHN7kWk_nb",
      "execution_count": 24,
      "outputs": [
        {
          "output_type": "stream",
          "text": [
            "highest number of nans after regrouping into timeseries:  2841\n",
            "average number of nans after regrouping into timeseries:  417.3875\n",
            "average number of datapoints in total:  16673.6125\n",
            "As percentages. avg:  2.5 %. max:  17.04 %\n",
            "Length of turbine dataframe after stacking:  14250 compared to max length:  17078\n"
          ],
          "name": "stdout"
        }
      ]
    },
    {
      "cell_type": "markdown",
      "metadata": {
        "id": "sOt9vEMr2pDe"
      },
      "source": [
        "Regrouping SCADA tags into a time series represents a big challenge: how to deal with NaN values?\n",
        "\n",
        "In theory, the **average number of NaN's is accetably low -  2.5%** of values are NaN. However, most NaN values are **stacked and concentrated** in data of Turbines with lots of missing data. In primis, **17% of the data for Turbine 58 are NaN values**.\n",
        "\n",
        "Fortunately, this is not a problem for Turbine-specific operations, as the NaN rows are removed when extracting a cross-section from the pivot table.\n",
        "\n",
        "For aggregated park operations, however, this will be a major issue.  Currently, NaN values are **backfilled** with the next valid value. This approach might have to be reevaluated. "
      ],
      "id": "sOt9vEMr2pDe"
    },
    {
      "cell_type": "markdown",
      "metadata": {
        "id": "9gV193e1CyLX"
      },
      "source": [
        "TODO: find the spot with high wind outliers again and document it."
      ],
      "id": "9gV193e1CyLX"
    },
    {
      "cell_type": "code",
      "metadata": {
        "colab": {
          "base_uri": "https://localhost:8080/",
          "height": 0
        },
        "id": "bE8czQ5too6f",
        "outputId": "35eeb389-3ec2-49a1-ccb2-23a3307675ff"
      },
      "source": [
        "turbine_events['Duration'] = turbine_events.To - turbine_events.From\n",
        "turbine_events[turbine_events.ErrorCode == 5112].sort_values(by=['Duration'], ascending=False).head(10)"
      ],
      "id": "bE8czQ5too6f",
      "execution_count": 25,
      "outputs": [
        {
          "output_type": "execute_result",
          "data": {
            "text/html": [
              "<div>\n",
              "<style scoped>\n",
              "    .dataframe tbody tr th:only-of-type {\n",
              "        vertical-align: middle;\n",
              "    }\n",
              "\n",
              "    .dataframe tbody tr th {\n",
              "        vertical-align: top;\n",
              "    }\n",
              "\n",
              "    .dataframe thead th {\n",
              "        text-align: right;\n",
              "    }\n",
              "</style>\n",
              "<table border=\"1\" class=\"dataframe\">\n",
              "  <thead>\n",
              "    <tr style=\"text-align: right;\">\n",
              "      <th></th>\n",
              "      <th>ErrorCode</th>\n",
              "      <th>Text</th>\n",
              "      <th>ErrorType</th>\n",
              "      <th>Turbine</th>\n",
              "      <th>From</th>\n",
              "      <th>To</th>\n",
              "      <th>Duration</th>\n",
              "    </tr>\n",
              "  </thead>\n",
              "  <tbody>\n",
              "    <tr>\n",
              "      <th>76643</th>\n",
              "      <td>5112</td>\n",
              "      <td>Gridvolt.&lt;lower limit3</td>\n",
              "      <td>Alarm</td>\n",
              "      <td>GDT018</td>\n",
              "      <td>2021-01-07 15:10:00</td>\n",
              "      <td>2021-01-14 15:00:00</td>\n",
              "      <td>6 days 23:50:00</td>\n",
              "    </tr>\n",
              "    <tr>\n",
              "      <th>76990</th>\n",
              "      <td>5112</td>\n",
              "      <td>Gridvolt.&lt;lower limit3</td>\n",
              "      <td>Alarm</td>\n",
              "      <td>GDT016</td>\n",
              "      <td>2021-01-09 16:00:00</td>\n",
              "      <td>2021-01-14 13:30:00</td>\n",
              "      <td>4 days 21:30:00</td>\n",
              "    </tr>\n",
              "    <tr>\n",
              "      <th>81523</th>\n",
              "      <td>5112</td>\n",
              "      <td>Gridvolt.&lt;lower limit3</td>\n",
              "      <td>Alarm</td>\n",
              "      <td>GDT015</td>\n",
              "      <td>2021-01-04 03:40:00</td>\n",
              "      <td>2021-01-08 13:50:00</td>\n",
              "      <td>4 days 10:10:00</td>\n",
              "    </tr>\n",
              "    <tr>\n",
              "      <th>5501</th>\n",
              "      <td>5112</td>\n",
              "      <td>Gridvolt.&lt;lower limit3</td>\n",
              "      <td>Alarm</td>\n",
              "      <td>GDT019</td>\n",
              "      <td>2021-04-23 06:30:00</td>\n",
              "      <td>2021-04-26 10:00:00</td>\n",
              "      <td>3 days 03:30:00</td>\n",
              "    </tr>\n",
              "    <tr>\n",
              "      <th>5771</th>\n",
              "      <td>5112</td>\n",
              "      <td>Gridvolt.&lt;lower limit3</td>\n",
              "      <td>Alarm</td>\n",
              "      <td>GDT033</td>\n",
              "      <td>2021-04-22 17:40:00</td>\n",
              "      <td>2021-04-25 13:30:00</td>\n",
              "      <td>2 days 19:50:00</td>\n",
              "    </tr>\n",
              "    <tr>\n",
              "      <th>79689</th>\n",
              "      <td>5112</td>\n",
              "      <td>Gridvolt.&lt;lower limit3</td>\n",
              "      <td>Alarm</td>\n",
              "      <td>GDT017</td>\n",
              "      <td>2021-01-07 12:20:00</td>\n",
              "      <td>2021-01-09 16:10:00</td>\n",
              "      <td>2 days 03:50:00</td>\n",
              "    </tr>\n",
              "    <tr>\n",
              "      <th>15228</th>\n",
              "      <td>5112</td>\n",
              "      <td>Gridvolt.&lt;lower limit3</td>\n",
              "      <td>Alarm</td>\n",
              "      <td>GDT017</td>\n",
              "      <td>2021-04-13 13:10:00</td>\n",
              "      <td>2021-04-15 12:40:00</td>\n",
              "      <td>1 days 23:30:00</td>\n",
              "    </tr>\n",
              "    <tr>\n",
              "      <th>14191</th>\n",
              "      <td>5112</td>\n",
              "      <td>Gridvolt.&lt;lower limit3</td>\n",
              "      <td>Alarm</td>\n",
              "      <td>GDT017</td>\n",
              "      <td>2021-04-15 12:40:00</td>\n",
              "      <td>2021-04-17 10:00:00</td>\n",
              "      <td>1 days 21:20:00</td>\n",
              "    </tr>\n",
              "    <tr>\n",
              "      <th>79793</th>\n",
              "      <td>5112</td>\n",
              "      <td>Gridvolt.&lt;lower limit3</td>\n",
              "      <td>Alarm</td>\n",
              "      <td>GDT016</td>\n",
              "      <td>2021-01-07 20:40:00</td>\n",
              "      <td>2021-01-09 14:40:00</td>\n",
              "      <td>1 days 18:00:00</td>\n",
              "    </tr>\n",
              "    <tr>\n",
              "      <th>76892</th>\n",
              "      <td>5112</td>\n",
              "      <td>Gridvolt.&lt;lower limit3</td>\n",
              "      <td>Alarm</td>\n",
              "      <td>GDT037</td>\n",
              "      <td>2021-01-13 00:20:00</td>\n",
              "      <td>2021-01-14 13:50:00</td>\n",
              "      <td>1 days 13:30:00</td>\n",
              "    </tr>\n",
              "  </tbody>\n",
              "</table>\n",
              "</div>"
            ],
            "text/plain": [
              "       ErrorCode                    Text  ...                  To        Duration\n",
              "76643       5112  Gridvolt.<lower limit3  ... 2021-01-14 15:00:00 6 days 23:50:00\n",
              "76990       5112  Gridvolt.<lower limit3  ... 2021-01-14 13:30:00 4 days 21:30:00\n",
              "81523       5112  Gridvolt.<lower limit3  ... 2021-01-08 13:50:00 4 days 10:10:00\n",
              "5501        5112  Gridvolt.<lower limit3  ... 2021-04-26 10:00:00 3 days 03:30:00\n",
              "5771        5112  Gridvolt.<lower limit3  ... 2021-04-25 13:30:00 2 days 19:50:00\n",
              "79689       5112  Gridvolt.<lower limit3  ... 2021-01-09 16:10:00 2 days 03:50:00\n",
              "15228       5112  Gridvolt.<lower limit3  ... 2021-04-15 12:40:00 1 days 23:30:00\n",
              "14191       5112  Gridvolt.<lower limit3  ... 2021-04-17 10:00:00 1 days 21:20:00\n",
              "79793       5112  Gridvolt.<lower limit3  ... 2021-01-09 14:40:00 1 days 18:00:00\n",
              "76892       5112  Gridvolt.<lower limit3  ... 2021-01-14 13:50:00 1 days 13:30:00\n",
              "\n",
              "[10 rows x 7 columns]"
            ]
          },
          "metadata": {
            "tags": []
          },
          "execution_count": 25
        }
      ]
    },
    {
      "cell_type": "markdown",
      "metadata": {
        "id": "QhBWeZLbpAuf"
      },
      "source": [
        "Event **5112** has been investigated in an ad-hoc request by the Analytics team and has shown some **connection to curtailment**. Unfortunately, the longest duration event (almost 7 days) on turbine GDT018 has **no setpoint data at all for that period**. **Production is also zero** for that period."
      ],
      "id": "QhBWeZLbpAuf"
    },
    {
      "cell_type": "code",
      "metadata": {
        "colab": {
          "base_uri": "https://localhost:8080/",
          "height": 0
        },
        "id": "LpU1Q8a8pdzn",
        "outputId": "e4303d97-eacf-47e4-f215-3cd72ea7243b"
      },
      "source": [
        "SCADA_setpoint[SCADA_setpoint.Turbine == 'GDT015'].sort_values(by='Timestamp').set_index(['Timestamp']).loc[\"2021-01-04 03:30:00\":\"2021-01-08 14:00:00\"]"
      ],
      "id": "LpU1Q8a8pdzn",
      "execution_count": 26,
      "outputs": [
        {
          "output_type": "execute_result",
          "data": {
            "text/html": [
              "<div>\n",
              "<style scoped>\n",
              "    .dataframe tbody tr th:only-of-type {\n",
              "        vertical-align: middle;\n",
              "    }\n",
              "\n",
              "    .dataframe tbody tr th {\n",
              "        vertical-align: top;\n",
              "    }\n",
              "\n",
              "    .dataframe thead th {\n",
              "        text-align: right;\n",
              "    }\n",
              "</style>\n",
              "<table border=\"1\" class=\"dataframe\">\n",
              "  <thead>\n",
              "    <tr style=\"text-align: right;\">\n",
              "      <th></th>\n",
              "      <th>Value</th>\n",
              "      <th>Tag</th>\n",
              "      <th>Turbine</th>\n",
              "    </tr>\n",
              "    <tr>\n",
              "      <th>Timestamp</th>\n",
              "      <th></th>\n",
              "      <th></th>\n",
              "      <th></th>\n",
              "    </tr>\n",
              "  </thead>\n",
              "  <tbody>\n",
              "    <tr>\n",
              "      <th>2021-01-04 03:30:00</th>\n",
              "      <td>1573.0</td>\n",
              "      <td>WTUR11_WSpt_val</td>\n",
              "      <td>GDT015</td>\n",
              "    </tr>\n",
              "    <tr>\n",
              "      <th>2021-01-04 03:40:00</th>\n",
              "      <td>1665.0</td>\n",
              "      <td>WTUR11_WSpt_val</td>\n",
              "      <td>GDT015</td>\n",
              "    </tr>\n",
              "    <tr>\n",
              "      <th>2021-01-04 03:50:00</th>\n",
              "      <td>0.0</td>\n",
              "      <td>WTUR11_WSpt_val</td>\n",
              "      <td>GDT015</td>\n",
              "    </tr>\n",
              "    <tr>\n",
              "      <th>2021-01-04 04:00:00</th>\n",
              "      <td>0.0</td>\n",
              "      <td>WTUR11_WSpt_val</td>\n",
              "      <td>GDT015</td>\n",
              "    </tr>\n",
              "    <tr>\n",
              "      <th>2021-01-04 04:10:00</th>\n",
              "      <td>0.0</td>\n",
              "      <td>WTUR11_WSpt_val</td>\n",
              "      <td>GDT015</td>\n",
              "    </tr>\n",
              "    <tr>\n",
              "      <th>2021-01-04 04:20:00</th>\n",
              "      <td>0.0</td>\n",
              "      <td>WTUR11_WSpt_val</td>\n",
              "      <td>GDT015</td>\n",
              "    </tr>\n",
              "    <tr>\n",
              "      <th>2021-01-04 04:30:00</th>\n",
              "      <td>0.0</td>\n",
              "      <td>WTUR11_WSpt_val</td>\n",
              "      <td>GDT015</td>\n",
              "    </tr>\n",
              "    <tr>\n",
              "      <th>2021-01-08 13:40:00</th>\n",
              "      <td>3600.0</td>\n",
              "      <td>WTUR11_WSpt_val</td>\n",
              "      <td>GDT015</td>\n",
              "    </tr>\n",
              "    <tr>\n",
              "      <th>2021-01-08 13:50:00</th>\n",
              "      <td>124.0</td>\n",
              "      <td>WTUR11_WSpt_val</td>\n",
              "      <td>GDT015</td>\n",
              "    </tr>\n",
              "    <tr>\n",
              "      <th>2021-01-08 14:00:00</th>\n",
              "      <td>3600.0</td>\n",
              "      <td>WTUR11_WSpt_val</td>\n",
              "      <td>GDT015</td>\n",
              "    </tr>\n",
              "  </tbody>\n",
              "</table>\n",
              "</div>"
            ],
            "text/plain": [
              "                      Value              Tag Turbine\n",
              "Timestamp                                           \n",
              "2021-01-04 03:30:00  1573.0  WTUR11_WSpt_val  GDT015\n",
              "2021-01-04 03:40:00  1665.0  WTUR11_WSpt_val  GDT015\n",
              "2021-01-04 03:50:00     0.0  WTUR11_WSpt_val  GDT015\n",
              "2021-01-04 04:00:00     0.0  WTUR11_WSpt_val  GDT015\n",
              "2021-01-04 04:10:00     0.0  WTUR11_WSpt_val  GDT015\n",
              "2021-01-04 04:20:00     0.0  WTUR11_WSpt_val  GDT015\n",
              "2021-01-04 04:30:00     0.0  WTUR11_WSpt_val  GDT015\n",
              "2021-01-08 13:40:00  3600.0  WTUR11_WSpt_val  GDT015\n",
              "2021-01-08 13:50:00   124.0  WTUR11_WSpt_val  GDT015\n",
              "2021-01-08 14:00:00  3600.0  WTUR11_WSpt_val  GDT015"
            ]
          },
          "metadata": {
            "tags": []
          },
          "execution_count": 26
        }
      ]
    },
    {
      "cell_type": "markdown",
      "metadata": {
        "id": "Q0BNVTlhpojn"
      },
      "source": [
        "As shown here for turbine GDT015, The timestamps where event 5112 is active have no discernable pattern: the setpoint is 0 at times and at full rated power at others."
      ],
      "id": "Q0BNVTlhpojn"
    },
    {
      "cell_type": "markdown",
      "metadata": {
        "id": "rDQ2FP4x3su_"
      },
      "source": [
        "### Turbine specific functions"
      ],
      "id": "rDQ2FP4x3su_"
    },
    {
      "cell_type": "markdown",
      "metadata": {
        "id": "26U6tybzg0cI"
      },
      "source": [
        "#### Event-related\n"
      ],
      "id": "26U6tybzg0cI"
    },
    {
      "cell_type": "code",
      "metadata": {
        "id": "a8RYDXLlg74v"
      },
      "source": [
        "def expand_dummy_event_columns(turbine_curtailments: pd.DataFrame, turbine_events: pd.DataFrame, missing_as_na=False):\n",
        "  \"\"\"\n",
        "  Add a dummy column for each event code to turbine curtailment containing the\n",
        "  overlap ratio. 0 for non-ovelapping.\n",
        "\n",
        "  Args:\n",
        "      turbine_curtailments:  DataFrame containing detected curtailment events\n",
        "      per turbine.\n",
        "      turbine_events: DataFrame containing events and alarms for one turbine.\n",
        "      missing_as_na: if True, exapnded dataframe will be filled with na's, \n",
        "      otherwise with zeroes\n",
        "\n",
        "  Returns:\n",
        "      Adds a column for each event code and returns modified dataframe\n",
        "  \"\"\"\n",
        "\n",
        "  filler = np.nan if missing_as_na else 0.\n",
        "  event_codes = turbine_events.ErrorCode.unique()\n",
        "  def create_list(event_codes):\n",
        "    for code in event_codes:\n",
        "      yield (str(code) + '_Curtailment_Coverage')\n",
        "      yield (str(code) + '_Coverage_Duration') \n",
        "      yield (str(code) + '_Coverage_Ratio')\n",
        "\n",
        "\n",
        "\n",
        "  if isinstance(turbine_curtailments, list):   \n",
        "    for curtailment in range(len(turbine_curtailments)):\n",
        "      # Need to generate list in every loop iteration, otherwise it \"runs out\n",
        "      # of objects\"\n",
        "      col_list = create_list(event_codes) \n",
        "\n",
        "      extra_cols = pd.DataFrame(filler, index=turbine_curtailments[curtailment].index, columns=list(col_list))\n",
        "\n",
        "      turbine_curtailments[curtailment] = pd.concat([turbine_curtailments[curtailment], extra_cols], axis=1)\n",
        "\n",
        "  elif isinstance(turbine_curtailments, pd.DataFrame):\n",
        "\n",
        "      col_list = create_list(event_codes)\n",
        "\n",
        "      extra_cols = pd.DataFrame(filler, index=turbine_curtailments.index, columns=list(col_list))\n",
        "\n",
        "      turbine_curtailments = pd.concat([turbine_curtailments, extra_cols], axis=1)\n",
        "  else:\n",
        "    print(\"Error: object to expand is neither a list of curtailments nor a single turbine curtailment dataframe!\")\n",
        "\n",
        "  return turbine_curtailments\n",
        "\n",
        "\n",
        "def efficient_event_overlap_calculation(turbine_curtailments: pd.DataFrame, single_turbine_events: pd.DataFrame):\n",
        "  # TODO: investigate and fix possible bug when multiple events with the same \n",
        "  # code overlap a zero-duration curtailment window.\n",
        "\n",
        "  \"\"\"\n",
        "  Evaluate overlap ratios between events and detected curtailment. 0 means no\n",
        "  overlap.\n",
        "\n",
        "  Same caveats as with efficient_curtailment_overlap_calculation apply.\n",
        "\n",
        "  Args:\n",
        "      turbine_curtailments:  DataFrame containing detected curtailment events\n",
        "      per turbine.\n",
        "      turbine_events: DataFrame containing events and alarms for one turbine.\n",
        "\n",
        "  Returns:\n",
        "      Void. Adds three columns for each event code containing the ratio of overlap\n",
        "      of the event by curtailment, the ratio of overlap of the curtailment by the\n",
        "      event and the duration of this overlap.\n",
        "\n",
        "      NB: In previous versions of this project both the ratio of overlap for the\n",
        "      event by the curtailment and for the curtailment by the event were\n",
        "      determined. There is a case to be made that the latter might be an \n",
        "      interesting metric too: currently, a very short event that happens during \n",
        "      curtailment will have a high overlap ratio, but explain very little about \n",
        "      the curtailment event.\n",
        "\n",
        "      Deprecated: \n",
        "        --Adds two columns: list of overlapping events and list of ratios.--\n",
        "        Now replaced by dummy columns\n",
        "  \"\"\"\n",
        "\n",
        "  if turbine_curtailments.columns.str.contains(pat = 'Coverage').any():\n",
        "\n",
        "    for detected_turbine_curtailment in turbine_curtailments.iloc:\n",
        "      overlappers = single_turbine_events[(~(single_turbine_events.index > detected_turbine_curtailment.End) & ~(single_turbine_events.To < detected_turbine_curtailment.name))]\n",
        "      for event in overlappers.iloc:\n",
        "        code = str(event['ErrorCode'])\n",
        "        coverage = pd.Timedelta(min(detected_turbine_curtailment.End, event.To)-max(detected_turbine_curtailment.name, event.name)).total_seconds()\n",
        "        curtailment_duration = pd.Timedelta(detected_turbine_curtailment.End-detected_turbine_curtailment.name).total_seconds()\n",
        "        if curtailment_duration == 0:\n",
        "          turbine_curtailments.at[detected_turbine_curtailment.name, code + '_Curtailment_Coverage'] = 1.\n",
        "        else:\n",
        "          turbine_curtailments.at[detected_turbine_curtailment.name, code + '_Curtailment_Coverage'] = (coverage/curtailment_duration)\n",
        "\n",
        "        turbine_curtailments.at[detected_turbine_curtailment.name, code + '_Coverage_Duration'] += coverage\n",
        "\n",
        "        event_duration = pd.Timedelta(event.To-event.name).total_seconds()\n",
        "        if event_duration == 0:\n",
        "          turbine_curtailments.at[detected_turbine_curtailment.name, code + '_Coverage_Ratio'] = 1\n",
        "        else:\n",
        "          turbine_curtailments.at[detected_turbine_curtailment.name, code + '_Coverage_Ratio'] = coverage/event_duration\n",
        "        \n",
        "        \"\"\"\n",
        "        if code == '5112' and event_duration != 0 and curtailment_duration != 0:\n",
        "          display(detected_turbine_curtailment)\n",
        "          display(overlappers)\n",
        "          display(overlappers[overlappers.ErrorCode == 5112])\n",
        "          print(\"coverage \", coverage)\n",
        "          print(\"curtailment cov \", coverage/curtailment_duration)\n",
        "          print(\"coverage ratio> \", coverage/event_duration)\n",
        "          display(\"Curtailment coverage in output dataframe: \", turbine_curtailments.at[detected_turbine_curtailment.name, code + '_Curtailment_Coverage'])\n",
        "        \"\"\"\n",
        "\n",
        "  else:\n",
        "    print(\"please expand the columns first\")\n",
        "\n",
        "\n",
        "def delete_long_events(turbine_events: pd.DataFrame, turbine_curtailments: pd.DataFrame):\n",
        "  \"\"\"\n",
        "  Deletes all events in turbine_events that are longer than the longest curtailment\n",
        "\n",
        "  Args:\n",
        "      turbine_curtailments:  DataFrame containing detected curtailment events\n",
        "      per turbine.\n",
        "      turbine_events: DataFrame containing events and alarms for one turbine.\n",
        "\n",
        "  Returns:\n",
        "      trimmed DataFrame.\n",
        "  \"\"\"\n",
        "\n",
        "  names = SCADA_setpoint[\"Turbine\"].unique()\n",
        "  names = np.sort(names)\n",
        "  len_before = len(turbine_events)\n",
        "  for i in range(1):\n",
        "    a[i]['Duration'] = a[i].End - a[i].index\n",
        "    turbine_events = turbine_events[((turbine_events.To - turbine_events.From < a[i]['Duration'].max()) | (turbine_events.Turbine == names[i]))] \n",
        "  print('Deleted ', len_before-len(turbine_events), ' long duration events from turbine event DataFrame')\n",
        "  return turbine_events"
      ],
      "id": "a8RYDXLlg74v",
      "execution_count": 27,
      "outputs": []
    },
    {
      "cell_type": "markdown",
      "metadata": {
        "id": "t6O-_pJmg4Bg"
      },
      "source": [
        "#### Curtailment-related\n"
      ],
      "id": "t6O-_pJmg4Bg"
    },
    {
      "cell_type": "code",
      "metadata": {
        "id": "SoZgRiq336-v"
      },
      "source": [
        "def high_wind_ride_through(current_turbine: pd.DataFrame, current_wind: pd.DataFrame) :\n",
        "    \"\"\"\n",
        "    Calculate whether for a certain timestamp high wind ride through is likely\n",
        "\n",
        "    Args:\n",
        "        current_turbine: DataFrame containing flagged data of one turbine\n",
        "        current_wind: DataFrame containing SCADA ambient wind data for one \n",
        "        turbine\n",
        "\n",
        "    Returns:\n",
        "        DataFrame with column with wind flags\n",
        "    \"\"\"\n",
        "\n",
        "    current_wind = current_wind.set_index(['Timestamp'])\n",
        "    current_wind = current_wind.sort_index()\n",
        "\n",
        "    current_turbine['HWRT'] = (current_wind['Value'] > 24)\n",
        "\n",
        "\n",
        "    current_turbine = current_turbine.fillna(value={'HWRT': False})    \n",
        "    return current_turbine\n",
        "\n",
        "def technician_curtailment(current_turbine: pd.DataFrame):\n",
        "  \"\"\"\n",
        "  Evaluate whether a curtailment is technician curtailment\n",
        "\n",
        "  Args:\n",
        "      current_turbine: DataFrame containing flagged data of one turbine\n",
        "      current_wind: DataFrame containing SCADA ambient wind data for one \n",
        "      turbine\n",
        "\n",
        "  Returns:\n",
        "      DataFrame with column with wind flags\n",
        "  \"\"\"\n",
        "\n",
        "  previous_val = current_turbine['Value'].shift()\n",
        "  next_val = current_turbine['Value'].shift(-1)\n",
        "  after_next_val = current_turbine['Value'].shift(-1).shift(-1)\n",
        "\n",
        "  # Technician curtailment is active if the turbine is curtailed and the next two\n",
        "  # values are the exactly the same, or the previous one is exactly the same, as\n",
        "  # the current one\n",
        "  current_turbine['isTechnicianCurtailment'] = \\\n",
        "    current_turbine['isCurtailed'] & (((next_val == current_turbine['Value']) & \\\n",
        "    (after_next_val == current_turbine['Value'])) | \\\n",
        "    (previous_val == current_turbine['Value']))\n",
        "\n",
        "  return current_turbine\n",
        "\n",
        "\n",
        "def efficient_curtailment_overlap_calculation(turbine_curtailments: pd.DataFrame, curtailment_reports: pd.DataFrame, timeseries=False):\n",
        "  \"\"\"\n",
        "  Compare discovered curtailments with curtailment reports and add a column\n",
        "  containing a flag for whether there is overlap.\n",
        "\n",
        "  Overlap is calculated optimistically in favor of reported curtailments\n",
        "  if working with floored timestamps (as is the case with the default data \n",
        "  loading for this project). For example, a detected curtailment might end at\n",
        "  'xx-xx-xxxx 15-43-000' and a curtailment report might start at \n",
        "  'xx-xx-xxxx 15-47-000'; subsequently, both are floored to the closest 10-minute\n",
        "  interval at 'xx-xx-xxxx 15-40-000' and counted as overlapping.\n",
        "\n",
        "  Args:\n",
        "      turbine_curtailments:  DataFrame containing detected curtailment events\n",
        "      per turbine\n",
        "      curtailment_reports: DataFrame containing curtailment reports from\n",
        "      fact.CurtailmentNew\n",
        "      timeseries: Boolean. If True, will set end time to start time for time series.\n",
        "\n",
        "  Returns:\n",
        "      Void. Adds boolean column 'Reported' to turbine_curtailments.\n",
        "  \"\"\"\n",
        "  \n",
        "  curtailment_reports = curtailment_reports.sort_values(by=['From'])\n",
        "  curtailment_reports = curtailment_reports.set_index('From')\n",
        "  \n",
        "\n",
        "  iterator1 = turbine_curtailments.iterrows()\n",
        "  iterator2 = curtailment_reports.iterrows()\n",
        "  index1, row1 = next(iterator1)\n",
        "  index2, row2 = next(iterator2)\n",
        "  turbine_curtailments['Reported'] = False\n",
        "\n",
        "  # Only one iteration\n",
        "  while True:\n",
        "    try:\n",
        "      if timeseries:\n",
        "        range1 = pd.Interval(left=row1.name, right=row1.name)\n",
        "      else:\n",
        "        range1 = pd.Interval(left=row1.name, right=row1.End)\n",
        "      range2 = pd.Interval(left=row2.name, right=row2.To)\n",
        "      if range2.right < range1.left:\n",
        "        # no overlap. range2 before r1. advance iterator2\n",
        "        index2, row2 = next(iterator2)\n",
        "      elif range1.right < range2.left:\n",
        "        # no overlap. range1 before r2. advance iterator1\n",
        "        index1, row1 = next(iterator1)\n",
        "      else:\n",
        "        # overlap. overlap(row1, row2) must > 0 \n",
        "        turbine_curtailments.loc[index1, 'Reported'] = True\n",
        "        # determine whether to advance iterator1 or it2\n",
        "        if range1.right < range2.right:\n",
        "            # advance iterator1\n",
        "            index1, row1 = next(iterator1)\n",
        "        else:\n",
        "          # advance iterator2\n",
        "          index2, row2 = next(iterator2)\n",
        "    except StopIteration:\n",
        "      break\n",
        "\n",
        "\n",
        "def extract_curtailment_windows(SCADA_setpoint: pd.DataFrame, \n",
        "                                difference_ratio=0.1, \n",
        "                                count_zero_as_curtailment=False,\n",
        "                                missing_as_rated=False, \n",
        "                                additional_flags=False,\n",
        "                                fill_missing_data=False,\n",
        "                                SCADA_wind = None, \n",
        "                                curtailment_reports = None, \n",
        "                                turbine_events=None):\n",
        "  \"\"\"\n",
        "  Extract curtailment windows from SCADA per turbine.\n",
        "\n",
        "  Args:\n",
        "      SCADA_setpoint: DataFrame containing the setpoint signal\n",
        "\n",
        "      difference_ratio: ratio to determine maximum deviation after which\n",
        "      a setpoint change is considered new curtailment\n",
        "\n",
        "      additional_flags: if True, additional information such as high wind \n",
        "      ride through will be added, thus save iterations\n",
        "\n",
        "      count_zero_as_curtailment: if True, setpoint values of 0 and 1 will be\n",
        "      counted as curtailment\n",
        "\n",
        "      fill_missing_data: if True, missing setpoint values are filled with 0 for\n",
        "      all timestamps present for at least one turbine. Otherwise remaining\n",
        "      timestamps are treated as non-existing in single-turbine operations.\n",
        "\n",
        "      SCADA_Wind: ambient wind scada data, only needed if additional_flags is \n",
        "      True\n",
        "\n",
        "      curtailment_reports: Park curtailment reports, only necessary if \n",
        "      additional_flags is set\n",
        "\n",
        "      turbine_events: turbine event data for all turbines, only necessary if \n",
        "      additional_flags is set\n",
        "\n",
        "      missing_as_rated: if True, missing setpoint values will be treated as\n",
        "      normal operations, i.e. they will be set to rated power\n",
        "\n",
        "  Returns:\n",
        "      list of dataframes with curtailment events per turbine and list of\n",
        "      dataframes of flagged timeseries per turbine\n",
        "  \"\"\"\n",
        "\n",
        "  setpoint = SCADA_setpoint\n",
        "  max_val = setpoint['Value'].max()\n",
        "  \n",
        "  # If missing data has to be filled\n",
        "  if fill_missing_data: \n",
        "    \n",
        "    # Default: fill with zeros\n",
        "    if missing_as_rated: \n",
        "      setpoint = setpoint.pivot_table(index=['Timestamp'], columns=['Turbine'], fill_value=max_val)\n",
        "    \n",
        "    # Optionally: fill with rated power: business as usual\n",
        "    else: \n",
        "      setpoint = setpoint.pivot_table(index=['Timestamp'], columns=['Turbine'], fill_value=0)\n",
        "  \n",
        "  # Otherwise: don't fill missing data\n",
        "  else:\n",
        "    setpoint = setpoint.pivot_table(index=['Timestamp'], columns=['Turbine'])\n",
        "  setpoint = setpoint.stack().swaplevel(i='Turbine', j='Timestamp')\n",
        "\n",
        "\n",
        "  names = SCADA_setpoint[\"Turbine\"].unique()\n",
        "  names = np.sort(names)\n",
        "  curtailment_widows=[]\n",
        "  turbine_with_curtailments=[]\n",
        "\n",
        "  progresscnt = 0\n",
        "  progressbar = display(progress(0, len(names)), display_id=True)\n",
        "\n",
        "  for name in names:\n",
        "\n",
        "    progresscnt += 1\n",
        "\n",
        "    turbine_data = setpoint.xs(name, level='Turbine').copy()\n",
        "\n",
        "    previous_val = turbine_data['Value'].shift()\n",
        "    current_val = turbine_data['Value']\n",
        "\n",
        "    # isChanged is true when the current value is outside a (user-specified) range \n",
        "    # around the previous value. It is also true if a value close to 0|1\n",
        "    # goes to 0|1 and if a low value comes right after a 0|1 \n",
        "    # (unless count_zero_as_curtailment is set)\n",
        "    turbine_data['isChanged'] = \\\n",
        "      ~within_margin(previous_val, current_val, max_val, difference_ratio=difference_ratio) | \\\n",
        "      ((current_val == max_val) & (previous_val != max_val)) | \\\n",
        "      ((current_val != max_val) & (previous_val == max_val)) | \\\n",
        "      ((((current_val-2 < 0) & (previous_val -2 >= 0)) | \\\n",
        "      ((previous_val-2 < 0) & (current_val -2 >= 0))) & ~count_zero_as_curtailment)\n",
        "\n",
        "    # isCurtailed is True whenever a turbine's setpoint is not at rated power and\n",
        "    # not at 0 or 1 (unless count_zero_as_curtailment is set)\n",
        "    turbine_data['isCurtailed'] = (turbine_data['Value'] != max_val) & \\\n",
        "      (((turbine_data['Value'] != 0)  & (turbine_data['Value']  != 1)) \\\n",
        "      | count_zero_as_curtailment)\n",
        "\n",
        "    # StartCurtailment is whenever the setpoint changes and \n",
        "    #the turbine is curtailed\n",
        "    turbine_data['StartCurtailment'] = turbine_data['isCurtailed'] & \\\n",
        "      turbine_data['isChanged']\n",
        "\n",
        "    # A curtailment window ends when the next value is different and the current\n",
        "    # value is not curtailed. If the data ends with curtailment, an End is added \n",
        "    # too\n",
        "    turbine_data['EndCurtailment'] = \\\n",
        "      turbine_data['isCurtailed'] & turbine_data['isChanged'].shift(-1) | \\\n",
        "      turbine_data['isCurtailed'] & turbine_data['isChanged'].shift(-1).isna()\n",
        "\n",
        "    turbine_curtailments = pd.DataFrame()\n",
        "    # Get first timestamp of active curtailment event\n",
        "    turbine_curtailments['Start'] = turbine_data[turbine_data['StartCurtailment']==True].index\n",
        "\n",
        "    # Get last timestamp of active curtailment event\n",
        "    turbine_curtailments['End'] = turbine_data[turbine_data['EndCurtailment']==True].index\n",
        "\n",
        "    turbine_curtailments = turbine_curtailments.set_index(['Start'])\n",
        "\n",
        "    if additional_flags:\n",
        "      # Add HWRT to turbine data\n",
        "      turbine_data = high_wind_ride_through(turbine_data, \\\n",
        "        SCADA_wind[SCADA_wind['Turbine'] == name])\n",
        "      \n",
        "      # Add HWRT to curtailment windows, if the start of the curtailment has \n",
        "      # high wind (possibly problematic)\n",
        "      turbine_curtailments['HWRT'] = \\\n",
        "        turbine_data.loc[turbine_curtailments.index]['HWRT'].values\n",
        "\n",
        "      # Add technician curtailment flags to turbine data and curtailment data\n",
        "      turbine_data = technician_curtailment(turbine_data)\n",
        "\n",
        "      # A curtailment window is flagged as technician curtailment if the first\n",
        "      # instance of curtailment within its respective turbine's time series data \n",
        "      # is flagged as technician curtailment (possibly problematic)\n",
        "      turbine_curtailments['isTechnicianCurtailment'] = \\\n",
        "      turbine_data.loc[turbine_curtailments.index]['isTechnicianCurtailment']\n",
        "\n",
        "      # Add a flag for reported curtailment\n",
        "      efficient_curtailment_overlap_calculation(turbine_data, curtailment_reports, timeseries=True)\n",
        "      efficient_curtailment_overlap_calculation(turbine_curtailments, curtailment_reports, timeseries=False)\n",
        "\n",
        "      # Expand columns (preparation for next step)\n",
        "      turbine_curtailments = expand_dummy_event_columns(turbine_curtailments, turbine_events)\n",
        "\n",
        "      # Expand turbine curtailment to include event information\n",
        "      single_turbine_events = turbine_events[turbine_events.Turbine == name].sort_values(by=['From'])\n",
        "      single_turbine_events = single_turbine_events.set_index('From')\n",
        "      efficient_event_overlap_calculation(turbine_curtailments, single_turbine_events)\n",
        "\n",
        "    # Add turbine curtailments to the list of curtailment windows per turbine\n",
        "    # The turbines in the list are sorted lexicographically, so GDT001 is the\n",
        "    # first\n",
        "    curtailment_widows.append(turbine_curtailments)\n",
        "    turbine_with_curtailments.append(turbine_data)\n",
        "\n",
        "    # update progress bar\n",
        "    progressbar.update(progress(progresscnt, len(names)))\n",
        "  return curtailment_widows, turbine_with_curtailments\n",
        "\n"
      ],
      "id": "SoZgRiq336-v",
      "execution_count": 28,
      "outputs": []
    },
    {
      "cell_type": "markdown",
      "metadata": {
        "id": "3a0iX4ccl6MH"
      },
      "source": [
        "efficient_ovelap_calculation inspired by bechmarking answers in [this stackoverflow post](https://https://stackoverflow.com/questions/50031780/efficiently-find-overlap-of-date-time-ranges-from-2-dataframes)\n",
        "\n"
      ],
      "id": "3a0iX4ccl6MH"
    },
    {
      "cell_type": "markdown",
      "metadata": {
        "id": "xPV4WeKE8wXJ"
      },
      "source": [
        "It has been brought to my attention that the analytics package has a events to time series function. Unfortunately, there events are merged, which might lead to major discrepancies between expected results of the statistics part. Additionally, overlap metrics are harder to compute with a time series as opposed to a dataframe with start and end times."
      ],
      "id": "xPV4WeKE8wXJ"
    },
    {
      "cell_type": "markdown",
      "metadata": {
        "id": "stp-XhBJFuHZ"
      },
      "source": [
        "Determining **event overlap** with curtailment is a tricky task. There are several challenges:\n",
        "\n",
        "\n",
        "1.   What metric to use? Boolean overlap is easier to compute with respect to both code complexity and runtime efficiency, as it can make use of optimized library methods such as Interval.overlaps, but it also discards a lot of information. Knowing **how much of an event's duration is covered** by curtailment is key to determine its impact and possibly establish causality.\n",
        "2.  The efficient overlap calculation running in O(n) time, where n is the size of the event DataFrame **assumes non-overlapping events**. This assumption holds true for curtailment, but not for the TurbineEvents. looping over the whole event DataFrame in O(n) complexity is a **very slow** operation in native python, so several improvements can be considered.\n",
        "\n",
        "  *   **Pre-filtering** events that are likely to be unrelated. Chief among them are events that exceed the duration of the longest curtailment. This can be tricky, however, as the length of a curtailment event as discovered by this code package is dependent on an arbitrary definition. It could thus be, that what is counted as several chained curtailment events might, in fact, be a single one with variable setpoint. This is a potential **loss of information**.\n",
        "  *   Existing algorithms like [Bentley–Ottmann](https://https://en.wikipedia.org/wiki/Bentley%E2%80%93Ottmann_algorithm) and [sweep line](https://https://en.wikipedia.org/wiki/Sweep_line_algorithm) tackle similar problems but would suffer from **single-threaded execution** due to native python implementations.\n",
        "  * The analytics team has further provided functions that tackle similar problems. Albeit not being applicable to this use case as-is, the remove_overlap function of the lost production factor package hinted at a further option for improvement: the events DataFrame could be restructured into a DataFrame containing **non-overlapping bins of events**. This would enable the use of the efficient **two-pointer algorithm** implementation used previously for comparing detected and reported curtailments; the overlapping bins would be quickly found and overlap would then be exhaustively computed solely for the subset of events in the bins. This approach was however thwarted by the structure of the data: some events can have very long durations, resulting in few bins per turbine. Making this approach efficient leads again to the **information loss - efficiency gain trade-off** mentioned together with pre-filtering.\n",
        "\n",
        "  *   Pandas is mostly built on top of **numpy**, using the very efficient **ndarrays**. Numpy has several advantages compared to native python: [it consists optimized, **pre-compiled C code**](https://https://numpy.org/doc/stable/user/whatisnumpy.html#why-is-numpy-fast), [bypasses the single thread execution dictated by pythons GIL for many array operations](https://https://scipy-cookbook.readthedocs.io/items/ParallelProgramming.html), and thus provides support for efficient **vectorized operations**. This extends to many DataFrame operations as well. A even more efficient backend is provided by the **[eval](https://pandas.pydata.org/pandas-docs/stable/reference/api/pandas.eval.html#pandas.eval)** of pandas, significantly speeding up comparison queries, which are widely used in overlap calculations. Cython and [numexpr](https://https://github.com/pydata/numexpr) can provide further efficiency gains.\n",
        "\n",
        "3. Unfortunately there are also concerns over **data consistency** to deal with. Chief among them is the often large swaths of **missing time-stamps for the setpoint signal**. During the exploratory phase conducted on data from GDT ranging between January and May 2021, over a sixth of the data is missing for some turbines. **Events are still recorded** for these timestamps, thus contributing to **model bias** in the statistical evaluation part, depending on how the missing setpoint values are handled. On Turbine 58, for instance, 17% of setpoint data is missing, coincidentally when the longest periods of event code 5112 are recorded, which is known to relate to curtailment.\n",
        "\n",
        "\n",
        "\n"
      ],
      "id": "stp-XhBJFuHZ"
    },
    {
      "cell_type": "markdown",
      "metadata": {
        "id": "AJ1cYQypOfW1"
      },
      "source": [
        "#### Performance testing (only used in development, to get time measurements)"
      ],
      "id": "AJ1cYQypOfW1"
    },
    {
      "cell_type": "code",
      "metadata": {
        "colab": {
          "base_uri": "https://localhost:8080/"
        },
        "id": "IsleGPZuqndf",
        "outputId": "b2358e39-9389-4b91-828c-d52cdd2a60a5"
      },
      "source": [
        "\n",
        "names = SCADA_setpoint[\"Turbine\"].unique()\n",
        "names = np.sort(names)\n",
        "\n",
        "a, b = extract_curtailment_windows(SCADA_setpoint)\n",
        "\n",
        "t0 = time.time()\n",
        "a = expand_dummy_event_columns(a, turbine_events, missing_as_na=True)\n",
        "t1 = time.time()\n",
        "print(t1-t0)\n",
        "\n"
      ],
      "id": "IsleGPZuqndf",
      "execution_count": null,
      "outputs": [
        {
          "output_type": "display_data",
          "data": {
            "text/html": [
              "\n",
              "        <progress\n",
              "            value='80'\n",
              "            max='80',\n",
              "            style='width: 100%'\n",
              "        >\n",
              "            80\n",
              "        </progress>\n",
              "    "
            ],
            "text/plain": [
              "<IPython.core.display.HTML object>"
            ]
          },
          "metadata": {
            "tags": []
          }
        },
        {
          "output_type": "stream",
          "text": [
            "0.2355339527130127\n"
          ],
          "name": "stdout"
        }
      ]
    },
    {
      "cell_type": "code",
      "metadata": {
        "colab": {
          "base_uri": "https://localhost:8080/"
        },
        "id": "dBZcrj8Yu-hM",
        "outputId": "1c7c0a9a-6e9d-4c31-afa0-5d352d7b48ca"
      },
      "source": [
        "a, b = extract_curtailment_windows(SCADA_setpoint)\n",
        "i =0\n",
        "single_turbine_events = turbine_events[turbine_events['Turbine']==names[i]].sort_values(by=['From'])\n",
        "single_turbine_events = single_turbine_events.set_index('From')\n",
        "\n",
        "turbine_curtailments = a[0].copy()\n",
        "turbine_curtailments = expand_dummy_event_columns(turbine_curtailments, turbine_events)\n",
        "t0 = time.time()\n",
        "efficient_event_overlap_calculation(turbine_curtailments, single_turbine_events)\n",
        "\n",
        "t1 = time.time()\n",
        "\n",
        "print(t1-t0)"
      ],
      "id": "dBZcrj8Yu-hM",
      "execution_count": null,
      "outputs": [
        {
          "output_type": "display_data",
          "data": {
            "text/html": [
              "\n",
              "        <progress\n",
              "            value='80'\n",
              "            max='80',\n",
              "            style='width: 100%'\n",
              "        >\n",
              "            80\n",
              "        </progress>\n",
              "    "
            ],
            "text/plain": [
              "<IPython.core.display.HTML object>"
            ]
          },
          "metadata": {
            "tags": []
          }
        },
        {
          "output_type": "stream",
          "text": [
            "0.5599522590637207\n"
          ],
          "name": "stdout"
        }
      ]
    },
    {
      "cell_type": "code",
      "metadata": {
        "colab": {
          "base_uri": "https://localhost:8080/"
        },
        "id": "TOHHRsut7sU8",
        "outputId": "f596c427-3f07-4718-a260-ccd4f166618c"
      },
      "source": [
        "t0 = time.time()\n",
        "\n",
        "a, b = extract_curtailment_windows(SCADA_setpoint, additional_flags=True, SCADA_wind=SCADA_wind, curtailment_reports=curtailment_reports, turbine_events=turbine_events)\n",
        "\n",
        "t1 = time.time()\n",
        "print(t1-t0)"
      ],
      "id": "TOHHRsut7sU8",
      "execution_count": null,
      "outputs": [
        {
          "output_type": "display_data",
          "data": {
            "text/html": [
              "\n",
              "        <progress\n",
              "            value='80'\n",
              "            max='80',\n",
              "            style='width: 100%'\n",
              "        >\n",
              "            80\n",
              "        </progress>\n",
              "    "
            ],
            "text/plain": [
              "<IPython.core.display.HTML object>"
            ]
          },
          "metadata": {
            "tags": []
          }
        },
        {
          "output_type": "stream",
          "text": [
            "297.3502526283264\n"
          ],
          "name": "stdout"
        }
      ]
    },
    {
      "cell_type": "code",
      "metadata": {
        "colab": {
          "base_uri": "https://localhost:8080/"
        },
        "id": "pAQh8En5R9BS",
        "outputId": "908bc61e-74c3-4ec5-9f3b-6abe356c1247"
      },
      "source": [
        "print((t1-t0)/60, ' minutes for entire park operation')"
      ],
      "id": "pAQh8En5R9BS",
      "execution_count": null,
      "outputs": [
        {
          "output_type": "stream",
          "text": [
            "4.9558375438054405  minutes for entire park operation\n"
          ],
          "name": "stdout"
        }
      ]
    },
    {
      "cell_type": "code",
      "metadata": {
        "colab": {
          "base_uri": "https://localhost:8080/"
        },
        "id": "-1Xld8D6rno1",
        "outputId": "f940d060-25f9-4072-b92d-72c5fba80729"
      },
      "source": [
        "a, b = extract_curtailment_windows(SCADA_setpoint)\n",
        "\n",
        "names = SCADA_setpoint[\"Turbine\"].unique()\n",
        "names = np.sort(names)\n",
        "\n",
        "turbine_data = b[0]\n",
        "turbine_curtailments = a[0]\n",
        "\n",
        "\n",
        "speedtest = 'eval'\n",
        "\n",
        "\n",
        "\n",
        "if speedtest == 'curtailment_overlap':\n",
        "  reported_curtailments = curtailment_reports.set_index('From')\n",
        "  reported_curtailments = reported_curtailments.sort_index()  \n",
        "  times1 = []\n",
        "  times2 = []\n",
        "  def inefficient_overlap_calculation(df1, df2):\n",
        "    df1['Reported'] = False\n",
        "    for i in range(len(df1)):\n",
        "      for j in range(len(df2)):\n",
        "        r1 = pd.Interval(left=df1.iloc[i].name, right=df1.iloc[i].End)\n",
        "        r2 = pd.Interval(left=df2.iloc[j].name, right=df2.iloc[j].To)\n",
        "        if r1.overlaps(r2):\n",
        "          df1.iat[i, 1] = True\n",
        "\n",
        "  for i in range(10):\n",
        "    print(i)\n",
        "    turbine_data = b[i]\n",
        "    turbine_curtailments = a[i]\n",
        "    t0 = time.time()\n",
        "    inefficient_overlap_calculation(turbine_curtailments, reported_curtailments)\n",
        "    t1 = time.time()\n",
        "    times1.append(t1-t0)\n",
        "\n",
        "  print('slightly optimized old overlap approach: ', np.mean(times1))\n",
        "\n",
        "  for i in range(10):\n",
        "    print(i)\n",
        "    turbine_data = b[i]\n",
        "    turbine_curtailments = a[i]\n",
        "    t0 = time.time()\n",
        "    efficient_curtailment_overlap_calculation(turbine_curtailments, reported_curtailments)\n",
        "    t1 = time.time()\n",
        "    times2.append(t1-t0)\n",
        "\n",
        "  print('optimized new overlap approach: ', np.mean(times2))\n",
        "\n",
        "elif speedtest == 'eval':\n",
        "  \n",
        "  times1 = []\n",
        "  times2 = []\n",
        "\n",
        "  for i in range(10):\n",
        "\n",
        "    print(i)\n",
        "    single_turbine_events = turbine_events[turbine_events['Turbine']==names[i]].sort_values(by=['From'])\n",
        "    single_turbine_events = single_turbine_events.set_index('From')\n",
        "\n",
        "    turbine_curtailments = a[i]\n",
        "\n",
        "    t0 = time.time()\n",
        "    overlappers = [single_turbine_events[(~(single_turbine_events.index > detected_turbine_curtailment.End) & ~(single_turbine_events.To < detected_turbine_curtailment.name))] for detected_turbine_curtailment in turbine_curtailments.iloc]\n",
        "    t1 = time.time()\n",
        "\n",
        "    times2.append(t1-t0)\n",
        "\n",
        "  print('event operation for one turbine without eval: ', np.mean(times2))\n",
        "\n",
        "  for i in range(10):\n",
        "    print(i)\n",
        "\n",
        "    single_turbine_events = turbine_events[turbine_events['Turbine']==names[i]].sort_values(by=['From'])\n",
        "    single_turbine_events = single_turbine_events.set_index('From')\n",
        "\n",
        "    turbine_curtailments = a[i]\n",
        "\n",
        "    t0 = time.time()\n",
        "    overlappers = [single_turbine_events[pd.eval(\"(~(single_turbine_events.index > detected_turbine_curtailment.End) & ~(single_turbine_events.To < detected_turbine_curtailment.name))\", target=single_turbine_events, engine='numexpr')] for detected_turbine_curtailment in turbine_curtailments.iloc]\n",
        "    t1 = time.time()\n",
        "\n",
        "    times1.append(t1-t0)\n",
        "\n",
        "  print('event operation for one turbine with eval: ', np.mean(times1))\n",
        "\n",
        "\n",
        "\n",
        "elif speedtest == 'event_overlap':\n",
        "  times1 = []\n",
        "  times2 = []\n",
        "  def inefficient_overlap_calculation(df1, df2):\n",
        "    df1['Reported'] = False\n",
        "    for i in range(len(df1)):\n",
        "      for j in range(len(df2)):\n",
        "        r1 = pd.Interval(left=df1.iloc[i].name, right=df1.iloc[i].End)\n",
        "        r2 = pd.Interval(left=df2.iloc[j].name, right=df2.iloc[j].To)\n",
        "        if r1.overlaps(r2):\n",
        "          df1.iat[i, 1] = True\n",
        "\n",
        "  for i in range(10):\n",
        "    print(i)\n",
        "    turbine_data = b[i]\n",
        "    turbine_curtailments = a[i]\n",
        "    t0 = time.time()\n",
        "    inefficient_overlap_calculation(turbine_curtailments, reported_curtailments)\n",
        "    t1 = time.time()\n",
        "    times1.append(t1-t0)\n",
        "\n",
        "  print('slightly optimized old overlap approach: ', np.mean(times1))\n",
        "\n",
        "  for i in range(10):\n",
        "    print(i)\n",
        "    turbine_data = b[i]\n",
        "    turbine_curtailments = a[i]\n",
        "    t0 = time.time()\n",
        "    efficient_curtailment_overlap_calculation(turbine_curtailments, reported_curtailments)\n",
        "    t1 = time.time()\n",
        "    times2.append(t1-t0)\n",
        "\n",
        "  print('optimized new overlap approach: ', np.mean(times2))\n",
        "\n",
        "else:\n",
        "  t0 = time.time()\n",
        "  a, b = extract_curtailment_windows(SCADA_setpoint, additional_flags=True, SCADA_wind=SCADA_wind, curtailment_reports=curtailment_reports)\n",
        "  t1 = time.time()\n",
        "  print('full operation for turbine data: ', t1-t0)"
      ],
      "id": "-1Xld8D6rno1",
      "execution_count": null,
      "outputs": [
        {
          "output_type": "display_data",
          "data": {
            "text/html": [
              "\n",
              "        <progress\n",
              "            value='80'\n",
              "            max='80',\n",
              "            style='width: 100%'\n",
              "        >\n",
              "            80\n",
              "        </progress>\n",
              "    "
            ],
            "text/plain": [
              "<IPython.core.display.HTML object>"
            ]
          },
          "metadata": {
            "tags": []
          }
        },
        {
          "output_type": "stream",
          "text": [
            "0\n",
            "1\n",
            "2\n",
            "3\n",
            "4\n",
            "5\n",
            "6\n",
            "7\n",
            "8\n",
            "9\n",
            "event operation for one turbine without eval:  0.21811559200286865\n",
            "0\n",
            "1\n",
            "2\n",
            "3\n",
            "4\n",
            "5\n",
            "6\n",
            "7\n",
            "8\n",
            "9\n",
            "event operation for one turbine with eval:  0.6444074392318726\n"
          ],
          "name": "stdout"
        }
      ]
    },
    {
      "cell_type": "markdown",
      "metadata": {
        "id": "lEriAiXjpga7"
      },
      "source": [
        "Timing curtailment window extraction for **single turbine** resulted in **34 miliseconds** execution time.\n",
        "\n",
        "For all **80 turbines**, the operation took **2.73 seconds**.\n",
        "\n",
        "**High wind ride through** now takes **97 miliseconds per turbine**.\n",
        "\n",
        "Curtailment window extraction with HWRT takes 10.3 seconds for all turbines.\n",
        "\n",
        "**Technician curtailment** estimation was timed at **44 ms**.\n",
        "\n",
        "Curtailment window extraction with all extra features takes **11.0 seconds for all turbines**\n",
        "\n",
        "Performance of basic **reported curtailment flagging** fell from **6.06 seconds** for a short adapted version (simplified and added pandas Interval.overlaps() instead of custom overlap function) of the previous codebase's method to **36 miliseconds** for a new adapted version. This exceeds **150 foldspeedup**. The metrics apply for single turbine data.\n",
        "\n",
        "The old version had a runtime complexity of **O(n*m)** whereas the new one should be **O(max(n,m))**, as it iterates over each dataframe only once. It however **assumes no internal overlap** within each dataframe. \n",
        "An [Interval tree](https://en.wikipedia.org/wiki/Interval_tree) could be considered in this case.\n",
        "\n",
        "Interestingly enough, using numexpr and pandas eval() did not increase performance. On the contrary: it is about **three times slower**; perhaps this could be attributed to higher overhead.\n",
        "\n",
        "**Event overlap** calculation now takes **0.6 seconds** per turbine including expanding the dataframe to several columns\n",
        "\n",
        "The single turbine speed measurements are averages over several turbines.\n",
        "\n",
        "Computing **all turbine-related information** for the entire park takes **5.041 minutes**."
      ],
      "id": "lEriAiXjpga7"
    },
    {
      "cell_type": "markdown",
      "metadata": {
        "id": "Qjg6RGpOZ11l"
      },
      "source": [
        "### Turbine curtailment statistics (running the curtailment functions and reflecting on the outcome)\n"
      ],
      "id": "Qjg6RGpOZ11l"
    },
    {
      "cell_type": "markdown",
      "metadata": {
        "id": "AzwXFtaMySyX"
      },
      "source": [
        "#### Curtailment validation (includes a validation function that compares this approach with thomas' curtailment statistics)"
      ],
      "id": "AzwXFtaMySyX"
    },
    {
      "cell_type": "code",
      "metadata": {
        "id": "7M5ZnEByIhnH"
      },
      "source": [
        "def print_validation_statistics_for_curtailment(mydataset: pd.DataFrame, validator: pd.DataFrame) :\n",
        "  \"\"\"\n",
        "  Evaluates precision and recall comparing existing analytics curtailment model\n",
        "  outcomes to this model.\n",
        "\n",
        "  Args:\n",
        "      mydataset: DataFrame containing flagged timeseries\n",
        "      validator: DataFrame used for validating results\n",
        "\n",
        "  Returns:\n",
        "      pretty-printable DataFrames\n",
        "  \"\"\"\n",
        "\n",
        "  # Trim dates\n",
        "  validator = validator[validator.index >= mydataset.index.min()].copy()\n",
        "  validator = validator[validator.index <= mydataset.index.max()]\n",
        "\n",
        "  # Add boolean columns on the validator dataset to facilitate FP and FN calculation\n",
        "  validator['isCurtailed'] = (validator.label == 'reported curtailment') | (validator.label == 'unreported curtailment')\n",
        "\n",
        "  validator['isReported'] = (validator.label == 'reported curtailment')\n",
        "\n",
        "  validator = validator[['isCurtailed', 'isReported']]\n",
        "\n",
        "  # Print length statistics\n",
        "  print(\"length of validation dataset: \", len(validator), \" start date: \", validator.index.min(), \" end date: \", validator.index.max())\n",
        "  print(\"length of dataset to validate: \", len(mydataset), \" start date: \", mydataset.index.min(), \" end date: \", mydataset.index.max())\n",
        "  mergedindex = validator.index.intersection(mydataset.index)\n",
        "  print(\"length of intersected index: \", len(mergedindex), \" start date: \", mergedindex.min(), \" end date: \", mergedindex.max())\n",
        "\n",
        "  validator = validator[validator.index.isin(mergedindex)]\n",
        "  mydataset = mydataset[mydataset.index.isin(mergedindex)]\n",
        "\n",
        "  TP_overall = validator[(validator.isCurtailed == True) & (mydataset.isCurtailed == True)] \n",
        "  TN_overall = mydataset[(validator.isCurtailed == False) & (mydataset.isCurtailed == False)]\n",
        "  FP_overall = mydataset[(validator.isCurtailed == True) & (mydataset.isCurtailed == False)]\n",
        "  FN_overall = mydataset[(validator.isCurtailed == False) & (mydataset.isCurtailed == True)]\n",
        "  total_overall = len(TP_overall)+len(TN_overall)+len(FP_overall)+len(FN_overall)\n",
        "  TPR_overall = len(TP_overall)/(len(TP_overall)+len(FN_overall))\n",
        "  TNR_overall = len(TN_overall)/(len(TN_overall)+len(FP_overall))\n",
        "  accuracy_overall = (len(TP_overall)+len(TN_overall))/(total_overall)\n",
        "  balanced_accuracy_overall = (TPR_overall+TNR_overall)/2\n",
        "  precision_overall = len(TP_overall)/(len(TP_overall)+len(FP_overall))\n",
        "\n",
        "  print(\"\\ngeneral curtailment statistics: \")\n",
        "  print(\"TP: \", len(TP_overall ))\n",
        "  print(\"TN: \", len(TN_overall))\n",
        "  print(\"FP: \", len(FP_overall))\n",
        "  print(\"FN: \", len(FN_overall))\n",
        "  print(\"precision: \", precision_overall, \n",
        "        \" recall/sensitivity/true positive rate: \", TPR_overall, \n",
        "        \" specificity/true negative rate \", TNR_overall)\n",
        "  print(\"accuracy: \", accuracy_overall, \" balanced accuracy: \", balanced_accuracy_overall)\n",
        "\n",
        "  TP_reported = mydataset[(validator.isReported == True) &\n",
        "                          (validator.isCurtailed == True) &\n",
        "                          (mydataset.Reported == True) &\n",
        "                          (mydataset.isCurtailed == True)] \n",
        "  TN_reported = mydataset[(validator.isReported == False) & \n",
        "                          (validator.isCurtailed == False) &\n",
        "                          (mydataset.Reported == False) &                        \n",
        "                          (mydataset.isCurtailed == False)]\n",
        "  FP_reported = mydataset[(validator.isReported == False) &                        \n",
        "                          (validator.isCurtailed == False) &\n",
        "                          (mydataset.Reported == True) &                        \n",
        "                          (mydataset.isCurtailed == True)]\n",
        "  FN_reported = mydataset[(validator.isReported == True) &                        \n",
        "                          (validator.isCurtailed == True) & \n",
        "                          (mydataset.Reported == False) &                        \n",
        "                          (mydataset.isCurtailed == False)]\n",
        "  total_reported = len(TP_reported)+len(TN_reported)+len(FP_reported)+len(FN_reported)\n",
        "  TPR_reported = len(TP_reported)/(len(TP_reported)+len(FN_reported))\n",
        "  TNR_reported = len(TN_reported)/(len(TN_reported)+len(FP_reported))\n",
        "  accuracy_reported = (len(TP_reported)+len(TN_reported))/(total_reported)\n",
        "  balanced_accuracy_reported = (TPR_reported+TNR_reported)/2\n",
        "  precision_reported = len(TP_reported)/(len(TP_reported)+len(FP_reported))\n",
        "\n",
        "  print(\"\\nreported curtailment statistics: \")\n",
        "  print(\"TP: \", len(TP_reported ))\n",
        "  print(\"TN: \", len(TN_reported))\n",
        "  print(\"FP: \", len(FP_reported))\n",
        "  print(\"FN: \", len(FN_reported))\n",
        "  print(\"precision: \", precision_reported, \n",
        "        \" recall/sensitivity/true positive rate: \", TPR_reported, \n",
        "        \" specificity/true negative rate \", TNR_reported)\n",
        "  print(\"accuracy: \", accuracy_reported, \" balanced accuracy: \", balanced_accuracy_reported)\n",
        "\n",
        "  TP_unreported = mydataset[(validator.isCurtailed == True) &\n",
        "                            (validator.isReported == False) & \n",
        "                            (mydataset.isCurtailed== True) &\n",
        "                            (mydataset.Reported == False)] \n",
        "  TN_unreported = mydataset[(validator.isCurtailed == False) &\n",
        "                            (validator.isReported == False) & \n",
        "                            (mydataset.isCurtailed== False) &\n",
        "                            (mydataset.Reported == False)] \n",
        "  FP_unreported = mydataset[(validator.isCurtailed == False) &\n",
        "                            (validator.isReported == False) & \n",
        "                            (mydataset.isCurtailed== True) &\n",
        "                            (mydataset.Reported == False)] \n",
        "  FN_unreported = mydataset[(validator.isCurtailed == True) &\n",
        "                            (validator.isReported == False) & \n",
        "                            (mydataset.isCurtailed== False) &\n",
        "                            (mydataset.Reported == False)] \n",
        "  total_unreported = len(TP_unreported)+len(TN_unreported)+len(FP_unreported)+len(FN_unreported)\n",
        "  try:\n",
        "    TPR_unreported = len(TP_unreported)/(len(TP_unreported)+len(FN_unreported))\n",
        "  except:\n",
        "    TPR_unreported = np.nan\n",
        "  try:\n",
        "    TNR_unreported = len(TN_unreported)/(len(TN_unreported)+len(FP_unreported))\n",
        "  except:\n",
        "    TNR_unreported = np.nan\n",
        "  accuracy_unreported = (len(TP_unreported)+len(TN_unreported))/(total_unreported)\n",
        "  balanced_accuracy_unreported = (TPR_unreported+TNR_unreported)/2\n",
        "  precision_unreported = len(TP_unreported)/(len(TP_unreported)+len(FP_unreported))\n",
        "\n",
        "  print(\"\\nunreported curtailment statistics: \")\n",
        "  print(\"TP: \", len(TP_unreported ))\n",
        "  print(\"TN: \", len(TN_unreported))\n",
        "  print(\"FP: \", len(FP_unreported))\n",
        "  print(\"FN: \", len(FN_unreported))\n",
        "  print(\"precision: \", precision_unreported, \n",
        "        \" recall/sensitivity/true positive rate: \", TPR_unreported, \n",
        "        \" specificity/true negative rate \", TNR_unreported)\n",
        "  print(\"accuracy: \", accuracy_unreported, \" balanced accuracy: \", balanced_accuracy_unreported)\n",
        "\n",
        "  output_overall = pd.DataFrame()\n",
        "  output_overall['TP'] = [len(TP_overall)]\n",
        "  output_overall['TN'] = len(TN_overall)\n",
        "  output_overall['FP'] = len(FP_overall)\n",
        "  output_overall['FN'] = len(FN_overall)\n",
        "  output_overall['TPR'] = TPR_overall\n",
        "  output_overall['TNR'] = TNR_overall\n",
        "  output_overall['precision'] = precision_overall\n",
        "  output_overall['accuracy'] = accuracy_overall\n",
        "  output_overall['balanced accuracy'] = balanced_accuracy_overall\n",
        "\n",
        "  output_reported = pd.DataFrame()\n",
        "  output_reported['TP'] = [len(TP_reported)]\n",
        "  output_reported['TN'] = len(TN_reported)\n",
        "  output_reported['FP'] = len(FP_reported)\n",
        "  output_reported['FN'] = len(FN_reported)\n",
        "  output_reported['TPR'] = TPR_reported\n",
        "  output_reported['TNR'] = TNR_reported\n",
        "  output_reported['precision'] = precision_reported\n",
        "  output_reported['accuracy'] = accuracy_reported\n",
        "  output_reported['balanced accuracy'] = balanced_accuracy_reported\n",
        "\n",
        "  output_unreported = pd.DataFrame()\n",
        "  output_unreported['TP'] = [len(TP_unreported)]\n",
        "  output_unreported['TN'] = len(TN_unreported)\n",
        "  output_unreported['FP'] = len(FP_unreported)\n",
        "  output_unreported['FN'] = len(FN_unreported)\n",
        "  output_unreported['TPR'] = TPR_unreported\n",
        "  output_unreported['TNR'] = TNR_unreported\n",
        "  output_unreported['precision'] = precision_unreported\n",
        "  output_unreported['accuracy'] = accuracy_unreported\n",
        "  output_unreported['balanced accuracy'] = balanced_accuracy_unreported\n",
        "\n",
        "\n",
        "  return output_overall, output_reported, output_unreported"
      ],
      "id": "7M5ZnEByIhnH",
      "execution_count": 31,
      "outputs": []
    },
    {
      "cell_type": "code",
      "metadata": {
        "colab": {
          "base_uri": "https://localhost:8080/",
          "height": 0
        },
        "id": "T-xsOGprysAX",
        "outputId": "79a3baf1-69d8-48c5-c28a-2ebab9c4d1a6"
      },
      "source": [
        "a1, setpoint_curtailment_timeseries_with_zeroes_filled = extract_curtailment_windows(SCADA_setpoint, \n",
        "                                                                                    fill_missing_data=True, \n",
        "                                                                                    count_zero_as_curtailment=True, \n",
        "                                                                                    additional_flags=True, \n",
        "                                                                                    curtailment_reports=curtailment_reports, \n",
        "                                                                                    turbine_events=turbine_events, \n",
        "                                                                                    SCADA_wind=SCADA_wind)\n",
        "a2, setpoint_curtailment_timeseries_with_zeroes_unfilled = extract_curtailment_windows(SCADA_setpoint, \n",
        "                                                                                    fill_missing_data=False, \n",
        "                                                                                    count_zero_as_curtailment=True, \n",
        "                                                                                    additional_flags=True, \n",
        "                                                                                    curtailment_reports=curtailment_reports, \n",
        "                                                                                    turbine_events=turbine_events, \n",
        "                                                                                    SCADA_wind=SCADA_wind)\n",
        "a3, setpoint_curtailment_timeseries_without_zeroes_unfilled = extract_curtailment_windows(SCADA_setpoint, \n",
        "                                                                                    fill_missing_data=False, \n",
        "                                                                                    count_zero_as_curtailment=False, \n",
        "                                                                                    additional_flags=True, \n",
        "                                                                                    curtailment_reports=curtailment_reports, \n",
        "                                                                                    turbine_events=turbine_events, \n",
        "                                                                                    SCADA_wind=SCADA_wind)"
      ],
      "id": "T-xsOGprysAX",
      "execution_count": 32,
      "outputs": [
        {
          "output_type": "display_data",
          "data": {
            "text/html": [
              "\n",
              "        <progress\n",
              "            value='80'\n",
              "            max='80',\n",
              "            style='width: 100%'\n",
              "        >\n",
              "            80\n",
              "        </progress>\n",
              "    "
            ],
            "text/plain": [
              "<IPython.core.display.HTML object>"
            ]
          },
          "metadata": {
            "tags": []
          }
        },
        {
          "output_type": "display_data",
          "data": {
            "text/html": [
              "\n",
              "        <progress\n",
              "            value='80'\n",
              "            max='80',\n",
              "            style='width: 100%'\n",
              "        >\n",
              "            80\n",
              "        </progress>\n",
              "    "
            ],
            "text/plain": [
              "<IPython.core.display.HTML object>"
            ]
          },
          "metadata": {
            "tags": []
          }
        },
        {
          "output_type": "display_data",
          "data": {
            "text/html": [
              "\n",
              "        <progress\n",
              "            value='80'\n",
              "            max='80',\n",
              "            style='width: 100%'\n",
              "        >\n",
              "            80\n",
              "        </progress>\n",
              "    "
            ],
            "text/plain": [
              "<IPython.core.display.HTML object>"
            ]
          },
          "metadata": {
            "tags": []
          }
        }
      ]
    },
    {
      "cell_type": "code",
      "metadata": {
        "colab": {
          "base_uri": "https://localhost:8080/"
        },
        "id": "XaBOYtg0zcDx",
        "outputId": "a1d7fbfd-da88-4f20-c246-e339d2e4279c"
      },
      "source": [
        "print(\"Data according to current analytics methods:\")\n",
        "print(\"First timestamp: \", Val_GDT004.iloc[0].name, \" and last: \", Val_GDT004.iloc[len(Val_GDT004)-1].name)\n",
        "print('length GDT004: ', len(Val_GDT004))\n",
        "print('Reported curtailment instances in GDT004: ', len(Val_GDT004[Val_GDT004.label == 'reported curtailment']), \" in percent: \", len(Val_GDT004[Val_GDT004.label == 'reported curtailment'])/len(Val_GDT004)*100, \"%\")\n",
        "print('Unreported curtailment instances in GDT004: ', len(Val_GDT004[Val_GDT004.label == 'unreported curtailment']), \" in percent: \", len(Val_GDT004[Val_GDT004.label == 'unreported curtailment'])/len(Val_GDT004)*100, \"%\")\n",
        "print('Alarm instances in GDT004: ', len(Val_GDT004[Val_GDT004.label == 'alarm']), \" in percent: \", len(Val_GDT004[Val_GDT004.label == 'alarm'])/len(Val_GDT004)*100, \"%\")\n",
        "print('Outlier instances in GDT004: ', len(Val_GDT004[Val_GDT004.label == 'outlier']), \" in percent: \", len(Val_GDT004[Val_GDT004.label == 'outlier'])/len(Val_GDT004)*100, \"%\")"
      ],
      "id": "XaBOYtg0zcDx",
      "execution_count": 33,
      "outputs": [
        {
          "output_type": "stream",
          "text": [
            "Data according to current analytics methods:\n",
            "First timestamp:  2020-01-01 00:00:00  and last:  2021-05-31 23:40:00\n",
            "length GDT004:  41335\n",
            "Reported curtailment instances in GDT004:  4797  in percent:  11.605177210596347 %\n",
            "Unreported curtailment instances in GDT004:  49  in percent:  0.11854360711261643 %\n",
            "Alarm instances in GDT004:  133  in percent:  0.32176121930567314 %\n",
            "Outlier instances in GDT004:  195  in percent:  0.47175517116245314 %\n"
          ],
          "name": "stdout"
        }
      ]
    },
    {
      "cell_type": "code",
      "metadata": {
        "colab": {
          "base_uri": "https://localhost:8080/"
        },
        "id": "Z3ELeucEGcvu",
        "outputId": "d204c12e-53a8-4258-d7c1-c6a6f69a2f2d"
      },
      "source": [
        "print(\"Data according to this model with zero production counting as curtailment and missing timestamps filled:\")\n",
        "print(\"First timestamp: \", setpoint_curtailment_timeseries_with_zeroes_filled[3].iloc[0].name, \" and last: \", setpoint_curtailment_timeseries_with_zeroes_filled[3].iloc[len(setpoint_curtailment_timeseries_with_zeroes_filled[3])-1].name)\n",
        "print('length GDT004: ', len(setpoint_curtailment_timeseries_with_zeroes_filled[3]))\n",
        "print('Reported curtailment instances in GDT004: ', len(setpoint_curtailment_timeseries_with_zeroes_filled[3][setpoint_curtailment_timeseries_with_zeroes_filled[3].Reported == True]), \" in percent: \", len(setpoint_curtailment_timeseries_with_zeroes_filled[3][setpoint_curtailment_timeseries_with_zeroes_filled[3].Reported == True])/len(setpoint_curtailment_timeseries_with_zeroes_filled[3])*100, \"%\")\n",
        "print('Unreported curtailment instances in GDT004: ', len(setpoint_curtailment_timeseries_with_zeroes_filled[3][(setpoint_curtailment_timeseries_with_zeroes_filled[3].Reported == False) & (setpoint_curtailment_timeseries_with_zeroes_filled[3].isCurtailed == True)]), \" in percent: \", len(setpoint_curtailment_timeseries_with_zeroes_filled[3][(setpoint_curtailment_timeseries_with_zeroes_filled[3].Reported == False) & (setpoint_curtailment_timeseries_with_zeroes_filled[3].isCurtailed == True)])/len(setpoint_curtailment_timeseries_with_zeroes_filled[3])*100, \"%\")"
      ],
      "id": "Z3ELeucEGcvu",
      "execution_count": 34,
      "outputs": [
        {
          "output_type": "stream",
          "text": [
            "Data according to this model with zero production counting as curtailment and missing timestamps filled:\n",
            "First timestamp:  2021-01-01 00:10:00  and last:  2021-04-30 23:50:00\n",
            "length GDT004:  17091\n",
            "Reported curtailment instances in GDT004:  2875  in percent:  16.821719033409398 %\n",
            "Unreported curtailment instances in GDT004:  94  in percent:  0.5499970744836464 %\n"
          ],
          "name": "stdout"
        }
      ]
    },
    {
      "cell_type": "code",
      "metadata": {
        "colab": {
          "base_uri": "https://localhost:8080/"
        },
        "id": "okS_jG0UHznD",
        "outputId": "0a6d96c0-4e04-4267-a34d-97f60b414293"
      },
      "source": [
        "print(\"Data according to this model with zero production not counting as curtailment and missing timestamps left out:\")\n",
        "print(\"First timestamp: \", setpoint_curtailment_timeseries_without_zeroes_unfilled[3].iloc[0].name, \" and last: \", setpoint_curtailment_timeseries_without_zeroes_unfilled[3].iloc[len(setpoint_curtailment_timeseries_without_zeroes_unfilled[3])-1].name)\n",
        "print('length GDT004: ', len(setpoint_curtailment_timeseries_without_zeroes_unfilled[3]))\n",
        "print('Reported curtailment instances in GDT004: ', len(setpoint_curtailment_timeseries_without_zeroes_unfilled[3][setpoint_curtailment_timeseries_without_zeroes_unfilled[3].Reported == True]), \" in percent: \", len(setpoint_curtailment_timeseries_without_zeroes_unfilled[3][setpoint_curtailment_timeseries_without_zeroes_unfilled[3].Reported == True])/len(setpoint_curtailment_timeseries_without_zeroes_unfilled[3])*100, \"%\")\n",
        "print('Unreported curtailment instances in GDT004: ', len(setpoint_curtailment_timeseries_without_zeroes_unfilled[3][(setpoint_curtailment_timeseries_without_zeroes_unfilled[3].Reported == False) & (setpoint_curtailment_timeseries_without_zeroes_unfilled[3].isCurtailed == True)]), \" in percent: \", len(setpoint_curtailment_timeseries_without_zeroes_unfilled[3][(setpoint_curtailment_timeseries_without_zeroes_unfilled[3].Reported == False) & (setpoint_curtailment_timeseries_without_zeroes_unfilled[3].isCurtailed == True)])/len(setpoint_curtailment_timeseries_without_zeroes_unfilled[3])*100, \"%\")"
      ],
      "id": "okS_jG0UHznD",
      "execution_count": 35,
      "outputs": [
        {
          "output_type": "stream",
          "text": [
            "Data according to this model with zero production not counting as curtailment and missing timestamps left out:\n",
            "First timestamp:  2021-01-01 00:10:00  and last:  2021-04-30 23:50:00\n",
            "length GDT004:  17072\n",
            "Reported curtailment instances in GDT004:  2870  in percent:  16.81115276476101 %\n",
            "Unreported curtailment instances in GDT004:  80  in percent:  0.4686035613870665 %\n"
          ],
          "name": "stdout"
        }
      ]
    },
    {
      "cell_type": "code",
      "metadata": {
        "colab": {
          "base_uri": "https://localhost:8080/"
        },
        "id": "tLlpmVM-eNJt",
        "outputId": "c40fe495-112e-4a1d-ee78-d958c2a7a605"
      },
      "source": [
        "print(\"Validation GDT004\")\n",
        "a, b, c = print_validation_statistics_for_curtailment(setpoint_curtailment_timeseries_without_zeroes_unfilled[3], Val_GDT004)"
      ],
      "id": "tLlpmVM-eNJt",
      "execution_count": 36,
      "outputs": [
        {
          "output_type": "stream",
          "text": [
            "Validation GDT004\n",
            "length of validation dataset:  8839  start date:  2021-01-01 05:10:00  end date:  2021-04-23 06:10:00\n",
            "length of dataset to validate:  17072  start date:  2021-01-01 00:10:00  end date:  2021-04-30 23:50:00\n",
            "length of intersected index:  8830  start date:  2021-01-01 05:10:00  end date:  2021-04-22 17:40:00\n",
            "\n",
            "general curtailment statistics: \n",
            "TP:  1210\n",
            "TN:  7452\n",
            "FP:  149\n",
            "FN:  19\n",
            "precision:  0.8903605592347315  recall/sensitivity/true positive rate:  0.9845402766476811  specificity/true negative rate  0.9803973161426128\n",
            "accuracy:  0.9809739524348811  balanced accuracy:  0.982468796395147\n",
            "\n",
            "reported curtailment statistics: \n",
            "TP:  1169\n",
            "TN:  7437\n",
            "FP:  0\n",
            "FN:  0\n",
            "precision:  1.0  recall/sensitivity/true positive rate:  1.0  specificity/true negative rate  1.0\n",
            "accuracy:  1.0  balanced accuracy:  1.0\n",
            "\n",
            "unreported curtailment statistics: \n",
            "TP:  41\n",
            "TN:  7437\n",
            "FP:  19\n",
            "FN:  0\n",
            "precision:  0.6833333333333333  recall/sensitivity/true positive rate:  1.0  specificity/true negative rate  0.9974517167381974\n",
            "accuracy:  0.9974656529278378  balanced accuracy:  0.9987258583690988\n"
          ],
          "name": "stdout"
        }
      ]
    },
    {
      "cell_type": "code",
      "metadata": {
        "colab": {
          "base_uri": "https://localhost:8080/"
        },
        "id": "g9XIQHWC3Irb",
        "outputId": "94e1a391-b2ce-437f-e29f-aad9da33ad5b"
      },
      "source": [
        "print(\"Validation GDT005\")\n",
        "a1, b1, c1 = print_validation_statistics_for_curtailment(setpoint_curtailment_timeseries_without_zeroes_unfilled[4], Val_GDT005)\n",
        "a = a.append(a1)\n",
        "b = b.append(b1)\n",
        "c = c.append(c1)"
      ],
      "id": "g9XIQHWC3Irb",
      "execution_count": 37,
      "outputs": [
        {
          "output_type": "stream",
          "text": [
            "Validation GDT005\n",
            "length of validation dataset:  8063  start date:  2021-01-01 22:30:00  end date:  2021-04-23 06:10:00\n",
            "length of dataset to validate:  17067  start date:  2021-01-01 00:10:00  end date:  2021-04-30 23:50:00\n",
            "length of intersected index:  8061  start date:  2021-01-01 22:30:00  end date:  2021-04-22 17:40:00\n",
            "\n",
            "general curtailment statistics: \n",
            "TP:  1032\n",
            "TN:  6852\n",
            "FP:  152\n",
            "FN:  25\n",
            "precision:  0.8716216216216216  recall/sensitivity/true positive rate:  0.9763481551561022  specificity/true negative rate  0.9782981153626499\n",
            "accuracy:  0.9780424264979531  balanced accuracy:  0.9773231352593761\n",
            "\n",
            "reported curtailment statistics: \n",
            "TP:  1001\n",
            "TN:  6837\n",
            "FP:  0\n",
            "FN:  0\n",
            "precision:  1.0  recall/sensitivity/true positive rate:  1.0  specificity/true negative rate  1.0\n",
            "accuracy:  1.0  balanced accuracy:  1.0\n",
            "\n",
            "unreported curtailment statistics: \n",
            "TP:  31\n",
            "TN:  6837\n",
            "FP:  25\n",
            "FN:  0\n",
            "precision:  0.5535714285714286  recall/sensitivity/true positive rate:  1.0  specificity/true negative rate  0.996356747303993\n",
            "accuracy:  0.996373132163064  balanced accuracy:  0.9981783736519965\n"
          ],
          "name": "stdout"
        }
      ]
    },
    {
      "cell_type": "code",
      "metadata": {
        "colab": {
          "base_uri": "https://localhost:8080/"
        },
        "id": "Z4JmvGd03Orh",
        "outputId": "4793d7e9-aea8-43bd-dc55-13c4f061f3aa"
      },
      "source": [
        "print(\"Validation GDT022\")\n",
        "a1, b1, c1 = print_validation_statistics_for_curtailment(setpoint_curtailment_timeseries_without_zeroes_unfilled[21], Val_GDT022)\n",
        "a = a.append(a1)\n",
        "b = b.append(b1)\n",
        "c = c.append(c1)"
      ],
      "id": "Z4JmvGd03Orh",
      "execution_count": 38,
      "outputs": [
        {
          "output_type": "stream",
          "text": [
            "Validation GDT022\n",
            "length of validation dataset:  10401  start date:  2021-01-01 04:30:00  end date:  2021-04-23 05:50:00\n",
            "length of dataset to validate:  17067  start date:  2021-01-01 00:10:00  end date:  2021-04-30 23:50:00\n",
            "length of intersected index:  10389  start date:  2021-01-01 04:30:00  end date:  2021-04-22 17:40:00\n",
            "\n",
            "general curtailment statistics: \n",
            "TP:  1742\n",
            "TN:  6952\n",
            "FP:  333\n",
            "FN:  1362\n",
            "precision:  0.8395180722891566  recall/sensitivity/true positive rate:  0.5612113402061856  specificity/true negative rate  0.954289636238847\n",
            "accuracy:  0.8368466647415536  balanced accuracy:  0.7577504882225163\n",
            "\n",
            "reported curtailment statistics: \n",
            "TP:  1249\n",
            "TN:  6940\n",
            "FP:  4\n",
            "FN:  0\n",
            "precision:  0.9968076616121309  recall/sensitivity/true positive rate:  1.0  specificity/true negative rate  0.9994239631336406\n",
            "accuracy:  0.9995117783473697  balanced accuracy:  0.9997119815668203\n",
            "\n",
            "unreported curtailment statistics: \n",
            "TP:  491\n",
            "TN:  6940\n",
            "FP:  1358\n",
            "FN:  0\n",
            "precision:  0.26554894537587886  recall/sensitivity/true positive rate:  1.0  specificity/true negative rate  0.8363461074957821\n",
            "accuracy:  0.8454886790306064  balanced accuracy:  0.918173053747891\n"
          ],
          "name": "stdout"
        }
      ]
    },
    {
      "cell_type": "code",
      "metadata": {
        "colab": {
          "base_uri": "https://localhost:8080/"
        },
        "id": "xBF3QU4f3XHB",
        "outputId": "358cdca9-3889-41b8-972e-34b333028a0b"
      },
      "source": [
        "print(\"Validation GDT024\")\n",
        "a1, b1, c1 = print_validation_statistics_for_curtailment(setpoint_curtailment_timeseries_without_zeroes_unfilled[23], Val_GDT024)\n",
        "a = a.append(a1)\n",
        "b = b.append(b1)\n",
        "c = c.append(c1)"
      ],
      "id": "xBF3QU4f3XHB",
      "execution_count": 39,
      "outputs": [
        {
          "output_type": "stream",
          "text": [
            "Validation GDT024\n",
            "length of validation dataset:  5055  start date:  2021-01-01 04:30:00  end date:  2021-04-23 05:50:00\n",
            "length of dataset to validate:  17060  start date:  2021-01-01 00:10:00  end date:  2021-04-30 23:50:00\n",
            "length of intersected index:  5043  start date:  2021-01-01 04:30:00  end date:  2021-04-21 21:50:00\n",
            "\n",
            "general curtailment statistics: \n",
            "TP:  259\n",
            "TN:  4411\n",
            "FP:  359\n",
            "FN:  14\n",
            "precision:  0.4190938511326861  recall/sensitivity/true positive rate:  0.9487179487179487  specificity/true negative rate  0.9247379454926625\n",
            "accuracy:  0.9260360896291889  balanced accuracy:  0.9367279471053056\n",
            "\n",
            "reported curtailment statistics: \n",
            "TP:  259\n",
            "TN:  4402\n",
            "FP:  8\n",
            "FN:  0\n",
            "precision:  0.9700374531835206  recall/sensitivity/true positive rate:  1.0  specificity/true negative rate  0.9981859410430839\n",
            "accuracy:  0.9982865710002142  balanced accuracy:  0.9990929705215419\n",
            "\n",
            "unreported curtailment statistics: \n",
            "TP:  0\n",
            "TN:  4402\n",
            "FP:  6\n",
            "FN:  0\n",
            "precision:  0.0  recall/sensitivity/true positive rate:  nan  specificity/true negative rate  0.9986388384754991\n",
            "accuracy:  0.9986388384754991  balanced accuracy:  nan\n"
          ],
          "name": "stdout"
        }
      ]
    },
    {
      "cell_type": "code",
      "metadata": {
        "colab": {
          "base_uri": "https://localhost:8080/"
        },
        "id": "r7dR-oT0hHW_",
        "outputId": "4026a0ab-c776-4ffa-aff0-26e939708f6c"
      },
      "source": [
        "print(\"Validation GDT025\")\n",
        "a1, b1, c1 = print_validation_statistics_for_curtailment(setpoint_curtailment_timeseries_without_zeroes_unfilled[24], Val_GDT025)\n",
        "a = a.append(a1)\n",
        "b = b.append(b1)\n",
        "c = c.append(c1)"
      ],
      "id": "r7dR-oT0hHW_",
      "execution_count": 40,
      "outputs": [
        {
          "output_type": "stream",
          "text": [
            "Validation GDT025\n",
            "length of validation dataset:  4904  start date:  2021-01-01 04:40:00  end date:  2021-04-29 16:40:00\n",
            "length of dataset to validate:  17068  start date:  2021-01-01 00:10:00  end date:  2021-04-30 23:50:00\n",
            "length of intersected index:  4897  start date:  2021-01-01 04:40:00  end date:  2021-04-19 23:50:00\n",
            "\n",
            "general curtailment statistics: \n",
            "TP:  653\n",
            "TN:  4157\n",
            "FP:  78\n",
            "FN:  9\n",
            "precision:  0.893296853625171  recall/sensitivity/true positive rate:  0.986404833836858  specificity/true negative rate  0.981582054309327\n",
            "accuracy:  0.9822340208290791  balanced accuracy:  0.9839934440730924\n",
            "\n",
            "reported curtailment statistics: \n",
            "TP:  652\n",
            "TN:  4149\n",
            "FP:  0\n",
            "FN:  0\n",
            "precision:  1.0  recall/sensitivity/true positive rate:  1.0  specificity/true negative rate  1.0\n",
            "accuracy:  1.0  balanced accuracy:  1.0\n",
            "\n",
            "unreported curtailment statistics: \n",
            "TP:  1\n",
            "TN:  4149\n",
            "FP:  9\n",
            "FN:  0\n",
            "precision:  0.1  recall/sensitivity/true positive rate:  1.0  specificity/true negative rate  0.9978354978354979\n",
            "accuracy:  0.9978360182736234  balanced accuracy:  0.998917748917749\n"
          ],
          "name": "stdout"
        }
      ]
    },
    {
      "cell_type": "markdown",
      "metadata": {
        "id": "bXW-WUrILcbB"
      },
      "source": [
        "Across all three measured properties (curtailment in general and reported vs. unreported curtailment more specifically) we can see that **the model performs very well**. Results are **similar to** those achieved with **the current analytics model** for timestamps both have in common.\n",
        "With **unreported curtailment, very low precision yet high accuracy** rates can be seen.\n",
        "This is arguably due to the new model **finding more instances** of unreported curtailment"
      ],
      "id": "bXW-WUrILcbB"
    },
    {
      "cell_type": "code",
      "metadata": {
        "id": "c1ZJkadfCxXe"
      },
      "source": [
        "valturbines = ['GDT004','GDT005','GDT022','GDT024','GDT025']\n",
        "a['Turbines'] = valturbines\n",
        "b['Turbines'] = valturbines\n",
        "c['Turbines'] = valturbines"
      ],
      "id": "c1ZJkadfCxXe",
      "execution_count": 41,
      "outputs": []
    },
    {
      "cell_type": "code",
      "metadata": {
        "id": "HYgFnR308NfW"
      },
      "source": [
        "\n",
        "a.set_index('Turbines', inplace=True, drop=True)\n",
        "b.set_index('Turbines', inplace=True, drop=True)\n",
        "c.set_index('Turbines', inplace=True, drop=True)\n"
      ],
      "id": "HYgFnR308NfW",
      "execution_count": 42,
      "outputs": []
    },
    {
      "cell_type": "code",
      "metadata": {
        "colab": {
          "base_uri": "https://localhost:8080/",
          "height": 0
        },
        "id": "Z6HQ12yO8paG",
        "outputId": "a34f858e-314e-45d0-c2a4-a8b07ed2f4bc"
      },
      "source": [
        "a.to_latex()"
      ],
      "id": "Z6HQ12yO8paG",
      "execution_count": 43,
      "outputs": [
        {
          "output_type": "execute_result",
          "data": {
            "application/vnd.google.colaboratory.intrinsic+json": {
              "type": "string"
            },
            "text/plain": [
              "'\\\\begin{tabular}{lrrrrrrrrr}\\n\\\\toprule\\n{} &    TP &    TN &   FP &    FN &       TPR &       TNR &  precision &  accuracy &  balanced accuracy \\\\\\\\\\nTurbines &       &       &      &       &           &           &            &           &                    \\\\\\\\\\n\\\\midrule\\nGDT004   &  1210 &  7452 &  149 &    19 &  0.984540 &  0.980397 &   0.890361 &  0.980974 &           0.982469 \\\\\\\\\\nGDT005   &  1032 &  6852 &  152 &    25 &  0.976348 &  0.978298 &   0.871622 &  0.978042 &           0.977323 \\\\\\\\\\nGDT022   &  1742 &  6952 &  333 &  1362 &  0.561211 &  0.954290 &   0.839518 &  0.836847 &           0.757750 \\\\\\\\\\nGDT024   &   259 &  4411 &  359 &    14 &  0.948718 &  0.924738 &   0.419094 &  0.926036 &           0.936728 \\\\\\\\\\nGDT025   &   653 &  4157 &   78 &     9 &  0.986405 &  0.981582 &   0.893297 &  0.982234 &           0.983993 \\\\\\\\\\n\\\\bottomrule\\n\\\\end{tabular}\\n'"
            ]
          },
          "metadata": {
            "tags": []
          },
          "execution_count": 43
        }
      ]
    },
    {
      "cell_type": "code",
      "metadata": {
        "colab": {
          "base_uri": "https://localhost:8080/",
          "height": 0
        },
        "id": "1e4-5Is38pvW",
        "outputId": "3a8a027c-8834-4995-d583-d7ab4d5a532a"
      },
      "source": [
        "b.to_latex()"
      ],
      "id": "1e4-5Is38pvW",
      "execution_count": 44,
      "outputs": [
        {
          "output_type": "execute_result",
          "data": {
            "application/vnd.google.colaboratory.intrinsic+json": {
              "type": "string"
            },
            "text/plain": [
              "'\\\\begin{tabular}{lrrrrrrrrr}\\n\\\\toprule\\n{} &    TP &    TN &  FP &  FN &  TPR &       TNR &  precision &  accuracy &  balanced accuracy \\\\\\\\\\nTurbines &       &       &     &     &      &           &            &           &                    \\\\\\\\\\n\\\\midrule\\nGDT004   &  1169 &  7437 &   0 &   0 &  1.0 &  1.000000 &   1.000000 &  1.000000 &           1.000000 \\\\\\\\\\nGDT005   &  1001 &  6837 &   0 &   0 &  1.0 &  1.000000 &   1.000000 &  1.000000 &           1.000000 \\\\\\\\\\nGDT022   &  1249 &  6940 &   4 &   0 &  1.0 &  0.999424 &   0.996808 &  0.999512 &           0.999712 \\\\\\\\\\nGDT024   &   259 &  4402 &   8 &   0 &  1.0 &  0.998186 &   0.970037 &  0.998287 &           0.999093 \\\\\\\\\\nGDT025   &   652 &  4149 &   0 &   0 &  1.0 &  1.000000 &   1.000000 &  1.000000 &           1.000000 \\\\\\\\\\n\\\\bottomrule\\n\\\\end{tabular}\\n'"
            ]
          },
          "metadata": {
            "tags": []
          },
          "execution_count": 44
        }
      ]
    },
    {
      "cell_type": "code",
      "metadata": {
        "colab": {
          "base_uri": "https://localhost:8080/",
          "height": 0
        },
        "id": "hVj3UHHW8p8-",
        "outputId": "93d54ffd-2514-4b25-a4f9-ac6410494e98"
      },
      "source": [
        "c.to_latex()"
      ],
      "id": "hVj3UHHW8p8-",
      "execution_count": 45,
      "outputs": [
        {
          "output_type": "execute_result",
          "data": {
            "application/vnd.google.colaboratory.intrinsic+json": {
              "type": "string"
            },
            "text/plain": [
              "'\\\\begin{tabular}{lrrrrrrrrr}\\n\\\\toprule\\n{} &   TP &    TN &    FP &  FN &  TPR &       TNR &  precision &  accuracy &  balanced accuracy \\\\\\\\\\nTurbines &      &       &       &     &      &           &            &           &                    \\\\\\\\\\n\\\\midrule\\nGDT004   &   41 &  7437 &    19 &   0 &  1.0 &  0.997452 &   0.683333 &  0.997466 &           0.998726 \\\\\\\\\\nGDT005   &   31 &  6837 &    25 &   0 &  1.0 &  0.996357 &   0.553571 &  0.996373 &           0.998178 \\\\\\\\\\nGDT022   &  491 &  6940 &  1358 &   0 &  1.0 &  0.836346 &   0.265549 &  0.845489 &           0.918173 \\\\\\\\\\nGDT024   &    0 &  4402 &     6 &   0 &  NaN &  0.998639 &   0.000000 &  0.998639 &                NaN \\\\\\\\\\nGDT025   &    1 &  4149 &     9 &   0 &  1.0 &  0.997835 &   0.100000 &  0.997836 &           0.998918 \\\\\\\\\\n\\\\bottomrule\\n\\\\end{tabular}\\n'"
            ]
          },
          "metadata": {
            "tags": []
          },
          "execution_count": 45
        }
      ]
    },
    {
      "cell_type": "code",
      "metadata": {
        "colab": {
          "base_uri": "https://localhost:8080/"
        },
        "id": "Oe_0ZJUl_iVP",
        "outputId": "bd3ee7dd-9816-4477-f91b-c0be07799320"
      },
      "source": [
        "len(Val_GDT024[((Val_GDT024.label == 'reported curtailment') | (Val_GDT024.label == 'unreported curtailment')) & (Val_GDT024.index >= '2021-01-01 00:00:00') & (Val_GDT024.index < '2021-05-01 00:00:00')])"
      ],
      "id": "Oe_0ZJUl_iVP",
      "execution_count": 46,
      "outputs": [
        {
          "output_type": "execute_result",
          "data": {
            "text/plain": [
              "618"
            ]
          },
          "metadata": {
            "tags": []
          },
          "execution_count": 46
        }
      ]
    },
    {
      "cell_type": "code",
      "metadata": {
        "colab": {
          "base_uri": "https://localhost:8080/"
        },
        "id": "uKMgnin-GXiS",
        "outputId": "ec361cec-3366-46e2-cc8e-c06e6c23e5ea"
      },
      "source": [
        "len(setpoint_curtailment_timeseries_without_zeroes_unfilled[23][setpoint_curtailment_timeseries_without_zeroes_unfilled[23].Reported == True])"
      ],
      "id": "uKMgnin-GXiS",
      "execution_count": 47,
      "outputs": [
        {
          "output_type": "execute_result",
          "data": {
            "text/plain": [
              "2870"
            ]
          },
          "metadata": {
            "tags": []
          },
          "execution_count": 47
        }
      ]
    },
    {
      "cell_type": "markdown",
      "metadata": {
        "id": "jMjxb7ruyNBi"
      },
      "source": [
        "#### Event-related\n"
      ],
      "id": "jMjxb7ruyNBi"
    },
    {
      "cell_type": "markdown",
      "metadata": {
        "id": "pU7wM0hz_KJy"
      },
      "source": [
        "##### function"
      ],
      "id": "pU7wM0hz_KJy"
    },
    {
      "cell_type": "code",
      "metadata": {
        "id": "WBsh48hIZ7L3"
      },
      "source": [
        "def compute_duration_coverage(turbine_curtailments: pd.DataFrame, turbine_events: pd.DataFrame, filter_known_curtailment=False, filter_technician=True, compute_difference_5112=False, minimum_duration=None):\n",
        "  \"\"\"\n",
        "  Rank events according to how much of their total duration is covered \n",
        "  by curtailment.\n",
        "\n",
        "  Args:\n",
        "      turbine_curtailments: DataFrame containing flagged curtailment data for\n",
        "      one turbine. All event flags required\n",
        "\n",
        "      turbine_events: raw event DataFrame\n",
        "\n",
        "      filter_known_curtailment: if True, only curtailment with unknown causes\n",
        "      will be used. NB: unknown curtailment triggers might still happen while \n",
        "      a reported curtailment is active or while wind is high.\n",
        "\n",
        "      compute_difference_5112: if True difference between total duration of 5112\n",
        "      events and durations covered by curtailment will be computed. This is \n",
        "      mainly used to check which turbines are more affected by 5112 (for dev\n",
        "      purposes)\n",
        "\n",
        "      filter_technician = include technician curtailment in the filtering process\n",
        "\n",
        "      minimum_duration = threshold for dropping potentially less relevant \n",
        "      low-duration events.\n",
        "\n",
        "  Returns:\n",
        "      DataFrame with rankeable events (and a debug dataframe containing \n",
        "      information pertaining event 5112)\n",
        "  \"\"\"\n",
        "\n",
        "  codes = turbine_events['ErrorCode'].unique()\n",
        "  codes = np.sort(codes)\n",
        "\n",
        "  turbines = SCADA_setpoint[\"Turbine\"].unique()\n",
        "  turbines = np.sort(names)\n",
        "\n",
        "  discovered_curtailments = turbine_curtailments\n",
        "\n",
        "  covered_ratio_data = pd.DataFrame(data=0, index=codes, columns=['total_covered_duration'])\n",
        "  col_names = [str(code) + '_Coverage_Duration' for code in codes]\n",
        "      \n",
        "  if compute_difference_5112:\n",
        "    difference_ratio = pd.DataFrame(data=0, index=turbines, columns=['covered_dur','total_dur'])\n",
        "\n",
        "  progressbar = display(progress(0, len(discovered_curtailments)), display_id=True)\n",
        "  i = 0\n",
        "  # Iterate over list of turbine curtailments\n",
        "  for curtailment_data in discovered_curtailments:\n",
        "\n",
        "    #Filter data if causes already known and if parameter set\n",
        "    if filter_known_curtailment:\n",
        "      if filter_technician:\n",
        "        tmp = curtailment_data[~curtailment_data.Reported & \n",
        "                              ~curtailment_data.HWRT & \n",
        "                              ~curtailment_data.isTechnicianCurtailment].agg(\n",
        "                                  ['sum'])[col_names]\n",
        "      else:\n",
        "          tmp = curtailment_data[~curtailment_data.Reported & \n",
        "                              ~curtailment_data.HWRT].agg(\n",
        "                                  ['sum'])[col_names]\n",
        "    else:\n",
        "      tmp = curtailment_data.agg(['sum'])[col_names]\n",
        "    \n",
        "    if compute_difference_5112:\n",
        "      #Compute difference \n",
        "      difference_ratio.at[turbines[i], 'covered_dur'] = tmp['5112_Coverage_Duration']\n",
        "      difference_ratio.at[turbines[i], 'total_dur'] = turbine_events[turbine_events.Turbine == turbines[i]].groupby(by=['ErrorCode']).Duration.sum().dt.total_seconds().loc[5112]\n",
        "\n",
        "    tmp.columns = codes\n",
        "    tmp = tmp.transpose()\n",
        "    tmp.columns = ['total_covered_duration']\n",
        "    covered_ratio_data = covered_ratio_data+tmp\n",
        "    i += 1\n",
        "    progressbar.update(progress(i, len(discovered_curtailments)))\n",
        "\n",
        "  if compute_difference_5112:\n",
        "    difference_ratio['difference'] = difference_ratio['total_dur']-difference_ratio['covered_dur']\n",
        "\n",
        "  covered_ratio_data['total_duration'] = turbine_events.groupby(by=['ErrorCode']).Duration.sum().dt.total_seconds()\n",
        "\n",
        "  covered_ratio_data['total_coverage_ratio'] = (covered_ratio_data['total_covered_duration']/covered_ratio_data['total_duration'])\n",
        "  covered_ratio_data['total_coverage_ratio'].fillna(0)\n",
        "\n",
        "  if minimum_duration != None:\n",
        "    covered_ratio_data = covered_ratio_data[covered_ratio_data.total_duration > minimum_duration]\n",
        "\n",
        "  if compute_difference_5112:\n",
        "    return covered_ratio_data, difference_ratio\n",
        "  else:\n",
        "    return covered_ratio_data\n",
        "\n",
        "def produce_event_ranking(covered_ratio_data: pd.DataFrame, turbine_events: pd.DataFrame):\n",
        "  \"\"\"\n",
        "  Takes the output of the duration coverage function and make the dataframe pretty\n",
        "\n",
        "  Args:\n",
        "      covered_ratio_data: DataFrame containing the output of the duration coverage function\n",
        "\n",
        "  Returns:\n",
        "      pretty-printable dataframe\n",
        "  \"\"\"\n",
        "\n",
        "  ranking_zero = covered_ratio_data.sort_values(by=['total_coverage_ratio'], ascending=False)\n",
        "  ranking_zero['rank'] = range(1, len(ranking_zero)+1)\n",
        "\n",
        "  topdesc = [turbine_events[turbine_events.ErrorCode ==value].iloc[0].Text for value in ranking_zero]\n",
        "  ranking_zero['description'] = topdesc\n",
        "  ranking_zero['code'] = ranking_zero.index\n",
        "\n",
        "  return ranking_zero[['rank', 'code', 'total_coverage_ratio', 'description']]"
      ],
      "id": "WBsh48hIZ7L3",
      "execution_count": 48,
      "outputs": []
    },
    {
      "cell_type": "markdown",
      "metadata": {
        "id": "UMuP6FmI_QPJ"
      },
      "source": [
        "##### execution"
      ],
      "id": "UMuP6FmI_QPJ"
    },
    {
      "cell_type": "code",
      "metadata": {
        "colab": {
          "base_uri": "https://localhost:8080/",
          "height": 51
        },
        "id": "YY0-FXg80JBx",
        "outputId": "207927bf-4b1f-474a-ba0b-8dadea18b0a3"
      },
      "source": [
        "a, b = extract_curtailment_windows(SCADA_setpoint, fill_missing_data=True, count_zero_as_curtailment=True)\n",
        "\n",
        "names = SCADA_setpoint[\"Turbine\"].unique()\n",
        "names = np.sort(names)\n",
        "\n",
        "\n",
        "single_turbine_events = turbine_events[turbine_events['Turbine']==names[0]].sort_values(by=['From'])\n",
        "single_turbine_events = single_turbine_events.set_index('From')\n",
        "\n",
        "turbine_curtailments = a[0].copy()\n",
        "turbine_curtailments = expand_dummy_event_columns(turbine_curtailments, turbine_events, missing_as_na=True)\n",
        "\n",
        "#display(single_turbine_events[single_turbine_events.ErrorCode == 5112])\n",
        "#display(SCADA_setpoint[(SCADA_setpoint.Turbine == 'GDT001') & (SCADA_setpoint.Timestamp > '2021-04-22 17:00:00') & (SCADA_setpoint.Timestamp < '2021-04-23 06:50:00')])\n",
        "t0 = time.time()\n",
        "efficient_event_overlap_calculation(turbine_curtailments, single_turbine_events)\n",
        "\n",
        "t1 = time.time()\n",
        "\n",
        "print(t1-t0)"
      ],
      "id": "YY0-FXg80JBx",
      "execution_count": 49,
      "outputs": [
        {
          "output_type": "display_data",
          "data": {
            "text/html": [
              "\n",
              "        <progress\n",
              "            value='80'\n",
              "            max='80',\n",
              "            style='width: 100%'\n",
              "        >\n",
              "            80\n",
              "        </progress>\n",
              "    "
            ],
            "text/plain": [
              "<IPython.core.display.HTML object>"
            ]
          },
          "metadata": {
            "tags": []
          }
        },
        {
          "output_type": "stream",
          "text": [
            "0.7148406505584717\n"
          ],
          "name": "stdout"
        }
      ]
    },
    {
      "cell_type": "code",
      "metadata": {
        "colab": {
          "base_uri": "https://localhost:8080/",
          "height": 85
        },
        "id": "fxeXfIU0hHPV",
        "outputId": "ec280ab8-d551-4008-87fd-c9effda57903"
      },
      "source": [
        "t0 = time.time()\n",
        "\n",
        "curtailments_without_zeroes, timeseries_without_zeroes = extract_curtailment_windows(SCADA_setpoint, additional_flags=True, fill_missing_data=False, SCADA_wind=SCADA_wind, curtailment_reports=curtailment_reports, turbine_events=turbine_events)\n",
        "\n",
        "t1 = time.time()\n",
        "print(t1-t0)\n",
        "\n",
        "t0 = time.time()\n",
        "\n",
        "curtailments_with_zeroes, timeseries_with_zeroes = extract_curtailment_windows(SCADA_setpoint, additional_flags=True, fill_missing_data=True, count_zero_as_curtailment=True, SCADA_wind=SCADA_wind, curtailment_reports=curtailment_reports, turbine_events=turbine_events)\n",
        "\n",
        "t1 = time.time()\n",
        "print(t1-t0)"
      ],
      "id": "fxeXfIU0hHPV",
      "execution_count": 50,
      "outputs": [
        {
          "output_type": "display_data",
          "data": {
            "text/html": [
              "\n",
              "        <progress\n",
              "            value='80'\n",
              "            max='80',\n",
              "            style='width: 100%'\n",
              "        >\n",
              "            80\n",
              "        </progress>\n",
              "    "
            ],
            "text/plain": [
              "<IPython.core.display.HTML object>"
            ]
          },
          "metadata": {
            "tags": []
          }
        },
        {
          "output_type": "stream",
          "text": [
            "309.15993762016296\n"
          ],
          "name": "stdout"
        },
        {
          "output_type": "display_data",
          "data": {
            "text/html": [
              "\n",
              "        <progress\n",
              "            value='80'\n",
              "            max='80',\n",
              "            style='width: 100%'\n",
              "        >\n",
              "            80\n",
              "        </progress>\n",
              "    "
            ],
            "text/plain": [
              "<IPython.core.display.HTML object>"
            ]
          },
          "metadata": {
            "tags": []
          }
        },
        {
          "output_type": "stream",
          "text": [
            "314.450288772583\n"
          ],
          "name": "stdout"
        }
      ]
    },
    {
      "cell_type": "code",
      "metadata": {
        "id": "JW2rRfplIR3s",
        "colab": {
          "base_uri": "https://localhost:8080/",
          "height": 68
        },
        "outputId": "eca21e1d-e224-4f7b-ebec-8ada94dee615"
      },
      "source": [
        "with_zeroes = curtailments_with_zeroes.copy()\n",
        "stats_zeroes, covered_ratio_zeroes = compute_duration_coverage(with_zeroes, turbine_events, compute_difference_5112=True)\n",
        "\n",
        "without_zeroes = curtailments_without_zeroes.copy()\n",
        "stats_no_zeroes = compute_duration_coverage(without_zeroes, turbine_events)\n",
        "\n",
        "stats_no_curtailment = compute_duration_coverage(with_zeroes, turbine_events, filter_known_curtailment=True)"
      ],
      "id": "JW2rRfplIR3s",
      "execution_count": 51,
      "outputs": [
        {
          "output_type": "display_data",
          "data": {
            "text/html": [
              "\n",
              "        <progress\n",
              "            value='80'\n",
              "            max='80',\n",
              "            style='width: 100%'\n",
              "        >\n",
              "            80\n",
              "        </progress>\n",
              "    "
            ],
            "text/plain": [
              "<IPython.core.display.HTML object>"
            ]
          },
          "metadata": {
            "tags": []
          }
        },
        {
          "output_type": "display_data",
          "data": {
            "text/html": [
              "\n",
              "        <progress\n",
              "            value='80'\n",
              "            max='80',\n",
              "            style='width: 100%'\n",
              "        >\n",
              "            80\n",
              "        </progress>\n",
              "    "
            ],
            "text/plain": [
              "<IPython.core.display.HTML object>"
            ]
          },
          "metadata": {
            "tags": []
          }
        },
        {
          "output_type": "display_data",
          "data": {
            "text/html": [
              "\n",
              "        <progress\n",
              "            value='80'\n",
              "            max='80',\n",
              "            style='width: 100%'\n",
              "        >\n",
              "            80\n",
              "        </progress>\n",
              "    "
            ],
            "text/plain": [
              "<IPython.core.display.HTML object>"
            ]
          },
          "metadata": {
            "tags": []
          }
        }
      ]
    },
    {
      "cell_type": "code",
      "metadata": {
        "colab": {
          "base_uri": "https://localhost:8080/",
          "height": 34
        },
        "id": "aLzsm5ENSf3Z",
        "outputId": "9c6e466d-4b8a-4d04-cf85-b587f22b43c5"
      },
      "source": [
        "stats_no_curtailment_without_zeroes_not_filled = compute_duration_coverage(without_zeroes, turbine_events, filter_known_curtailment=True)"
      ],
      "id": "aLzsm5ENSf3Z",
      "execution_count": 52,
      "outputs": [
        {
          "output_type": "display_data",
          "data": {
            "text/html": [
              "\n",
              "        <progress\n",
              "            value='80'\n",
              "            max='80',\n",
              "            style='width: 100%'\n",
              "        >\n",
              "            80\n",
              "        </progress>\n",
              "    "
            ],
            "text/plain": [
              "<IPython.core.display.HTML object>"
            ]
          },
          "metadata": {
            "tags": []
          }
        }
      ]
    },
    {
      "cell_type": "code",
      "metadata": {
        "colab": {
          "base_uri": "https://localhost:8080/",
          "height": 1000
        },
        "id": "Dj1bezkyO-yo",
        "outputId": "254d002f-fc8d-421e-91cf-2370c1636fc6"
      },
      "source": [
        "ranking_zero = stats_zeroes.sort_values(by=['total_coverage_ratio'], ascending=False)\n",
        "ranking_non_zero = stats_no_zeroes.sort_values(by=['total_coverage_ratio'], ascending=False)\n",
        "ranking_non_curtailed = stats_no_curtailment.sort_values(by=['total_coverage_ratio'], ascending=False)\n",
        "ranking_non_curtailed_without_zeroes = stats_no_curtailment_without_zeroes_not_filled.sort_values(by=['total_coverage_ratio'], ascending=False)\n",
        "\n",
        "ranking_zero['rank'] = range(1, len(ranking_zero)+1)\n",
        "ranking_non_zero['rank'] = range(1, len(ranking_non_zero)+1)\n",
        "ranking_non_curtailed['rank'] = range(1, len(ranking_non_curtailed)+1)\n",
        "ranking_non_curtailed_without_zeroes['rank'] = range(1, len(ranking_non_curtailed_without_zeroes)+1)\n",
        "\n",
        "print(\"number of codes: \", len(ranking_non_zero))\n",
        "print(\"rank of event 5112 in dataset with filled nans: \", ranking_zero.loc[5112]['rank'], \n",
        "      \" rank in dataset with dropped nans: \", ranking_non_zero.loc[5112]['rank'], \n",
        "      \" rank in dataset with known curtailment removed: \", ranking_non_curtailed.loc[5112]['rank'])\n",
        "\n",
        "display(ranking_zero.head(25))\n",
        "display(ranking_non_zero.head(25))\n",
        "display(ranking_non_curtailed.head(25))"
      ],
      "id": "Dj1bezkyO-yo",
      "execution_count": 53,
      "outputs": [
        {
          "output_type": "stream",
          "text": [
            "number of codes:  365\n",
            "rank of event 5112 in dataset with filled nans:  33.0  rank in dataset with dropped nans:  136.0  rank in dataset with known curtailment removed:  21.0\n"
          ],
          "name": "stdout"
        },
        {
          "output_type": "display_data",
          "data": {
            "text/html": [
              "<div>\n",
              "<style scoped>\n",
              "    .dataframe tbody tr th:only-of-type {\n",
              "        vertical-align: middle;\n",
              "    }\n",
              "\n",
              "    .dataframe tbody tr th {\n",
              "        vertical-align: top;\n",
              "    }\n",
              "\n",
              "    .dataframe thead th {\n",
              "        text-align: right;\n",
              "    }\n",
              "</style>\n",
              "<table border=\"1\" class=\"dataframe\">\n",
              "  <thead>\n",
              "    <tr style=\"text-align: right;\">\n",
              "      <th></th>\n",
              "      <th>total_covered_duration</th>\n",
              "      <th>total_duration</th>\n",
              "      <th>total_coverage_ratio</th>\n",
              "      <th>rank</th>\n",
              "    </tr>\n",
              "  </thead>\n",
              "  <tbody>\n",
              "    <tr>\n",
              "      <th>9100</th>\n",
              "      <td>4200.0</td>\n",
              "      <td>4200.0</td>\n",
              "      <td>1.000000</td>\n",
              "      <td>1</td>\n",
              "    </tr>\n",
              "    <tr>\n",
              "      <th>63307</th>\n",
              "      <td>6000.0</td>\n",
              "      <td>6000.0</td>\n",
              "      <td>1.000000</td>\n",
              "      <td>2</td>\n",
              "    </tr>\n",
              "    <tr>\n",
              "      <th>15214</th>\n",
              "      <td>9000.0</td>\n",
              "      <td>9000.0</td>\n",
              "      <td>1.000000</td>\n",
              "      <td>3</td>\n",
              "    </tr>\n",
              "    <tr>\n",
              "      <th>15213</th>\n",
              "      <td>202200.0</td>\n",
              "      <td>202200.0</td>\n",
              "      <td>1.000000</td>\n",
              "      <td>4</td>\n",
              "    </tr>\n",
              "    <tr>\n",
              "      <th>13910</th>\n",
              "      <td>4800.0</td>\n",
              "      <td>4800.0</td>\n",
              "      <td>1.000000</td>\n",
              "      <td>5</td>\n",
              "    </tr>\n",
              "    <tr>\n",
              "      <th>63302</th>\n",
              "      <td>5400.0</td>\n",
              "      <td>5400.0</td>\n",
              "      <td>1.000000</td>\n",
              "      <td>6</td>\n",
              "    </tr>\n",
              "    <tr>\n",
              "      <th>13345</th>\n",
              "      <td>159000.0</td>\n",
              "      <td>159000.0</td>\n",
              "      <td>1.000000</td>\n",
              "      <td>7</td>\n",
              "    </tr>\n",
              "    <tr>\n",
              "      <th>13122</th>\n",
              "      <td>1200.0</td>\n",
              "      <td>1200.0</td>\n",
              "      <td>1.000000</td>\n",
              "      <td>8</td>\n",
              "    </tr>\n",
              "    <tr>\n",
              "      <th>13104</th>\n",
              "      <td>4800.0</td>\n",
              "      <td>4800.0</td>\n",
              "      <td>1.000000</td>\n",
              "      <td>9</td>\n",
              "    </tr>\n",
              "    <tr>\n",
              "      <th>12120</th>\n",
              "      <td>200400.0</td>\n",
              "      <td>200400.0</td>\n",
              "      <td>1.000000</td>\n",
              "      <td>10</td>\n",
              "    </tr>\n",
              "    <tr>\n",
              "      <th>63306</th>\n",
              "      <td>5400.0</td>\n",
              "      <td>5400.0</td>\n",
              "      <td>1.000000</td>\n",
              "      <td>11</td>\n",
              "    </tr>\n",
              "    <tr>\n",
              "      <th>12112</th>\n",
              "      <td>200400.0</td>\n",
              "      <td>200400.0</td>\n",
              "      <td>1.000000</td>\n",
              "      <td>12</td>\n",
              "    </tr>\n",
              "    <tr>\n",
              "      <th>923</th>\n",
              "      <td>3000.0</td>\n",
              "      <td>3000.0</td>\n",
              "      <td>1.000000</td>\n",
              "      <td>13</td>\n",
              "    </tr>\n",
              "    <tr>\n",
              "      <th>9104</th>\n",
              "      <td>1200.0</td>\n",
              "      <td>1200.0</td>\n",
              "      <td>1.000000</td>\n",
              "      <td>14</td>\n",
              "    </tr>\n",
              "    <tr>\n",
              "      <th>63309</th>\n",
              "      <td>5400.0</td>\n",
              "      <td>5400.0</td>\n",
              "      <td>1.000000</td>\n",
              "      <td>15</td>\n",
              "    </tr>\n",
              "    <tr>\n",
              "      <th>63310</th>\n",
              "      <td>6000.0</td>\n",
              "      <td>6000.0</td>\n",
              "      <td>1.000000</td>\n",
              "      <td>16</td>\n",
              "    </tr>\n",
              "    <tr>\n",
              "      <th>63311</th>\n",
              "      <td>5400.0</td>\n",
              "      <td>5400.0</td>\n",
              "      <td>1.000000</td>\n",
              "      <td>17</td>\n",
              "    </tr>\n",
              "    <tr>\n",
              "      <th>8311</th>\n",
              "      <td>27600.0</td>\n",
              "      <td>27600.0</td>\n",
              "      <td>1.000000</td>\n",
              "      <td>18</td>\n",
              "    </tr>\n",
              "    <tr>\n",
              "      <th>8260</th>\n",
              "      <td>14400.0</td>\n",
              "      <td>14400.0</td>\n",
              "      <td>1.000000</td>\n",
              "      <td>19</td>\n",
              "    </tr>\n",
              "    <tr>\n",
              "      <th>7133</th>\n",
              "      <td>1200.0</td>\n",
              "      <td>1200.0</td>\n",
              "      <td>1.000000</td>\n",
              "      <td>20</td>\n",
              "    </tr>\n",
              "    <tr>\n",
              "      <th>7110</th>\n",
              "      <td>1200.0</td>\n",
              "      <td>1200.0</td>\n",
              "      <td>1.000000</td>\n",
              "      <td>21</td>\n",
              "    </tr>\n",
              "    <tr>\n",
              "      <th>7102</th>\n",
              "      <td>600.0</td>\n",
              "      <td>600.0</td>\n",
              "      <td>1.000000</td>\n",
              "      <td>22</td>\n",
              "    </tr>\n",
              "    <tr>\n",
              "      <th>64054</th>\n",
              "      <td>200400.0</td>\n",
              "      <td>200400.0</td>\n",
              "      <td>1.000000</td>\n",
              "      <td>23</td>\n",
              "    </tr>\n",
              "    <tr>\n",
              "      <th>15133</th>\n",
              "      <td>368400.0</td>\n",
              "      <td>370200.0</td>\n",
              "      <td>0.995138</td>\n",
              "      <td>24</td>\n",
              "    </tr>\n",
              "    <tr>\n",
              "      <th>63003</th>\n",
              "      <td>6302400.0</td>\n",
              "      <td>6334200.0</td>\n",
              "      <td>0.994980</td>\n",
              "      <td>25</td>\n",
              "    </tr>\n",
              "  </tbody>\n",
              "</table>\n",
              "</div>"
            ],
            "text/plain": [
              "       total_covered_duration  total_duration  total_coverage_ratio  rank\n",
              "9100                   4200.0          4200.0              1.000000     1\n",
              "63307                  6000.0          6000.0              1.000000     2\n",
              "15214                  9000.0          9000.0              1.000000     3\n",
              "15213                202200.0        202200.0              1.000000     4\n",
              "13910                  4800.0          4800.0              1.000000     5\n",
              "63302                  5400.0          5400.0              1.000000     6\n",
              "13345                159000.0        159000.0              1.000000     7\n",
              "13122                  1200.0          1200.0              1.000000     8\n",
              "13104                  4800.0          4800.0              1.000000     9\n",
              "12120                200400.0        200400.0              1.000000    10\n",
              "63306                  5400.0          5400.0              1.000000    11\n",
              "12112                200400.0        200400.0              1.000000    12\n",
              "923                    3000.0          3000.0              1.000000    13\n",
              "9104                   1200.0          1200.0              1.000000    14\n",
              "63309                  5400.0          5400.0              1.000000    15\n",
              "63310                  6000.0          6000.0              1.000000    16\n",
              "63311                  5400.0          5400.0              1.000000    17\n",
              "8311                  27600.0         27600.0              1.000000    18\n",
              "8260                  14400.0         14400.0              1.000000    19\n",
              "7133                   1200.0          1200.0              1.000000    20\n",
              "7110                   1200.0          1200.0              1.000000    21\n",
              "7102                    600.0           600.0              1.000000    22\n",
              "64054                200400.0        200400.0              1.000000    23\n",
              "15133                368400.0        370200.0              0.995138    24\n",
              "63003               6302400.0       6334200.0              0.994980    25"
            ]
          },
          "metadata": {
            "tags": []
          }
        },
        {
          "output_type": "display_data",
          "data": {
            "text/html": [
              "<div>\n",
              "<style scoped>\n",
              "    .dataframe tbody tr th:only-of-type {\n",
              "        vertical-align: middle;\n",
              "    }\n",
              "\n",
              "    .dataframe tbody tr th {\n",
              "        vertical-align: top;\n",
              "    }\n",
              "\n",
              "    .dataframe thead th {\n",
              "        text-align: right;\n",
              "    }\n",
              "</style>\n",
              "<table border=\"1\" class=\"dataframe\">\n",
              "  <thead>\n",
              "    <tr style=\"text-align: right;\">\n",
              "      <th></th>\n",
              "      <th>total_covered_duration</th>\n",
              "      <th>total_duration</th>\n",
              "      <th>total_coverage_ratio</th>\n",
              "      <th>rank</th>\n",
              "    </tr>\n",
              "  </thead>\n",
              "  <tbody>\n",
              "    <tr>\n",
              "      <th>9100</th>\n",
              "      <td>4200.0</td>\n",
              "      <td>4200.0</td>\n",
              "      <td>1.000000</td>\n",
              "      <td>1</td>\n",
              "    </tr>\n",
              "    <tr>\n",
              "      <th>7133</th>\n",
              "      <td>1200.0</td>\n",
              "      <td>1200.0</td>\n",
              "      <td>1.000000</td>\n",
              "      <td>2</td>\n",
              "    </tr>\n",
              "    <tr>\n",
              "      <th>13910</th>\n",
              "      <td>4800.0</td>\n",
              "      <td>4800.0</td>\n",
              "      <td>1.000000</td>\n",
              "      <td>3</td>\n",
              "    </tr>\n",
              "    <tr>\n",
              "      <th>13122</th>\n",
              "      <td>1200.0</td>\n",
              "      <td>1200.0</td>\n",
              "      <td>1.000000</td>\n",
              "      <td>4</td>\n",
              "    </tr>\n",
              "    <tr>\n",
              "      <th>13104</th>\n",
              "      <td>4800.0</td>\n",
              "      <td>4800.0</td>\n",
              "      <td>1.000000</td>\n",
              "      <td>5</td>\n",
              "    </tr>\n",
              "    <tr>\n",
              "      <th>923</th>\n",
              "      <td>3000.0</td>\n",
              "      <td>3000.0</td>\n",
              "      <td>1.000000</td>\n",
              "      <td>6</td>\n",
              "    </tr>\n",
              "    <tr>\n",
              "      <th>15214</th>\n",
              "      <td>9000.0</td>\n",
              "      <td>9000.0</td>\n",
              "      <td>1.000000</td>\n",
              "      <td>7</td>\n",
              "    </tr>\n",
              "    <tr>\n",
              "      <th>9104</th>\n",
              "      <td>1200.0</td>\n",
              "      <td>1200.0</td>\n",
              "      <td>1.000000</td>\n",
              "      <td>8</td>\n",
              "    </tr>\n",
              "    <tr>\n",
              "      <th>15213</th>\n",
              "      <td>202200.0</td>\n",
              "      <td>202200.0</td>\n",
              "      <td>1.000000</td>\n",
              "      <td>9</td>\n",
              "    </tr>\n",
              "    <tr>\n",
              "      <th>7110</th>\n",
              "      <td>1200.0</td>\n",
              "      <td>1200.0</td>\n",
              "      <td>1.000000</td>\n",
              "      <td>10</td>\n",
              "    </tr>\n",
              "    <tr>\n",
              "      <th>7102</th>\n",
              "      <td>600.0</td>\n",
              "      <td>600.0</td>\n",
              "      <td>1.000000</td>\n",
              "      <td>11</td>\n",
              "    </tr>\n",
              "    <tr>\n",
              "      <th>15006</th>\n",
              "      <td>58200.0</td>\n",
              "      <td>60600.0</td>\n",
              "      <td>0.960396</td>\n",
              "      <td>12</td>\n",
              "    </tr>\n",
              "    <tr>\n",
              "      <th>63503</th>\n",
              "      <td>9000.0</td>\n",
              "      <td>9600.0</td>\n",
              "      <td>0.937500</td>\n",
              "      <td>13</td>\n",
              "    </tr>\n",
              "    <tr>\n",
              "      <th>14213</th>\n",
              "      <td>66600.0</td>\n",
              "      <td>71400.0</td>\n",
              "      <td>0.932773</td>\n",
              "      <td>14</td>\n",
              "    </tr>\n",
              "    <tr>\n",
              "      <th>2006</th>\n",
              "      <td>7312800.0</td>\n",
              "      <td>8086800.0</td>\n",
              "      <td>0.904288</td>\n",
              "      <td>15</td>\n",
              "    </tr>\n",
              "    <tr>\n",
              "      <th>63307</th>\n",
              "      <td>5400.0</td>\n",
              "      <td>6000.0</td>\n",
              "      <td>0.900000</td>\n",
              "      <td>16</td>\n",
              "    </tr>\n",
              "    <tr>\n",
              "      <th>63310</th>\n",
              "      <td>5400.0</td>\n",
              "      <td>6000.0</td>\n",
              "      <td>0.900000</td>\n",
              "      <td>17</td>\n",
              "    </tr>\n",
              "    <tr>\n",
              "      <th>63306</th>\n",
              "      <td>4800.0</td>\n",
              "      <td>5400.0</td>\n",
              "      <td>0.888889</td>\n",
              "      <td>18</td>\n",
              "    </tr>\n",
              "    <tr>\n",
              "      <th>63309</th>\n",
              "      <td>4800.0</td>\n",
              "      <td>5400.0</td>\n",
              "      <td>0.888889</td>\n",
              "      <td>19</td>\n",
              "    </tr>\n",
              "    <tr>\n",
              "      <th>63302</th>\n",
              "      <td>4800.0</td>\n",
              "      <td>5400.0</td>\n",
              "      <td>0.888889</td>\n",
              "      <td>20</td>\n",
              "    </tr>\n",
              "    <tr>\n",
              "      <th>63311</th>\n",
              "      <td>4800.0</td>\n",
              "      <td>5400.0</td>\n",
              "      <td>0.888889</td>\n",
              "      <td>21</td>\n",
              "    </tr>\n",
              "    <tr>\n",
              "      <th>9105</th>\n",
              "      <td>9600.0</td>\n",
              "      <td>10800.0</td>\n",
              "      <td>0.888889</td>\n",
              "      <td>22</td>\n",
              "    </tr>\n",
              "    <tr>\n",
              "      <th>13106</th>\n",
              "      <td>894000.0</td>\n",
              "      <td>1010400.0</td>\n",
              "      <td>0.884798</td>\n",
              "      <td>23</td>\n",
              "    </tr>\n",
              "    <tr>\n",
              "      <th>14047</th>\n",
              "      <td>46200.0</td>\n",
              "      <td>53400.0</td>\n",
              "      <td>0.865169</td>\n",
              "      <td>24</td>\n",
              "    </tr>\n",
              "    <tr>\n",
              "      <th>3220</th>\n",
              "      <td>3600.0</td>\n",
              "      <td>4200.0</td>\n",
              "      <td>0.857143</td>\n",
              "      <td>25</td>\n",
              "    </tr>\n",
              "  </tbody>\n",
              "</table>\n",
              "</div>"
            ],
            "text/plain": [
              "       total_covered_duration  total_duration  total_coverage_ratio  rank\n",
              "9100                   4200.0          4200.0              1.000000     1\n",
              "7133                   1200.0          1200.0              1.000000     2\n",
              "13910                  4800.0          4800.0              1.000000     3\n",
              "13122                  1200.0          1200.0              1.000000     4\n",
              "13104                  4800.0          4800.0              1.000000     5\n",
              "923                    3000.0          3000.0              1.000000     6\n",
              "15214                  9000.0          9000.0              1.000000     7\n",
              "9104                   1200.0          1200.0              1.000000     8\n",
              "15213                202200.0        202200.0              1.000000     9\n",
              "7110                   1200.0          1200.0              1.000000    10\n",
              "7102                    600.0           600.0              1.000000    11\n",
              "15006                 58200.0         60600.0              0.960396    12\n",
              "63503                  9000.0          9600.0              0.937500    13\n",
              "14213                 66600.0         71400.0              0.932773    14\n",
              "2006                7312800.0       8086800.0              0.904288    15\n",
              "63307                  5400.0          6000.0              0.900000    16\n",
              "63310                  5400.0          6000.0              0.900000    17\n",
              "63306                  4800.0          5400.0              0.888889    18\n",
              "63309                  4800.0          5400.0              0.888889    19\n",
              "63302                  4800.0          5400.0              0.888889    20\n",
              "63311                  4800.0          5400.0              0.888889    21\n",
              "9105                   9600.0         10800.0              0.888889    22\n",
              "13106                894000.0       1010400.0              0.884798    23\n",
              "14047                 46200.0         53400.0              0.865169    24\n",
              "3220                   3600.0          4200.0              0.857143    25"
            ]
          },
          "metadata": {
            "tags": []
          }
        },
        {
          "output_type": "display_data",
          "data": {
            "text/html": [
              "<div>\n",
              "<style scoped>\n",
              "    .dataframe tbody tr th:only-of-type {\n",
              "        vertical-align: middle;\n",
              "    }\n",
              "\n",
              "    .dataframe tbody tr th {\n",
              "        vertical-align: top;\n",
              "    }\n",
              "\n",
              "    .dataframe thead th {\n",
              "        text-align: right;\n",
              "    }\n",
              "</style>\n",
              "<table border=\"1\" class=\"dataframe\">\n",
              "  <thead>\n",
              "    <tr style=\"text-align: right;\">\n",
              "      <th></th>\n",
              "      <th>total_covered_duration</th>\n",
              "      <th>total_duration</th>\n",
              "      <th>total_coverage_ratio</th>\n",
              "      <th>rank</th>\n",
              "    </tr>\n",
              "  </thead>\n",
              "  <tbody>\n",
              "    <tr>\n",
              "      <th>63402</th>\n",
              "      <td>7200.0</td>\n",
              "      <td>18000.0</td>\n",
              "      <td>0.400000</td>\n",
              "      <td>1</td>\n",
              "    </tr>\n",
              "    <tr>\n",
              "      <th>63400</th>\n",
              "      <td>82800.0</td>\n",
              "      <td>219000.0</td>\n",
              "      <td>0.378082</td>\n",
              "      <td>2</td>\n",
              "    </tr>\n",
              "    <tr>\n",
              "      <th>15051</th>\n",
              "      <td>600.0</td>\n",
              "      <td>1800.0</td>\n",
              "      <td>0.333333</td>\n",
              "      <td>3</td>\n",
              "    </tr>\n",
              "    <tr>\n",
              "      <th>15077</th>\n",
              "      <td>600.0</td>\n",
              "      <td>1800.0</td>\n",
              "      <td>0.333333</td>\n",
              "      <td>4</td>\n",
              "    </tr>\n",
              "    <tr>\n",
              "      <th>15033</th>\n",
              "      <td>600.0</td>\n",
              "      <td>2400.0</td>\n",
              "      <td>0.250000</td>\n",
              "      <td>5</td>\n",
              "    </tr>\n",
              "    <tr>\n",
              "      <th>15042</th>\n",
              "      <td>600.0</td>\n",
              "      <td>3000.0</td>\n",
              "      <td>0.200000</td>\n",
              "      <td>6</td>\n",
              "    </tr>\n",
              "    <tr>\n",
              "      <th>15004</th>\n",
              "      <td>600.0</td>\n",
              "      <td>3600.0</td>\n",
              "      <td>0.166667</td>\n",
              "      <td>7</td>\n",
              "    </tr>\n",
              "    <tr>\n",
              "      <th>14082</th>\n",
              "      <td>1200.0</td>\n",
              "      <td>10200.0</td>\n",
              "      <td>0.117647</td>\n",
              "      <td>8</td>\n",
              "    </tr>\n",
              "    <tr>\n",
              "      <th>8114</th>\n",
              "      <td>600.0</td>\n",
              "      <td>5400.0</td>\n",
              "      <td>0.111111</td>\n",
              "      <td>9</td>\n",
              "    </tr>\n",
              "    <tr>\n",
              "      <th>14056</th>\n",
              "      <td>600.0</td>\n",
              "      <td>9000.0</td>\n",
              "      <td>0.066667</td>\n",
              "      <td>10</td>\n",
              "    </tr>\n",
              "    <tr>\n",
              "      <th>15251</th>\n",
              "      <td>600.0</td>\n",
              "      <td>12600.0</td>\n",
              "      <td>0.047619</td>\n",
              "      <td>11</td>\n",
              "    </tr>\n",
              "    <tr>\n",
              "      <th>8136</th>\n",
              "      <td>1800.0</td>\n",
              "      <td>53400.0</td>\n",
              "      <td>0.033708</td>\n",
              "      <td>12</td>\n",
              "    </tr>\n",
              "    <tr>\n",
              "      <th>1014</th>\n",
              "      <td>36600.0</td>\n",
              "      <td>1103400.0</td>\n",
              "      <td>0.033170</td>\n",
              "      <td>13</td>\n",
              "    </tr>\n",
              "    <tr>\n",
              "      <th>1005</th>\n",
              "      <td>178200.0</td>\n",
              "      <td>6519600.0</td>\n",
              "      <td>0.027333</td>\n",
              "      <td>14</td>\n",
              "    </tr>\n",
              "    <tr>\n",
              "      <th>13906</th>\n",
              "      <td>1800.0</td>\n",
              "      <td>69000.0</td>\n",
              "      <td>0.026087</td>\n",
              "      <td>15</td>\n",
              "    </tr>\n",
              "    <tr>\n",
              "      <th>8108</th>\n",
              "      <td>1200.0</td>\n",
              "      <td>51600.0</td>\n",
              "      <td>0.023256</td>\n",
              "      <td>16</td>\n",
              "    </tr>\n",
              "    <tr>\n",
              "      <th>1022</th>\n",
              "      <td>153000.0</td>\n",
              "      <td>9118200.0</td>\n",
              "      <td>0.016780</td>\n",
              "      <td>17</td>\n",
              "    </tr>\n",
              "    <tr>\n",
              "      <th>63003</th>\n",
              "      <td>99600.0</td>\n",
              "      <td>6334200.0</td>\n",
              "      <td>0.015724</td>\n",
              "      <td>18</td>\n",
              "    </tr>\n",
              "    <tr>\n",
              "      <th>5113</th>\n",
              "      <td>109200.0</td>\n",
              "      <td>7247400.0</td>\n",
              "      <td>0.015067</td>\n",
              "      <td>19</td>\n",
              "    </tr>\n",
              "    <tr>\n",
              "      <th>5210</th>\n",
              "      <td>106200.0</td>\n",
              "      <td>7300200.0</td>\n",
              "      <td>0.014548</td>\n",
              "      <td>20</td>\n",
              "    </tr>\n",
              "    <tr>\n",
              "      <th>5112</th>\n",
              "      <td>106800.0</td>\n",
              "      <td>7399800.0</td>\n",
              "      <td>0.014433</td>\n",
              "      <td>21</td>\n",
              "    </tr>\n",
              "    <tr>\n",
              "      <th>14111</th>\n",
              "      <td>1200.0</td>\n",
              "      <td>83400.0</td>\n",
              "      <td>0.014388</td>\n",
              "      <td>22</td>\n",
              "    </tr>\n",
              "    <tr>\n",
              "      <th>5104</th>\n",
              "      <td>106200.0</td>\n",
              "      <td>7527600.0</td>\n",
              "      <td>0.014108</td>\n",
              "      <td>23</td>\n",
              "    </tr>\n",
              "    <tr>\n",
              "      <th>13908</th>\n",
              "      <td>1200.0</td>\n",
              "      <td>85200.0</td>\n",
              "      <td>0.014085</td>\n",
              "      <td>24</td>\n",
              "    </tr>\n",
              "    <tr>\n",
              "      <th>13316</th>\n",
              "      <td>600.0</td>\n",
              "      <td>48600.0</td>\n",
              "      <td>0.012346</td>\n",
              "      <td>25</td>\n",
              "    </tr>\n",
              "  </tbody>\n",
              "</table>\n",
              "</div>"
            ],
            "text/plain": [
              "       total_covered_duration  total_duration  total_coverage_ratio  rank\n",
              "63402                  7200.0         18000.0              0.400000     1\n",
              "63400                 82800.0        219000.0              0.378082     2\n",
              "15051                   600.0          1800.0              0.333333     3\n",
              "15077                   600.0          1800.0              0.333333     4\n",
              "15033                   600.0          2400.0              0.250000     5\n",
              "15042                   600.0          3000.0              0.200000     6\n",
              "15004                   600.0          3600.0              0.166667     7\n",
              "14082                  1200.0         10200.0              0.117647     8\n",
              "8114                    600.0          5400.0              0.111111     9\n",
              "14056                   600.0          9000.0              0.066667    10\n",
              "15251                   600.0         12600.0              0.047619    11\n",
              "8136                   1800.0         53400.0              0.033708    12\n",
              "1014                  36600.0       1103400.0              0.033170    13\n",
              "1005                 178200.0       6519600.0              0.027333    14\n",
              "13906                  1800.0         69000.0              0.026087    15\n",
              "8108                   1200.0         51600.0              0.023256    16\n",
              "1022                 153000.0       9118200.0              0.016780    17\n",
              "63003                 99600.0       6334200.0              0.015724    18\n",
              "5113                 109200.0       7247400.0              0.015067    19\n",
              "5210                 106200.0       7300200.0              0.014548    20\n",
              "5112                 106800.0       7399800.0              0.014433    21\n",
              "14111                  1200.0         83400.0              0.014388    22\n",
              "5104                 106200.0       7527600.0              0.014108    23\n",
              "13908                  1200.0         85200.0              0.014085    24\n",
              "13316                   600.0         48600.0              0.012346    25"
            ]
          },
          "metadata": {
            "tags": []
          }
        }
      ]
    },
    {
      "cell_type": "code",
      "metadata": {
        "colab": {
          "base_uri": "https://localhost:8080/",
          "height": 1000
        },
        "id": "EEvATfGVWVcF",
        "outputId": "a21bb036-1dfb-4493-973b-f3bcb69feabe"
      },
      "source": [
        "ranking_non_curtailed.head(36)"
      ],
      "id": "EEvATfGVWVcF",
      "execution_count": 54,
      "outputs": [
        {
          "output_type": "execute_result",
          "data": {
            "text/html": [
              "<div>\n",
              "<style scoped>\n",
              "    .dataframe tbody tr th:only-of-type {\n",
              "        vertical-align: middle;\n",
              "    }\n",
              "\n",
              "    .dataframe tbody tr th {\n",
              "        vertical-align: top;\n",
              "    }\n",
              "\n",
              "    .dataframe thead th {\n",
              "        text-align: right;\n",
              "    }\n",
              "</style>\n",
              "<table border=\"1\" class=\"dataframe\">\n",
              "  <thead>\n",
              "    <tr style=\"text-align: right;\">\n",
              "      <th></th>\n",
              "      <th>total_covered_duration</th>\n",
              "      <th>total_duration</th>\n",
              "      <th>total_coverage_ratio</th>\n",
              "      <th>rank</th>\n",
              "    </tr>\n",
              "  </thead>\n",
              "  <tbody>\n",
              "    <tr>\n",
              "      <th>63402</th>\n",
              "      <td>7200.0</td>\n",
              "      <td>18000.0</td>\n",
              "      <td>0.400000</td>\n",
              "      <td>1</td>\n",
              "    </tr>\n",
              "    <tr>\n",
              "      <th>63400</th>\n",
              "      <td>82800.0</td>\n",
              "      <td>219000.0</td>\n",
              "      <td>0.378082</td>\n",
              "      <td>2</td>\n",
              "    </tr>\n",
              "    <tr>\n",
              "      <th>15051</th>\n",
              "      <td>600.0</td>\n",
              "      <td>1800.0</td>\n",
              "      <td>0.333333</td>\n",
              "      <td>3</td>\n",
              "    </tr>\n",
              "    <tr>\n",
              "      <th>15077</th>\n",
              "      <td>600.0</td>\n",
              "      <td>1800.0</td>\n",
              "      <td>0.333333</td>\n",
              "      <td>4</td>\n",
              "    </tr>\n",
              "    <tr>\n",
              "      <th>15033</th>\n",
              "      <td>600.0</td>\n",
              "      <td>2400.0</td>\n",
              "      <td>0.250000</td>\n",
              "      <td>5</td>\n",
              "    </tr>\n",
              "    <tr>\n",
              "      <th>15042</th>\n",
              "      <td>600.0</td>\n",
              "      <td>3000.0</td>\n",
              "      <td>0.200000</td>\n",
              "      <td>6</td>\n",
              "    </tr>\n",
              "    <tr>\n",
              "      <th>15004</th>\n",
              "      <td>600.0</td>\n",
              "      <td>3600.0</td>\n",
              "      <td>0.166667</td>\n",
              "      <td>7</td>\n",
              "    </tr>\n",
              "    <tr>\n",
              "      <th>14082</th>\n",
              "      <td>1200.0</td>\n",
              "      <td>10200.0</td>\n",
              "      <td>0.117647</td>\n",
              "      <td>8</td>\n",
              "    </tr>\n",
              "    <tr>\n",
              "      <th>8114</th>\n",
              "      <td>600.0</td>\n",
              "      <td>5400.0</td>\n",
              "      <td>0.111111</td>\n",
              "      <td>9</td>\n",
              "    </tr>\n",
              "    <tr>\n",
              "      <th>14056</th>\n",
              "      <td>600.0</td>\n",
              "      <td>9000.0</td>\n",
              "      <td>0.066667</td>\n",
              "      <td>10</td>\n",
              "    </tr>\n",
              "    <tr>\n",
              "      <th>15251</th>\n",
              "      <td>600.0</td>\n",
              "      <td>12600.0</td>\n",
              "      <td>0.047619</td>\n",
              "      <td>11</td>\n",
              "    </tr>\n",
              "    <tr>\n",
              "      <th>8136</th>\n",
              "      <td>1800.0</td>\n",
              "      <td>53400.0</td>\n",
              "      <td>0.033708</td>\n",
              "      <td>12</td>\n",
              "    </tr>\n",
              "    <tr>\n",
              "      <th>1014</th>\n",
              "      <td>36600.0</td>\n",
              "      <td>1103400.0</td>\n",
              "      <td>0.033170</td>\n",
              "      <td>13</td>\n",
              "    </tr>\n",
              "    <tr>\n",
              "      <th>1005</th>\n",
              "      <td>178200.0</td>\n",
              "      <td>6519600.0</td>\n",
              "      <td>0.027333</td>\n",
              "      <td>14</td>\n",
              "    </tr>\n",
              "    <tr>\n",
              "      <th>13906</th>\n",
              "      <td>1800.0</td>\n",
              "      <td>69000.0</td>\n",
              "      <td>0.026087</td>\n",
              "      <td>15</td>\n",
              "    </tr>\n",
              "    <tr>\n",
              "      <th>8108</th>\n",
              "      <td>1200.0</td>\n",
              "      <td>51600.0</td>\n",
              "      <td>0.023256</td>\n",
              "      <td>16</td>\n",
              "    </tr>\n",
              "    <tr>\n",
              "      <th>1022</th>\n",
              "      <td>153000.0</td>\n",
              "      <td>9118200.0</td>\n",
              "      <td>0.016780</td>\n",
              "      <td>17</td>\n",
              "    </tr>\n",
              "    <tr>\n",
              "      <th>63003</th>\n",
              "      <td>99600.0</td>\n",
              "      <td>6334200.0</td>\n",
              "      <td>0.015724</td>\n",
              "      <td>18</td>\n",
              "    </tr>\n",
              "    <tr>\n",
              "      <th>5113</th>\n",
              "      <td>109200.0</td>\n",
              "      <td>7247400.0</td>\n",
              "      <td>0.015067</td>\n",
              "      <td>19</td>\n",
              "    </tr>\n",
              "    <tr>\n",
              "      <th>5210</th>\n",
              "      <td>106200.0</td>\n",
              "      <td>7300200.0</td>\n",
              "      <td>0.014548</td>\n",
              "      <td>20</td>\n",
              "    </tr>\n",
              "    <tr>\n",
              "      <th>5112</th>\n",
              "      <td>106800.0</td>\n",
              "      <td>7399800.0</td>\n",
              "      <td>0.014433</td>\n",
              "      <td>21</td>\n",
              "    </tr>\n",
              "    <tr>\n",
              "      <th>14111</th>\n",
              "      <td>1200.0</td>\n",
              "      <td>83400.0</td>\n",
              "      <td>0.014388</td>\n",
              "      <td>22</td>\n",
              "    </tr>\n",
              "    <tr>\n",
              "      <th>5104</th>\n",
              "      <td>106200.0</td>\n",
              "      <td>7527600.0</td>\n",
              "      <td>0.014108</td>\n",
              "      <td>23</td>\n",
              "    </tr>\n",
              "    <tr>\n",
              "      <th>13908</th>\n",
              "      <td>1200.0</td>\n",
              "      <td>85200.0</td>\n",
              "      <td>0.014085</td>\n",
              "      <td>24</td>\n",
              "    </tr>\n",
              "    <tr>\n",
              "      <th>13316</th>\n",
              "      <td>600.0</td>\n",
              "      <td>48600.0</td>\n",
              "      <td>0.012346</td>\n",
              "      <td>25</td>\n",
              "    </tr>\n",
              "    <tr>\n",
              "      <th>13117</th>\n",
              "      <td>178200.0</td>\n",
              "      <td>14569200.0</td>\n",
              "      <td>0.012231</td>\n",
              "      <td>26</td>\n",
              "    </tr>\n",
              "    <tr>\n",
              "      <th>1015</th>\n",
              "      <td>191400.0</td>\n",
              "      <td>16317600.0</td>\n",
              "      <td>0.011730</td>\n",
              "      <td>27</td>\n",
              "    </tr>\n",
              "    <tr>\n",
              "      <th>1020</th>\n",
              "      <td>180600.0</td>\n",
              "      <td>15925800.0</td>\n",
              "      <td>0.011340</td>\n",
              "      <td>28</td>\n",
              "    </tr>\n",
              "    <tr>\n",
              "      <th>14047</th>\n",
              "      <td>600.0</td>\n",
              "      <td>53400.0</td>\n",
              "      <td>0.011236</td>\n",
              "      <td>29</td>\n",
              "    </tr>\n",
              "    <tr>\n",
              "      <th>5110</th>\n",
              "      <td>106200.0</td>\n",
              "      <td>9871200.0</td>\n",
              "      <td>0.010759</td>\n",
              "      <td>30</td>\n",
              "    </tr>\n",
              "    <tr>\n",
              "      <th>2006</th>\n",
              "      <td>60600.0</td>\n",
              "      <td>8086800.0</td>\n",
              "      <td>0.007494</td>\n",
              "      <td>31</td>\n",
              "    </tr>\n",
              "    <tr>\n",
              "      <th>4301</th>\n",
              "      <td>61200.0</td>\n",
              "      <td>8559000.0</td>\n",
              "      <td>0.007150</td>\n",
              "      <td>32</td>\n",
              "    </tr>\n",
              "    <tr>\n",
              "      <th>5201</th>\n",
              "      <td>106800.0</td>\n",
              "      <td>15040200.0</td>\n",
              "      <td>0.007101</td>\n",
              "      <td>33</td>\n",
              "    </tr>\n",
              "    <tr>\n",
              "      <th>15111</th>\n",
              "      <td>1200.0</td>\n",
              "      <td>171600.0</td>\n",
              "      <td>0.006993</td>\n",
              "      <td>34</td>\n",
              "    </tr>\n",
              "    <tr>\n",
              "      <th>1</th>\n",
              "      <td>69600.0</td>\n",
              "      <td>10036200.0</td>\n",
              "      <td>0.006935</td>\n",
              "      <td>35</td>\n",
              "    </tr>\n",
              "    <tr>\n",
              "      <th>7</th>\n",
              "      <td>1200.0</td>\n",
              "      <td>174600.0</td>\n",
              "      <td>0.006873</td>\n",
              "      <td>36</td>\n",
              "    </tr>\n",
              "  </tbody>\n",
              "</table>\n",
              "</div>"
            ],
            "text/plain": [
              "       total_covered_duration  total_duration  total_coverage_ratio  rank\n",
              "63402                  7200.0         18000.0              0.400000     1\n",
              "63400                 82800.0        219000.0              0.378082     2\n",
              "15051                   600.0          1800.0              0.333333     3\n",
              "15077                   600.0          1800.0              0.333333     4\n",
              "15033                   600.0          2400.0              0.250000     5\n",
              "15042                   600.0          3000.0              0.200000     6\n",
              "15004                   600.0          3600.0              0.166667     7\n",
              "14082                  1200.0         10200.0              0.117647     8\n",
              "8114                    600.0          5400.0              0.111111     9\n",
              "14056                   600.0          9000.0              0.066667    10\n",
              "15251                   600.0         12600.0              0.047619    11\n",
              "8136                   1800.0         53400.0              0.033708    12\n",
              "1014                  36600.0       1103400.0              0.033170    13\n",
              "1005                 178200.0       6519600.0              0.027333    14\n",
              "13906                  1800.0         69000.0              0.026087    15\n",
              "8108                   1200.0         51600.0              0.023256    16\n",
              "1022                 153000.0       9118200.0              0.016780    17\n",
              "63003                 99600.0       6334200.0              0.015724    18\n",
              "5113                 109200.0       7247400.0              0.015067    19\n",
              "5210                 106200.0       7300200.0              0.014548    20\n",
              "5112                 106800.0       7399800.0              0.014433    21\n",
              "14111                  1200.0         83400.0              0.014388    22\n",
              "5104                 106200.0       7527600.0              0.014108    23\n",
              "13908                  1200.0         85200.0              0.014085    24\n",
              "13316                   600.0         48600.0              0.012346    25\n",
              "13117                178200.0      14569200.0              0.012231    26\n",
              "1015                 191400.0      16317600.0              0.011730    27\n",
              "1020                 180600.0      15925800.0              0.011340    28\n",
              "14047                   600.0         53400.0              0.011236    29\n",
              "5110                 106200.0       9871200.0              0.010759    30\n",
              "2006                  60600.0       8086800.0              0.007494    31\n",
              "4301                  61200.0       8559000.0              0.007150    32\n",
              "5201                 106800.0      15040200.0              0.007101    33\n",
              "15111                  1200.0        171600.0              0.006993    34\n",
              "1                     69600.0      10036200.0              0.006935    35\n",
              "7                      1200.0        174600.0              0.006873    36"
            ]
          },
          "metadata": {
            "tags": []
          },
          "execution_count": 54
        }
      ]
    },
    {
      "cell_type": "code",
      "metadata": {
        "id": "e18MzRJmmsK0"
      },
      "source": [
        "#top20 = ranking_non_curtailed.head(34).index.values\n",
        "top20 = ranking_non_curtailed.index.values"
      ],
      "id": "e18MzRJmmsK0",
      "execution_count": 55,
      "outputs": []
    },
    {
      "cell_type": "code",
      "metadata": {
        "colab": {
          "base_uri": "https://localhost:8080/",
          "height": 103
        },
        "id": "ayetvnjozu2y",
        "outputId": "65267707-8722-488a-f82a-d9c9171ea17d"
      },
      "source": [
        "topdesc = [turbine_events[turbine_events.ErrorCode ==value].iloc[0].Text for value in top20]\n",
        "ranking_non_curtailed['description'] = topdesc\n",
        "ranking_non_curtailed['code'] = ranking_non_curtailed.index\n",
        "\n",
        "ranking_non_curtailed[['rank', 'code', 'total_coverage_ratio', 'description']].head(36).to_latex(index=False)"
      ],
      "id": "ayetvnjozu2y",
      "execution_count": 56,
      "outputs": [
        {
          "output_type": "execute_result",
          "data": {
            "application/vnd.google.colaboratory.intrinsic+json": {
              "type": "string"
            },
            "text/plain": [
              "'\\\\begin{tabular}{rrrl}\\n\\\\toprule\\n rank &   code &  total\\\\_coverage\\\\_ratio &                     description \\\\\\\\\\n\\\\midrule\\n    1 &  63402 &              0.400000 &      HM module SW ver. Conflict \\\\\\\\\\n    2 &  63400 &              0.378082 &     I/O module SW ver. Conflict \\\\\\\\\\n    3 &  15051 &              0.333333 &       GrdInv: 51 D3V curr. high \\\\\\\\\\n    4 &  15077 &              0.333333 &       GrdInv: 77 D4V curr. high \\\\\\\\\\n    5 &  15033 &              0.250000 &       GrdInv: 33 D1V curr. high \\\\\\\\\\n    6 &  15042 &              0.200000 &       GrdInv: 42 D2V curr. high \\\\\\\\\\n    7 &  15004 &              0.166667 &         GrdInv: 4 DC undervolts \\\\\\\\\\n    8 &  14082 &              0.117647 &         GenInv: 82 D4 volt high \\\\\\\\\\n    9 &   8114 &              0.111111 &         FT1 Configuration error \\\\\\\\\\n   10 &  14056 &              0.066667 &         GenInv: 56 D3 volt high \\\\\\\\\\n   11 &  15251 &              0.047619 &    GrdInv: 251 Delta 2 DIB +15v \\\\\\\\\\n   12 &   8136 &              0.033708 &   Sec.Windspeed < expect  Icing \\\\\\\\\\n   13 &   1014 &              0.033170 &           Stopped for SW update \\\\\\\\\\n   14 &   1005 &              0.027333 &         Availability - low wind \\\\\\\\\\n   15 &  13906 &              0.026087 &            GEN. INV. COM. ERROR \\\\\\\\\\n   16 &   8108 &              0.023256 &     FT1 Sonic wind sensor error \\\\\\\\\\n   17 &   1022 &              0.016780 &   Local  scheduled service work \\\\\\\\\\n   18 &  63003 &              0.015724 &              Stop for powerdown \\\\\\\\\\n   19 &   5113 &              0.015067 &          Gridvolt.<lower limit4 \\\\\\\\\\n   20 &   5210 &              0.014548 &          Gridfreq.<lower limit1 \\\\\\\\\\n   21 &   5112 &              0.014433 &          Gridvolt.<lower limit3 \\\\\\\\\\n   22 &  14111 &              0.014388 &       GenInv: 111 CAN2 warnings \\\\\\\\\\n   23 &   5104 &              0.014108 &      Low lower voltage exceeded \\\\\\\\\\n   24 &  13908 &              0.014085 &         INV. MODBUS. COM. ERROR \\\\\\\\\\n   25 &  13316 &              0.012346 &  Inv. Nac coolw. pres. sens err \\\\\\\\\\n   26 &  13117 &              0.012231 &     Charge main breaker cut out \\\\\\\\\\n   27 &   1015 &              0.011730 &                Manual idle stop \\\\\\\\\\n   28 &   1020 &              0.011340 &      Turbine in local operation \\\\\\\\\\n   29 &  14047 &              0.011236 &         GenInv: 47 D2 volt high \\\\\\\\\\n   30 &   5110 &              0.010759 &          Gridvolt.<lower limit1 \\\\\\\\\\n   31 &   2006 &              0.007494 &   DG:Local power limit  Siemens \\\\\\\\\\n   32 &   4301 &              0.007150 &           Inline filter warning \\\\\\\\\\n   33 &   5201 &              0.007101 &      Frequency on mains too low \\\\\\\\\\n   34 &  15111 &              0.006993 &       GrdInv: 111 CAN2 warnings \\\\\\\\\\n   35 &      1 &              0.006935 &      Station is in Service Mode \\\\\\\\\\n   36 &      7 &              0.006873 &       Stopped due to grid error \\\\\\\\\\n\\\\bottomrule\\n\\\\end{tabular}\\n'"
            ]
          },
          "metadata": {
            "tags": []
          },
          "execution_count": 56
        }
      ]
    },
    {
      "cell_type": "code",
      "metadata": {
        "colab": {
          "base_uri": "https://localhost:8080/",
          "height": 1000
        },
        "id": "6pRMUSJEeThj",
        "outputId": "fd685acb-f11d-4062-8cc6-405a315db736"
      },
      "source": [
        "ranking_non_curtailed_without_zeroes.head(36)"
      ],
      "id": "6pRMUSJEeThj",
      "execution_count": 57,
      "outputs": [
        {
          "output_type": "execute_result",
          "data": {
            "text/html": [
              "<div>\n",
              "<style scoped>\n",
              "    .dataframe tbody tr th:only-of-type {\n",
              "        vertical-align: middle;\n",
              "    }\n",
              "\n",
              "    .dataframe tbody tr th {\n",
              "        vertical-align: top;\n",
              "    }\n",
              "\n",
              "    .dataframe thead th {\n",
              "        text-align: right;\n",
              "    }\n",
              "</style>\n",
              "<table border=\"1\" class=\"dataframe\">\n",
              "  <thead>\n",
              "    <tr style=\"text-align: right;\">\n",
              "      <th></th>\n",
              "      <th>total_covered_duration</th>\n",
              "      <th>total_duration</th>\n",
              "      <th>total_coverage_ratio</th>\n",
              "      <th>rank</th>\n",
              "    </tr>\n",
              "  </thead>\n",
              "  <tbody>\n",
              "    <tr>\n",
              "      <th>63402</th>\n",
              "      <td>7200.0</td>\n",
              "      <td>18000.0</td>\n",
              "      <td>0.400000</td>\n",
              "      <td>1</td>\n",
              "    </tr>\n",
              "    <tr>\n",
              "      <th>63400</th>\n",
              "      <td>82800.0</td>\n",
              "      <td>219000.0</td>\n",
              "      <td>0.378082</td>\n",
              "      <td>2</td>\n",
              "    </tr>\n",
              "    <tr>\n",
              "      <th>15251</th>\n",
              "      <td>600.0</td>\n",
              "      <td>12600.0</td>\n",
              "      <td>0.047619</td>\n",
              "      <td>3</td>\n",
              "    </tr>\n",
              "    <tr>\n",
              "      <th>8136</th>\n",
              "      <td>1800.0</td>\n",
              "      <td>53400.0</td>\n",
              "      <td>0.033708</td>\n",
              "      <td>4</td>\n",
              "    </tr>\n",
              "    <tr>\n",
              "      <th>1014</th>\n",
              "      <td>36600.0</td>\n",
              "      <td>1103400.0</td>\n",
              "      <td>0.033170</td>\n",
              "      <td>5</td>\n",
              "    </tr>\n",
              "    <tr>\n",
              "      <th>13906</th>\n",
              "      <td>1800.0</td>\n",
              "      <td>69000.0</td>\n",
              "      <td>0.026087</td>\n",
              "      <td>6</td>\n",
              "    </tr>\n",
              "    <tr>\n",
              "      <th>14111</th>\n",
              "      <td>1200.0</td>\n",
              "      <td>83400.0</td>\n",
              "      <td>0.014388</td>\n",
              "      <td>7</td>\n",
              "    </tr>\n",
              "    <tr>\n",
              "      <th>13908</th>\n",
              "      <td>1200.0</td>\n",
              "      <td>85200.0</td>\n",
              "      <td>0.014085</td>\n",
              "      <td>8</td>\n",
              "    </tr>\n",
              "    <tr>\n",
              "      <th>1005</th>\n",
              "      <td>69000.0</td>\n",
              "      <td>6519600.0</td>\n",
              "      <td>0.010583</td>\n",
              "      <td>9</td>\n",
              "    </tr>\n",
              "    <tr>\n",
              "      <th>2006</th>\n",
              "      <td>58800.0</td>\n",
              "      <td>8086800.0</td>\n",
              "      <td>0.007271</td>\n",
              "      <td>10</td>\n",
              "    </tr>\n",
              "    <tr>\n",
              "      <th>15111</th>\n",
              "      <td>1200.0</td>\n",
              "      <td>171600.0</td>\n",
              "      <td>0.006993</td>\n",
              "      <td>11</td>\n",
              "    </tr>\n",
              "    <tr>\n",
              "      <th>4301</th>\n",
              "      <td>58800.0</td>\n",
              "      <td>8559000.0</td>\n",
              "      <td>0.006870</td>\n",
              "      <td>12</td>\n",
              "    </tr>\n",
              "    <tr>\n",
              "      <th>15001</th>\n",
              "      <td>15000.0</td>\n",
              "      <td>2432400.0</td>\n",
              "      <td>0.006167</td>\n",
              "      <td>13</td>\n",
              "    </tr>\n",
              "    <tr>\n",
              "      <th>1</th>\n",
              "      <td>61800.0</td>\n",
              "      <td>10036200.0</td>\n",
              "      <td>0.006158</td>\n",
              "      <td>14</td>\n",
              "    </tr>\n",
              "    <tr>\n",
              "      <th>64001</th>\n",
              "      <td>571200.0</td>\n",
              "      <td>100209000.0</td>\n",
              "      <td>0.005700</td>\n",
              "      <td>15</td>\n",
              "    </tr>\n",
              "    <tr>\n",
              "      <th>1022</th>\n",
              "      <td>46800.0</td>\n",
              "      <td>9118200.0</td>\n",
              "      <td>0.005133</td>\n",
              "      <td>16</td>\n",
              "    </tr>\n",
              "    <tr>\n",
              "      <th>1015</th>\n",
              "      <td>82200.0</td>\n",
              "      <td>16317600.0</td>\n",
              "      <td>0.005038</td>\n",
              "      <td>17</td>\n",
              "    </tr>\n",
              "    <tr>\n",
              "      <th>13117</th>\n",
              "      <td>72000.0</td>\n",
              "      <td>14569200.0</td>\n",
              "      <td>0.004942</td>\n",
              "      <td>18</td>\n",
              "    </tr>\n",
              "    <tr>\n",
              "      <th>1020</th>\n",
              "      <td>73200.0</td>\n",
              "      <td>15925800.0</td>\n",
              "      <td>0.004596</td>\n",
              "      <td>19</td>\n",
              "    </tr>\n",
              "    <tr>\n",
              "      <th>-1</th>\n",
              "      <td>2239800.0</td>\n",
              "      <td>497232600.0</td>\n",
              "      <td>0.004505</td>\n",
              "      <td>20</td>\n",
              "    </tr>\n",
              "    <tr>\n",
              "      <th>1024</th>\n",
              "      <td>12000.0</td>\n",
              "      <td>2667600.0</td>\n",
              "      <td>0.004498</td>\n",
              "      <td>21</td>\n",
              "    </tr>\n",
              "    <tr>\n",
              "      <th>3199</th>\n",
              "      <td>10200.0</td>\n",
              "      <td>2737200.0</td>\n",
              "      <td>0.003726</td>\n",
              "      <td>22</td>\n",
              "    </tr>\n",
              "    <tr>\n",
              "      <th>64059</th>\n",
              "      <td>34800.0</td>\n",
              "      <td>9627600.0</td>\n",
              "      <td>0.003615</td>\n",
              "      <td>23</td>\n",
              "    </tr>\n",
              "    <tr>\n",
              "      <th>11</th>\n",
              "      <td>43200.0</td>\n",
              "      <td>12852600.0</td>\n",
              "      <td>0.003361</td>\n",
              "      <td>24</td>\n",
              "    </tr>\n",
              "    <tr>\n",
              "      <th>8207</th>\n",
              "      <td>60000.0</td>\n",
              "      <td>19048200.0</td>\n",
              "      <td>0.003150</td>\n",
              "      <td>25</td>\n",
              "    </tr>\n",
              "    <tr>\n",
              "      <th>13900</th>\n",
              "      <td>24000.0</td>\n",
              "      <td>8223000.0</td>\n",
              "      <td>0.002919</td>\n",
              "      <td>26</td>\n",
              "    </tr>\n",
              "    <tr>\n",
              "      <th>8200</th>\n",
              "      <td>133200.0</td>\n",
              "      <td>46912800.0</td>\n",
              "      <td>0.002839</td>\n",
              "      <td>27</td>\n",
              "    </tr>\n",
              "    <tr>\n",
              "      <th>0</th>\n",
              "      <td>2073600.0</td>\n",
              "      <td>754890000.0</td>\n",
              "      <td>0.002747</td>\n",
              "      <td>28</td>\n",
              "    </tr>\n",
              "    <tr>\n",
              "      <th>9</th>\n",
              "      <td>55800.0</td>\n",
              "      <td>20894400.0</td>\n",
              "      <td>0.002671</td>\n",
              "      <td>29</td>\n",
              "    </tr>\n",
              "    <tr>\n",
              "      <th>8185</th>\n",
              "      <td>47400.0</td>\n",
              "      <td>18963000.0</td>\n",
              "      <td>0.002500</td>\n",
              "      <td>30</td>\n",
              "    </tr>\n",
              "    <tr>\n",
              "      <th>1007</th>\n",
              "      <td>61200.0</td>\n",
              "      <td>24657000.0</td>\n",
              "      <td>0.002482</td>\n",
              "      <td>31</td>\n",
              "    </tr>\n",
              "    <tr>\n",
              "      <th>1001</th>\n",
              "      <td>17400.0</td>\n",
              "      <td>7815600.0</td>\n",
              "      <td>0.002226</td>\n",
              "      <td>32</td>\n",
              "    </tr>\n",
              "    <tr>\n",
              "      <th>8184</th>\n",
              "      <td>16200.0</td>\n",
              "      <td>8335200.0</td>\n",
              "      <td>0.001944</td>\n",
              "      <td>33</td>\n",
              "    </tr>\n",
              "    <tr>\n",
              "      <th>1023</th>\n",
              "      <td>16200.0</td>\n",
              "      <td>8509200.0</td>\n",
              "      <td>0.001904</td>\n",
              "      <td>34</td>\n",
              "    </tr>\n",
              "    <tr>\n",
              "      <th>64053</th>\n",
              "      <td>682200.0</td>\n",
              "      <td>373909200.0</td>\n",
              "      <td>0.001825</td>\n",
              "      <td>35</td>\n",
              "    </tr>\n",
              "    <tr>\n",
              "      <th>3117</th>\n",
              "      <td>147600.0</td>\n",
              "      <td>81920400.0</td>\n",
              "      <td>0.001802</td>\n",
              "      <td>36</td>\n",
              "    </tr>\n",
              "  </tbody>\n",
              "</table>\n",
              "</div>"
            ],
            "text/plain": [
              "        total_covered_duration  total_duration  total_coverage_ratio  rank\n",
              " 63402                  7200.0         18000.0              0.400000     1\n",
              " 63400                 82800.0        219000.0              0.378082     2\n",
              " 15251                   600.0         12600.0              0.047619     3\n",
              " 8136                   1800.0         53400.0              0.033708     4\n",
              " 1014                  36600.0       1103400.0              0.033170     5\n",
              " 13906                  1800.0         69000.0              0.026087     6\n",
              " 14111                  1200.0         83400.0              0.014388     7\n",
              " 13908                  1200.0         85200.0              0.014085     8\n",
              " 1005                  69000.0       6519600.0              0.010583     9\n",
              " 2006                  58800.0       8086800.0              0.007271    10\n",
              " 15111                  1200.0        171600.0              0.006993    11\n",
              " 4301                  58800.0       8559000.0              0.006870    12\n",
              " 15001                 15000.0       2432400.0              0.006167    13\n",
              " 1                     61800.0      10036200.0              0.006158    14\n",
              " 64001                571200.0     100209000.0              0.005700    15\n",
              " 1022                  46800.0       9118200.0              0.005133    16\n",
              " 1015                  82200.0      16317600.0              0.005038    17\n",
              " 13117                 72000.0      14569200.0              0.004942    18\n",
              " 1020                  73200.0      15925800.0              0.004596    19\n",
              "-1                   2239800.0     497232600.0              0.004505    20\n",
              " 1024                  12000.0       2667600.0              0.004498    21\n",
              " 3199                  10200.0       2737200.0              0.003726    22\n",
              " 64059                 34800.0       9627600.0              0.003615    23\n",
              " 11                    43200.0      12852600.0              0.003361    24\n",
              " 8207                  60000.0      19048200.0              0.003150    25\n",
              " 13900                 24000.0       8223000.0              0.002919    26\n",
              " 8200                 133200.0      46912800.0              0.002839    27\n",
              " 0                   2073600.0     754890000.0              0.002747    28\n",
              " 9                     55800.0      20894400.0              0.002671    29\n",
              " 8185                  47400.0      18963000.0              0.002500    30\n",
              " 1007                  61200.0      24657000.0              0.002482    31\n",
              " 1001                  17400.0       7815600.0              0.002226    32\n",
              " 8184                  16200.0       8335200.0              0.001944    33\n",
              " 1023                  16200.0       8509200.0              0.001904    34\n",
              " 64053                682200.0     373909200.0              0.001825    35\n",
              " 3117                 147600.0      81920400.0              0.001802    36"
            ]
          },
          "metadata": {
            "tags": []
          },
          "execution_count": 57
        }
      ]
    },
    {
      "cell_type": "code",
      "metadata": {
        "colab": {
          "base_uri": "https://localhost:8080/",
          "height": 807
        },
        "id": "U-TteaKYb9gR",
        "outputId": "6239b6d7-a0a1-47e4-b647-91ee6c1eaa6a"
      },
      "source": [
        "print('median total duration of events: ', pd.Timedelta(ranking_non_curtailed.total_duration.median(), unit='s')) \n",
        "print('arithmetic mean total duration of events: ', pd.Timedelta(ranking_non_curtailed.total_duration.mean(), unit='s'))\n",
        "print('geometric mean total duration of events: ', pd.Timedelta(stats.gmean(ranking_non_curtailed.loc[:, 'total_duration'].values[ranking_non_curtailed.loc[:, 'total_duration'].values != 0]), unit='s'))\n",
        "print('harmonic mean total duration of events: ', pd.Timedelta(stats.hmean(ranking_non_curtailed.loc[:, 'total_duration'].values[ranking_non_curtailed.loc[:, 'total_duration'].values != 0]), unit='s'))\n",
        "print('geometric standard deviation total duration of events: ', pd.Timedelta(stats.gstd(ranking_non_curtailed.loc[:, 'total_duration'].values[ranking_non_curtailed.loc[:, 'total_duration'].values != 0]), unit='s'))\n",
        "print('arithmetic standard deviation total duration of events: ', pd.Timedelta(stats.tstd(ranking_non_curtailed.loc[:, 'total_duration'].values), unit='s'))\n",
        "print('Total duration of all 5112 events across all turbines: ', turbine_events[turbine_events.ErrorCode == 5112].Duration.sum())\n",
        "print('Total duration of all comm faliure events across all turbines: ', turbine_events[turbine_events.ErrorCode == -1].Duration.sum())\n",
        "\n",
        "plot_data = pd.DataFrame(data=ranking_non_curtailed.total_duration.sort_values())\n",
        "plot_data = plot_data[plot_data.total_duration != 0]\n",
        "plot_data = np.log10(plot_data)\n",
        "plot_data['rank'] = range(len(plot_data))\n",
        "display(plot_data)\n",
        "ax = sns.barplot(x='rank', y='total_duration', data=plot_data, palette='Blues')\n",
        "ax.set(xticklabels=[])\n",
        "ax.set(ylabel=\"duration in seconds, log 10 scale\")\n",
        "ax.set(xlabel=\"sorted order\")\n",
        "ax.tick_params(bottom=False)"
      ],
      "id": "U-TteaKYb9gR",
      "execution_count": 58,
      "outputs": [
        {
          "output_type": "stream",
          "text": [
            "median total duration of events:  2 days 12:50:00\n",
            "arithmetic mean total duration of events:  121 days 11:47:13.972602740\n",
            "geometric mean total duration of events:  2 days 05:43:29.989186539\n",
            "harmonic mean total duration of events:  0 days 02:33:15.195428520\n",
            "geometric standard deviation total duration of events:  0 days 00:00:22.125972290\n",
            "arithmetic standard deviation total duration of events:  675 days 09:42:45.859899625\n",
            "Total duration of all 5112 events across all turbines:  85 days 15:30:00\n",
            "Total duration of all comm faliure events across all turbines:  5755 days 00:10:00\n"
          ],
          "name": "stdout"
        },
        {
          "output_type": "display_data",
          "data": {
            "text/html": [
              "<div>\n",
              "<style scoped>\n",
              "    .dataframe tbody tr th:only-of-type {\n",
              "        vertical-align: middle;\n",
              "    }\n",
              "\n",
              "    .dataframe tbody tr th {\n",
              "        vertical-align: top;\n",
              "    }\n",
              "\n",
              "    .dataframe thead th {\n",
              "        text-align: right;\n",
              "    }\n",
              "</style>\n",
              "<table border=\"1\" class=\"dataframe\">\n",
              "  <thead>\n",
              "    <tr style=\"text-align: right;\">\n",
              "      <th></th>\n",
              "      <th>total_duration</th>\n",
              "      <th>rank</th>\n",
              "    </tr>\n",
              "  </thead>\n",
              "  <tbody>\n",
              "    <tr>\n",
              "      <th>7102</th>\n",
              "      <td>2.778151</td>\n",
              "      <td>0</td>\n",
              "    </tr>\n",
              "    <tr>\n",
              "      <th>15044</th>\n",
              "      <td>2.778151</td>\n",
              "      <td>1</td>\n",
              "    </tr>\n",
              "    <tr>\n",
              "      <th>15053</th>\n",
              "      <td>2.778151</td>\n",
              "      <td>2</td>\n",
              "    </tr>\n",
              "    <tr>\n",
              "      <th>14004</th>\n",
              "      <td>2.778151</td>\n",
              "      <td>3</td>\n",
              "    </tr>\n",
              "    <tr>\n",
              "      <th>15035</th>\n",
              "      <td>2.778151</td>\n",
              "      <td>4</td>\n",
              "    </tr>\n",
              "    <tr>\n",
              "      <th>...</th>\n",
              "      <td>...</td>\n",
              "      <td>...</td>\n",
              "    </tr>\n",
              "    <tr>\n",
              "      <th>1004</th>\n",
              "      <td>8.274933</td>\n",
              "      <td>351</td>\n",
              "    </tr>\n",
              "    <tr>\n",
              "      <th>64053</th>\n",
              "      <td>8.572766</td>\n",
              "      <td>352</td>\n",
              "    </tr>\n",
              "    <tr>\n",
              "      <th>2</th>\n",
              "      <td>8.645790</td>\n",
              "      <td>353</td>\n",
              "    </tr>\n",
              "    <tr>\n",
              "      <th>-1</th>\n",
              "      <td>8.696560</td>\n",
              "      <td>354</td>\n",
              "    </tr>\n",
              "    <tr>\n",
              "      <th>0</th>\n",
              "      <td>8.877884</td>\n",
              "      <td>355</td>\n",
              "    </tr>\n",
              "  </tbody>\n",
              "</table>\n",
              "<p>356 rows × 2 columns</p>\n",
              "</div>"
            ],
            "text/plain": [
              "        total_duration  rank\n",
              " 7102         2.778151     0\n",
              " 15044        2.778151     1\n",
              " 15053        2.778151     2\n",
              " 14004        2.778151     3\n",
              " 15035        2.778151     4\n",
              "...                ...   ...\n",
              " 1004         8.274933   351\n",
              " 64053        8.572766   352\n",
              " 2            8.645790   353\n",
              "-1            8.696560   354\n",
              " 0            8.877884   355\n",
              "\n",
              "[356 rows x 2 columns]"
            ]
          },
          "metadata": {
            "tags": []
          }
        },
        {
          "output_type": "display_data",
          "data": {
            "image/png": "[encoded data removed]",
            "text/plain": [
              "<Figure size 432x288 with 1 Axes>"
            ]
          },
          "metadata": {
            "tags": [],
            "needs_background": "light"
          }
        }
      ]
    },
    {
      "cell_type": "code",
      "metadata": {
        "colab": {
          "base_uri": "https://localhost:8080/",
          "height": 419
        },
        "id": "qHDaXQ7gFAft",
        "outputId": "478ce9e3-16a5-4495-d335-1cf1b0904652"
      },
      "source": [
        "covered_ratio_zeroes.sort_values(by='difference', ascending=False)"
      ],
      "id": "qHDaXQ7gFAft",
      "execution_count": 59,
      "outputs": [
        {
          "output_type": "execute_result",
          "data": {
            "text/html": [
              "<div>\n",
              "<style scoped>\n",
              "    .dataframe tbody tr th:only-of-type {\n",
              "        vertical-align: middle;\n",
              "    }\n",
              "\n",
              "    .dataframe tbody tr th {\n",
              "        vertical-align: top;\n",
              "    }\n",
              "\n",
              "    .dataframe thead th {\n",
              "        text-align: right;\n",
              "    }\n",
              "</style>\n",
              "<table border=\"1\" class=\"dataframe\">\n",
              "  <thead>\n",
              "    <tr style=\"text-align: right;\">\n",
              "      <th></th>\n",
              "      <th>covered_dur</th>\n",
              "      <th>total_dur</th>\n",
              "      <th>difference</th>\n",
              "    </tr>\n",
              "  </thead>\n",
              "  <tbody>\n",
              "    <tr>\n",
              "      <th>GDT059</th>\n",
              "      <td>133800</td>\n",
              "      <td>145200</td>\n",
              "      <td>11400</td>\n",
              "    </tr>\n",
              "    <tr>\n",
              "      <th>GDT015</th>\n",
              "      <td>553800</td>\n",
              "      <td>564000</td>\n",
              "      <td>10200</td>\n",
              "    </tr>\n",
              "    <tr>\n",
              "      <th>GDT062</th>\n",
              "      <td>52800</td>\n",
              "      <td>63000</td>\n",
              "      <td>10200</td>\n",
              "    </tr>\n",
              "    <tr>\n",
              "      <th>GDT058</th>\n",
              "      <td>285600</td>\n",
              "      <td>295200</td>\n",
              "      <td>9600</td>\n",
              "    </tr>\n",
              "    <tr>\n",
              "      <th>GDT026</th>\n",
              "      <td>54000</td>\n",
              "      <td>61800</td>\n",
              "      <td>7800</td>\n",
              "    </tr>\n",
              "    <tr>\n",
              "      <th>...</th>\n",
              "      <td>...</td>\n",
              "      <td>...</td>\n",
              "      <td>...</td>\n",
              "    </tr>\n",
              "    <tr>\n",
              "      <th>GDT075</th>\n",
              "      <td>46800</td>\n",
              "      <td>46800</td>\n",
              "      <td>0</td>\n",
              "    </tr>\n",
              "    <tr>\n",
              "      <th>GDT002</th>\n",
              "      <td>46800</td>\n",
              "      <td>46800</td>\n",
              "      <td>0</td>\n",
              "    </tr>\n",
              "    <tr>\n",
              "      <th>GDT039</th>\n",
              "      <td>46800</td>\n",
              "      <td>46800</td>\n",
              "      <td>0</td>\n",
              "    </tr>\n",
              "    <tr>\n",
              "      <th>GDT004</th>\n",
              "      <td>46800</td>\n",
              "      <td>46800</td>\n",
              "      <td>0</td>\n",
              "    </tr>\n",
              "    <tr>\n",
              "      <th>GDT080</th>\n",
              "      <td>46800</td>\n",
              "      <td>46800</td>\n",
              "      <td>0</td>\n",
              "    </tr>\n",
              "  </tbody>\n",
              "</table>\n",
              "<p>80 rows × 3 columns</p>\n",
              "</div>"
            ],
            "text/plain": [
              "        covered_dur  total_dur  difference\n",
              "GDT059       133800     145200       11400\n",
              "GDT015       553800     564000       10200\n",
              "GDT062        52800      63000       10200\n",
              "GDT058       285600     295200        9600\n",
              "GDT026        54000      61800        7800\n",
              "...             ...        ...         ...\n",
              "GDT075        46800      46800           0\n",
              "GDT002        46800      46800           0\n",
              "GDT039        46800      46800           0\n",
              "GDT004        46800      46800           0\n",
              "GDT080        46800      46800           0\n",
              "\n",
              "[80 rows x 3 columns]"
            ]
          },
          "metadata": {
            "tags": []
          },
          "execution_count": 59
        }
      ]
    },
    {
      "cell_type": "code",
      "metadata": {
        "colab": {
          "base_uri": "https://localhost:8080/"
        },
        "id": "-3oIz206nFYF",
        "outputId": "336caaa5-c294-41cb-e07f-cb85796bfbd2"
      },
      "source": [
        "print('Total duration of 5112 events on turbine GDT058: ', turbine_events[(turbine_events.ErrorCode == 5112) & (turbine_events.Turbine == 'GDT058')].sort_values(by=['Duration'], ascending = False)['Duration'].sum())\n",
        "print('Of which coincideing with curtailment: ', pd.Timedelta(covered_ratio_zeroes.loc['GDT058']['covered_dur'], unit='s'))"
      ],
      "id": "-3oIz206nFYF",
      "execution_count": 60,
      "outputs": [
        {
          "output_type": "stream",
          "text": [
            "Total duration of 5112 events on turbine GDT058:  3 days 10:00:00\n",
            "Of which coincideing with curtailment:  3 days 07:20:00\n"
          ],
          "name": "stdout"
        }
      ]
    },
    {
      "cell_type": "code",
      "metadata": {
        "colab": {
          "base_uri": "https://localhost:8080/",
          "height": 328
        },
        "id": "L5I1bj4qnSlD",
        "outputId": "1a4067ab-6149-4589-ecc8-19364853f4a8"
      },
      "source": [
        "setpoint = SCADA_setpoint[SCADA_setpoint.Turbine == 'GDT059'].sort_values(by=['Timestamp']).set_index('Timestamp').loc['2021-02-19 09:20:00':'2021-02-19 11:00:00']\n",
        "setpoint"
      ],
      "id": "L5I1bj4qnSlD",
      "execution_count": 61,
      "outputs": [
        {
          "output_type": "execute_result",
          "data": {
            "text/html": [
              "<div>\n",
              "<style scoped>\n",
              "    .dataframe tbody tr th:only-of-type {\n",
              "        vertical-align: middle;\n",
              "    }\n",
              "\n",
              "    .dataframe tbody tr th {\n",
              "        vertical-align: top;\n",
              "    }\n",
              "\n",
              "    .dataframe thead th {\n",
              "        text-align: right;\n",
              "    }\n",
              "</style>\n",
              "<table border=\"1\" class=\"dataframe\">\n",
              "  <thead>\n",
              "    <tr style=\"text-align: right;\">\n",
              "      <th></th>\n",
              "      <th>Value</th>\n",
              "      <th>Tag</th>\n",
              "      <th>Turbine</th>\n",
              "    </tr>\n",
              "    <tr>\n",
              "      <th>Timestamp</th>\n",
              "      <th></th>\n",
              "      <th></th>\n",
              "      <th></th>\n",
              "    </tr>\n",
              "  </thead>\n",
              "  <tbody>\n",
              "    <tr>\n",
              "      <th>2021-02-19 09:20:00</th>\n",
              "      <td>3600.0</td>\n",
              "      <td>WTUR11_WSpt_val</td>\n",
              "      <td>GDT059</td>\n",
              "    </tr>\n",
              "    <tr>\n",
              "      <th>2021-02-19 09:30:00</th>\n",
              "      <td>0.0</td>\n",
              "      <td>WTUR11_WSpt_val</td>\n",
              "      <td>GDT059</td>\n",
              "    </tr>\n",
              "    <tr>\n",
              "      <th>2021-02-19 09:40:00</th>\n",
              "      <td>0.0</td>\n",
              "      <td>WTUR11_WSpt_val</td>\n",
              "      <td>GDT059</td>\n",
              "    </tr>\n",
              "    <tr>\n",
              "      <th>2021-02-19 09:50:00</th>\n",
              "      <td>0.0</td>\n",
              "      <td>WTUR11_WSpt_val</td>\n",
              "      <td>GDT059</td>\n",
              "    </tr>\n",
              "    <tr>\n",
              "      <th>2021-02-19 10:00:00</th>\n",
              "      <td>0.0</td>\n",
              "      <td>WTUR11_WSpt_val</td>\n",
              "      <td>GDT059</td>\n",
              "    </tr>\n",
              "    <tr>\n",
              "      <th>2021-02-19 10:10:00</th>\n",
              "      <td>0.0</td>\n",
              "      <td>WTUR11_WSpt_val</td>\n",
              "      <td>GDT059</td>\n",
              "    </tr>\n",
              "    <tr>\n",
              "      <th>2021-02-19 10:50:00</th>\n",
              "      <td>3600.0</td>\n",
              "      <td>WTUR11_WSpt_val</td>\n",
              "      <td>GDT059</td>\n",
              "    </tr>\n",
              "    <tr>\n",
              "      <th>2021-02-19 11:00:00</th>\n",
              "      <td>3600.0</td>\n",
              "      <td>WTUR11_WSpt_val</td>\n",
              "      <td>GDT059</td>\n",
              "    </tr>\n",
              "  </tbody>\n",
              "</table>\n",
              "</div>"
            ],
            "text/plain": [
              "                      Value              Tag Turbine\n",
              "Timestamp                                           \n",
              "2021-02-19 09:20:00  3600.0  WTUR11_WSpt_val  GDT059\n",
              "2021-02-19 09:30:00     0.0  WTUR11_WSpt_val  GDT059\n",
              "2021-02-19 09:40:00     0.0  WTUR11_WSpt_val  GDT059\n",
              "2021-02-19 09:50:00     0.0  WTUR11_WSpt_val  GDT059\n",
              "2021-02-19 10:00:00     0.0  WTUR11_WSpt_val  GDT059\n",
              "2021-02-19 10:10:00     0.0  WTUR11_WSpt_val  GDT059\n",
              "2021-02-19 10:50:00  3600.0  WTUR11_WSpt_val  GDT059\n",
              "2021-02-19 11:00:00  3600.0  WTUR11_WSpt_val  GDT059"
            ]
          },
          "metadata": {
            "tags": []
          },
          "execution_count": 61
        }
      ]
    },
    {
      "cell_type": "code",
      "metadata": {
        "id": "BGf9Xzsol1Dz"
      },
      "source": [
        ""
      ],
      "id": "BGf9Xzsol1Dz",
      "execution_count": 61,
      "outputs": []
    },
    {
      "cell_type": "markdown",
      "metadata": {
        "id": "k8opoQ_XsU4d"
      },
      "source": [
        "Computing the coverage durations, establishing a crude ranking and investigating event code 5112 has yielded following insights:\n",
        "\n",
        "1. The **coverage ratio** method is a crude, yet **effective** tool to measure coincidence between curtailments and events. It works as followos: the sum of the fraction of the duration of each event in turbine_events that overlaps with a detected curtailment is divided by the total sum of event durations (with or without curtailment); a ratio of 1 means all events of this type happen to coincide with curtailment, a ratio of 0 means that events are always active when the turbine is at full rated power. A ranking is thus established by sorting the coverage ratios in descending order.\n",
        "2. This metrics insights in coincidence between events and curtailment are interesting, but it also yields a **useful list** events that show a **high degree of separation from curtailment**, thus possibly serving as an **indicator for good turbine performance**.\n",
        "3.   Treating missing setpoint data and 0 setpoint value as curtailment yields slight but noticeably different results than excluding those instances from the **definition of curtailment**.\n",
        "4.   Upon investigating single instances of event 5112, it seems that **setpoint lowering kicks in only sometime after event 5112**. The setpoint will therefore be at rated power for a 10-minute interval while event 5112 triggers, and then be derated in the subsequent timestamps. Some information might be lost here, due to the rounding/flooring of the timestamps.\n",
        "5. Event 5112 ranks **33th** out of 365 events (thus in the top 10%) in the duration ratio coinciding with curtailment metric for the curtailment definition treating missing data and 0 setpoint as potential curtailment. It only achieved rank **136** out of 365 when discarding missing data. This is due to 5112 highly correlating with missing data. When removing known causes for curtailment, event 5112 is to be found on spot **21** out of 365.\n",
        "6. Event **durations are** very **heterogeneous**: \n",
        "  *   Some events happen on all turbines and last for long stretches of times, whereas occurances of other events are rare, short and far between. Thus, there is a big **discrepancy between the mean (arithmetic/geometric) and the median** of the sum of the total duration across all turbines of events per event-code.\n",
        "  *   The **median duration is 2 days and 12:50 hours**, whereas the **mean duration is over 121 days**; the **geometric mean is just about 2 days**. The clearly follow a geometric ditribution.\n",
        "  *   It can be argued, that **neither of the extremes are very interesting**: events with a high total duration, such as event '-1 comm failure', are very common and have likely been investigated already; events that are rare and short, on the other hand, do not impact production very much and should therefore be de-prioritized.\n",
        "  * **The median is generally more robust to variance and outliers but more heavily influenced by skewedness**. To that end, a weighing function is applied. There are several options:\n",
        "    * Trimming or [winsorising](https://encyclopediaofmath.org/wiki/Distance-weighted_mean) values would be a very crude method that would require setting arbitrary thresholds for data.\n",
        "    * Applying a filter function used in digital filtering could instead allow for a gradual decrease in importance. Band-filters for instance.\n",
        "    * Deriving weights from a [distance-weighed estimator](https://formulasearchengine.com/wiki/Distance-weighted_estimator) or a [Mahalanobis distance](https://en.wikipedia.org/wiki/Mahalanobis_distance) could also be an option.\n",
        "\n"
      ],
      "id": "k8opoQ_XsU4d"
    },
    {
      "cell_type": "code",
      "metadata": {
        "id": "Gt0As6YsEctd"
      },
      "source": [
        "def text_preprocessing(event_descriptions: pd.Series):\n",
        "  from Stemmer.StemmerFactory import StemmerFactory\n",
        "  from StopWordRemover.StopWordRemoverFactory import StopWordRemoverFactory\n",
        "\n",
        "  stemmer = StemmerFactory().create_stemmer()\n",
        "  stopwords = StopWordRemoverFactory().get_stop_words()\n",
        "\n",
        "  def text_preprocess(series, stemmer, stopwords):\n",
        "      df = series.str.replace(\"\\n\\t\",  \" \")\n",
        "      df = df.str.replace(r\"[^a-zA-Z ]+\", \"\")\n",
        "      df = df.str.lower()\n",
        "      df = df.apply(lambda x: ' '.join([stemmer.stem(item) for item in x.split() if item not in stopwords]))\n",
        "      return df\n",
        "\n",
        "  data['processed_text'] = text_preprocess(data['full_text'], stemmer, stopwords)\n"
      ],
      "id": "Gt0As6YsEctd",
      "execution_count": 62,
      "outputs": []
    },
    {
      "cell_type": "code",
      "metadata": {
        "colab": {
          "base_uri": "https://localhost:8080/",
          "height": 559
        },
        "id": "eeZDZScJGeyf",
        "outputId": "9157fa64-e61f-4019-f063-3c606309ee39"
      },
      "source": [
        "top20 = ranking_non_curtailed.head(30).index.values\n",
        "\n",
        "top20desc = turbine_events[turbine_events.ErrorCode.isin(top20)][['ErrorCode', 'Text']].copy()\n",
        "top20desc.ErrorCode = top20desc.ErrorCode.astype(\"category\")\n",
        "top20desc.ErrorCode.cat.set_categories(top20, inplace=True)\n",
        "top20code = top20desc.sort_values(by='ErrorCode').ErrorCode.unique()\n",
        "top20desc = top20desc.sort_values(by='ErrorCode').Text.unique()\n",
        "\n",
        "\n",
        "\n",
        "text =  \" \".join(desc for desc in top20desc)\n",
        "text = text.replace('.', '').replace(' high', '-high').replace('lower ', 'lower-')\n",
        "print(text)\n",
        "\n",
        "wordcloud = WordCloud(max_words=100, background_color=\"white\", height=500, width=1000).generate(text) #max_font_size=50\n",
        "\n",
        "plt.rcParams['figure.dpi'] = 200\n",
        "plt.imshow(wordcloud, interpolation='bilinear')\n",
        "\n",
        "plt.axis(\"off\")\n",
        "plt.show()"
      ],
      "id": "eeZDZScJGeyf",
      "execution_count": 63,
      "outputs": [
        {
          "output_type": "stream",
          "text": [
            "HM module SW ver Conflict I/O module SW ver Conflict GrdInv: 51 D3V curr-high GrdInv: 77 D4V curr-high GrdInv: 33 D1V curr-high GrdInv: 42 D2V curr-high GrdInv: 4 DC undervolts GenInv: 82 D4 volt-high FT1 Configuration error GenInv: 56 D3 volt-high GrdInv: 251 Delta 2 DIB +15v SecWindspeed < expect  Icing Stopped for SW update Availability - low wind GEN INV COM ERROR FT1 Sonic wind sensor error Local  scheduled service work Stop for powerdown Gridvolt<lower-limit4 Gridfreq<lower-limit1 Gridvolt<lower-limit3 GenInv: 111 CAN2 warnings Low lower-voltage exceeded INV MODBUS COM ERROR Inv Nac coolw pres sens err Charge main breaker cut out Manual idle stop Turbine in local operation GenInv: 47 D2 volt-high Gridvolt<lower-limit1\n"
          ],
          "name": "stdout"
        },
        {
          "output_type": "display_data",
          "data": {
            "image/png": "[encoded data removed]",
            "text/plain": [
              "<Figure size 1200x800 with 1 Axes>"
            ]
          },
          "metadata": {
            "tags": [],
            "needs_background": "light"
          }
        }
      ]
    },
    {
      "cell_type": "markdown",
      "metadata": {
        "id": "C5I48X3_0yV2"
      },
      "source": [
        "## Model functions: statistical and ML analyses"
      ],
      "id": "C5I48X3_0yV2"
    },
    {
      "cell_type": "code",
      "metadata": {
        "id": "a4b84433"
      },
      "source": [
        "def daily_density_events_by_mutual_information(turbine_curtailments: pd.DataFrame, turbine_events: pd.DataFrame, verbose=True, repeats=10):\n",
        "  \"\"\"\n",
        "  Compute mutual information scores for events based on daily density\n",
        "\n",
        "  Args:\n",
        "      turbine_curtailments: DataFrame containing flagged curtailment data for\n",
        "      one turbine. All event flags required\n",
        "\n",
        "      turbine_events: raw event DataFrame\n",
        "\n",
        "      repeats: how often to perform mutual information estimation (not yet ported from old version)\n",
        "\n",
        "  Returns:\n",
        "      list of mutual information per event.\n",
        "  \"\"\"\n",
        "\n",
        "  turbine_curtailments_list = turbine_curtailments.copy()\n",
        "\n",
        "\n",
        "  codes = turbine_events['ErrorCode'].unique()\n",
        "  codes = np.sort(codes)\n",
        "\n",
        "  turbines = SCADA_setpoint[\"Turbine\"].unique()\n",
        "  turbines = np.sort(names)\n",
        "\n",
        "  start = turbine_curtailments_list[0].index.min().floor(freq='24H')\n",
        "  end = turbine_curtailments_list[0].index.max().floor(freq='24H')\n",
        "  nrdays = (end-start).days\n",
        "\n",
        "  repeater = np.zeros((len(codes), len(turbine_curtailments_list), repeats))\n",
        "\n",
        "  indexnames = [start+timedelta(days=day)  for day in range(nrdays)]\n",
        "\n",
        "  covered_ratio_data = pd.DataFrame(data=0, index=indexnames, columns=['End'])\n",
        "  covered_ratio_data['End'] = covered_ratio_data.index+timedelta(minutes=(23*60+59))\n",
        "  covered_ratio_data = [covered_ratio_data for i in range(80)]\n",
        "  covered_ratio_data = expand_dummy_event_columns(covered_ratio_data, turbine_events)\n",
        "\n",
        "  i = 0\n",
        "  for turbine_curtailments in turbine_curtailments_list:\n",
        "\n",
        "    single_turbine_events = turbine_events[turbine_events['Turbine']==names[i]].sort_values(by=['From']).copy()\n",
        "    single_turbine_events = single_turbine_events.set_index('From')\n",
        "    current = covered_ratio_data[i].copy()\n",
        "    efficient_event_overlap_calculation(current, single_turbine_events)\n",
        "\n",
        "    col_names = [str(code) + '_Coverage_Duration' for code in codes]\n",
        "\n",
        "    current = current[col_names]\n",
        "\n",
        "    turbine_curtailments= turbine_curtailments[~turbine_curtailments.Reported & \n",
        "                              ~turbine_curtailments.HWRT & \n",
        "                              ~turbine_curtailments.isTechnicianCurtailment].copy()\n",
        "    turbine_curtailments['To'] = turbine_curtailments['End']\n",
        "    turbine_curtailments['ErrorCode'] = 'Y'\n",
        "    turbine_curtailments = turbine_curtailments[['To', 'ErrorCode']]\n",
        "\n",
        "    currentcurt = pd.DataFrame(data=0, index=indexnames, columns=['End'])\n",
        "    currentcurt['End'] = currentcurt.index+timedelta(minutes=(23*60+59))\n",
        "    currentcurt['Y_Curtailment_Coverage'] = 0\n",
        "    currentcurt['Y_Coverage_Duration'] = 0\n",
        "    currentcurt['Y_Coverage_Ratio'] = 0\n",
        "    efficient_event_overlap_calculation(currentcurt, turbine_curtailments)\n",
        "    \n",
        "    for repeat in range(repeats):\n",
        "\n",
        "      repeater[:, i, repeat] = mutual_info_classif(current, currentcurt.Y_Coverage_Duration)\n",
        "\n",
        "\n",
        "    i += 1\n",
        "  avg_turbine_result = repeater.mean(axis=2)  \n",
        "  result = avg_turbine_result.mean(axis=1)\n",
        "  ranked_list = pd.DataFrame(data=0, index=codes, columns=['mutual information scores'])\n",
        "  ranked_list['mutual information scores'] = result\n",
        "  ranked_list['code'] = ranked_list.index\n",
        "  ranked_list = ranked_list.sort_values(by=['mutual information scores'], ascending=False)\n",
        "  ranked_list['rank'] = range(0, len(ranked_list))\n",
        "  ranked_list = ranked_list.set_index('rank')\n",
        "  return ranked_list\n",
        "          "
      ],
      "id": "a4b84433",
      "execution_count": 70,
      "outputs": []
    },
    {
      "cell_type": "markdown",
      "metadata": {
        "id": "QU-hds4y1d1O"
      },
      "source": [
        "### Execution"
      ],
      "id": "QU-hds4y1d1O"
    },
    {
      "cell_type": "code",
      "metadata": {
        "id": "o_lDjChogexg"
      },
      "source": [
        "ranked_list = daily_density_events_by_mutual_information(curtailments_with_zeroes[:1], turbine_events)"
      ],
      "id": "o_lDjChogexg",
      "execution_count": 77,
      "outputs": []
    },
    {
      "cell_type": "code",
      "metadata": {
        "colab": {
          "base_uri": "https://localhost:8080/",
          "height": 450
        },
        "id": "k_0uk-gDg2AR",
        "outputId": "30c76253-6c1f-48a9-ee74-dc2a5f6e2031"
      },
      "source": [
        "ranked_list"
      ],
      "id": "k_0uk-gDg2AR",
      "execution_count": 78,
      "outputs": [
        {
          "output_type": "execute_result",
          "data": {
            "text/html": [
              "<div>\n",
              "<style scoped>\n",
              "    .dataframe tbody tr th:only-of-type {\n",
              "        vertical-align: middle;\n",
              "    }\n",
              "\n",
              "    .dataframe tbody tr th {\n",
              "        vertical-align: top;\n",
              "    }\n",
              "\n",
              "    .dataframe thead th {\n",
              "        text-align: right;\n",
              "    }\n",
              "</style>\n",
              "<table border=\"1\" class=\"dataframe\">\n",
              "  <thead>\n",
              "    <tr style=\"text-align: right;\">\n",
              "      <th></th>\n",
              "      <th>mutual information scores</th>\n",
              "      <th>code</th>\n",
              "    </tr>\n",
              "    <tr>\n",
              "      <th>rank</th>\n",
              "      <th></th>\n",
              "      <th></th>\n",
              "    </tr>\n",
              "  </thead>\n",
              "  <tbody>\n",
              "    <tr>\n",
              "      <th>0</th>\n",
              "      <td>0.101811</td>\n",
              "      <td>0</td>\n",
              "    </tr>\n",
              "    <tr>\n",
              "      <th>1</th>\n",
              "      <td>0.086135</td>\n",
              "      <td>1</td>\n",
              "    </tr>\n",
              "    <tr>\n",
              "      <th>2</th>\n",
              "      <td>0.065087</td>\n",
              "      <td>4</td>\n",
              "    </tr>\n",
              "    <tr>\n",
              "      <th>3</th>\n",
              "      <td>0.030584</td>\n",
              "      <td>3130</td>\n",
              "    </tr>\n",
              "    <tr>\n",
              "      <th>4</th>\n",
              "      <td>0.024000</td>\n",
              "      <td>3411</td>\n",
              "    </tr>\n",
              "    <tr>\n",
              "      <th>...</th>\n",
              "      <td>...</td>\n",
              "      <td>...</td>\n",
              "    </tr>\n",
              "    <tr>\n",
              "      <th>360</th>\n",
              "      <td>0.000355</td>\n",
              "      <td>13132</td>\n",
              "    </tr>\n",
              "    <tr>\n",
              "      <th>361</th>\n",
              "      <td>0.000347</td>\n",
              "      <td>15230</td>\n",
              "    </tr>\n",
              "    <tr>\n",
              "      <th>362</th>\n",
              "      <td>0.000320</td>\n",
              "      <td>15020</td>\n",
              "    </tr>\n",
              "    <tr>\n",
              "      <th>363</th>\n",
              "      <td>0.000295</td>\n",
              "      <td>1034</td>\n",
              "    </tr>\n",
              "    <tr>\n",
              "      <th>364</th>\n",
              "      <td>0.000272</td>\n",
              "      <td>63400</td>\n",
              "    </tr>\n",
              "  </tbody>\n",
              "</table>\n",
              "<p>365 rows × 2 columns</p>\n",
              "</div>"
            ],
            "text/plain": [
              "      mutual information scores   code\n",
              "rank                                  \n",
              "0                      0.101811      0\n",
              "1                      0.086135      1\n",
              "2                      0.065087      4\n",
              "3                      0.030584   3130\n",
              "4                      0.024000   3411\n",
              "...                         ...    ...\n",
              "360                    0.000355  13132\n",
              "361                    0.000347  15230\n",
              "362                    0.000320  15020\n",
              "363                    0.000295   1034\n",
              "364                    0.000272  63400\n",
              "\n",
              "[365 rows x 2 columns]"
            ]
          },
          "metadata": {
            "tags": []
          },
          "execution_count": 78
        }
      ]
    },
    {
      "cell_type": "code",
      "metadata": {
        "colab": {
          "base_uri": "https://localhost:8080/",
          "height": 111
        },
        "id": "H_YULEhN--z1",
        "outputId": "3243efb6-ead4-430b-f3e9-e9bb9bd9395b"
      },
      "source": [
        "ranked_list[ranked_list['code'] == 5112]"
      ],
      "id": "H_YULEhN--z1",
      "execution_count": 79,
      "outputs": [
        {
          "output_type": "execute_result",
          "data": {
            "text/html": [
              "<div>\n",
              "<style scoped>\n",
              "    .dataframe tbody tr th:only-of-type {\n",
              "        vertical-align: middle;\n",
              "    }\n",
              "\n",
              "    .dataframe tbody tr th {\n",
              "        vertical-align: top;\n",
              "    }\n",
              "\n",
              "    .dataframe thead th {\n",
              "        text-align: right;\n",
              "    }\n",
              "</style>\n",
              "<table border=\"1\" class=\"dataframe\">\n",
              "  <thead>\n",
              "    <tr style=\"text-align: right;\">\n",
              "      <th></th>\n",
              "      <th>mutual information scores</th>\n",
              "      <th>code</th>\n",
              "    </tr>\n",
              "    <tr>\n",
              "      <th>rank</th>\n",
              "      <th></th>\n",
              "      <th></th>\n",
              "    </tr>\n",
              "  </thead>\n",
              "  <tbody>\n",
              "    <tr>\n",
              "      <th>42</th>\n",
              "      <td>0.01599</td>\n",
              "      <td>5112</td>\n",
              "    </tr>\n",
              "  </tbody>\n",
              "</table>\n",
              "</div>"
            ],
            "text/plain": [
              "      mutual information scores  code\n",
              "rank                                 \n",
              "42                      0.01599  5112"
            ]
          },
          "metadata": {
            "tags": []
          },
          "execution_count": 79
        }
      ]
    },
    {
      "cell_type": "code",
      "metadata": {
        "id": "53d0a1ab"
      },
      "source": [
        "def SCADA_to_timeseries(scada: pd.DataFrame, assume_normal_operation=True):\n",
        "    \"\"\"Create a timeseries DataFrame for the setpoint signal\n",
        "\n",
        "    Args:\n",
        "        scada: DataFrame containing the scada data in tag form.\n",
        "        assume_normal_operation: if \"Setpoint\", NaN values will be set to \n",
        "        max power, else it is backfilled with the next non-NaN value.\n",
        "        !!!Don't use for wind SCADA!!!\n",
        "\n",
        "    Returns:\n",
        "        DataFrame with setpoint arranged as time series\n",
        "    \"\"\"\n",
        "    \n",
        "    if assume_normal_operation:\n",
        "      max_val = scada['Value'].max()\n",
        "      scada = scada.pivot_table(index=['Timestamp'], columns=['Turbine']).fillna(max_val)\n",
        "    else:\n",
        "      scada = scada.pivot_table(index=['Timestamp'], columns=['Turbine']).fillna(method='bfill')\n",
        "    \n",
        "    return scada\n",
        "\n",
        "\n",
        "\n",
        "def park_curtailment(SCADA_setpoint: pd.DataFrame, curtailment_reports: pd.DataFrame, turbine_events: pd.DataFrame, SCADA_windspeed: pd.DataFrame, difference_ratio=0.1) :\n",
        "    # TODO: fix second half of function with updated turbine functions\n",
        "    \"\"\"Create a timeseries DataFrame containing all relevant information per \n",
        "    timestamp.\n",
        "\n",
        "    Args:\n",
        "        SCADA_setpoint: DataFrame containing the setpoint signal\n",
        "        curtailment_reports: DataFrame containing the curtailment reports\n",
        "        turbine_events: DataFrame containing turbine events\n",
        "        SCADA_windspeed: DataFrame containing SCADA data about wind speeds\n",
        "        difference_ratio: factor used to determine how much oscillation is \n",
        "        to be considered a new curtailment instance \n",
        "\n",
        "    Returns:\n",
        "        DataFrame with aggregated park information about curtailment\n",
        "\n",
        "    \"\"\"\n",
        "\n",
        "    #Set up data\n",
        "\n",
        "    turbine_events = eventdf[['From_UTC', 'To_UTC', 'ErrorCode']]  \n",
        "    SCADA_setpoint = df[['Timestamp', 'Turbine', 'Value', 'Tag']]\n",
        "    curtailment_reports = dfcur[['From_Local', 'To_Local', 'Category']]\n",
        "\n",
        "    maxval = df['Value'].max()\n",
        "    \n",
        "    setpoint_timeseries = setpoint_to_timeseries(SCADA_setpoint)\n",
        "\n",
        "    #Add minum and mean values of setpoint\n",
        "\n",
        "    park_curtailment = pd.DataFrame(index=thing.index)\n",
        "    park_curtailment['setpoint_value_mean'] = thing.mean(axis=1)\n",
        "    park_curtailment['setpoint_min'] = thing.min(axis=1)\n",
        "\n",
        "\n",
        "    turbine_curtailments = []\n",
        "\n",
        "    # Fix from here\n",
        "    return\n",
        "\n",
        "    park_curtailments = pd.DataFrame(columns=['timestamp', 'setpoint_value_mean', 'setpoint_min', 'reported_curtailment_active', 'affected_turbines', 'hwrt_likely', 'technician_likely', 'events_overlapping_curtailment', 'curtailemnt_coverage', 'event_coverage'])\n",
        "    \n",
        "    percent_done = 0 \n",
        "    print(\"computing turbine curtailment\")\n",
        "    out = display(progress(0, 100), display_id=True)\n",
        "    for turbine in turbinelist:\n",
        "        prc = round(((percent_done/len(turbinelist))*100), 2)\n",
        "        percent_done += 1\n",
        "        out.update(progress(prc, 100))  \n",
        "        turbine_curtailments.append(extract_curtailment_windows_from_setpoint(df[df['Turbine']==turbine], winddf[winddf['Turbine']==turbine], lag=lag, difference_ratio=difference_ratio))\n",
        "    \n",
        "    \n",
        "    percent_done = 0 \n",
        "    \n",
        "\n",
        "    print(\"computing park curtailment\")\n",
        "    out = display(progress(0, 100), display_id=True)\n",
        "\n",
        "    for timestamp in timeseries:\n",
        "     \n",
        "        #print(\"percent done: \", (round(percent_done/len(timeseries))*100), '%')\n",
        "        prc = round(((percent_done/len(timeseries))*100), 2)\n",
        "        print(\"\\r percent done: \", prc, \"%\")\n",
        "        percent_done += 1\n",
        "        out.update(progress(prc, 100))  \n",
        "        \n",
        "        affected_turbines = []\n",
        "        valsum = 0\n",
        "        minval = maxval\n",
        "        active = 'None'\n",
        "        prevval = maxval\n",
        "        \n",
        "        overlap_codes = [] # collect turbine events for all turbines that have active curtailment\n",
        "        ratio_curt = []\n",
        "        ratio_evt = []            \n",
        "        \n",
        "        # If any turbine experiences technician curtailment or hwrt, add it as likely cause\n",
        "        technician = False\n",
        "        hwrt = False\n",
        "        \n",
        "        for turbine in turbinelist: # three nested for loops -> needs to be more efficient\n",
        "            if len(df.loc[(df['Turbine'] == turbine) & (df['Timestamp'] == timestamp)]) == 0:\n",
        "                val = prevval \n",
        "            else:\n",
        "                val = df.loc[(df['Turbine'] == turbine) & (df['Timestamp'] == timestamp)]['Value'].item()\n",
        "                prevval = val\n",
        "            \n",
        "\n",
        "            \n",
        "            if val < maxval: # Only loop if setpoint derated\n",
        "                affected_turbines.append(turbine)\n",
        "                i, = np.where(turbinelist==turbine)\n",
        "                curts = turbine_curtailments[i[0]]\n",
        "                active_curt = None\n",
        "                for curt in curts:\n",
        "                    if during(curt.start, curt.end, timestamp):\n",
        "                        active_curt = curt # curtailment active during this timestamp\n",
        "                        if curt.text == \"technician curtailment\":\n",
        "                            technician = True\n",
        "                        if curt.text == \"hwrt\":\n",
        "                            hwrt = True\n",
        "                            \n",
        "                if active_curt != None:\n",
        "                    for event in eventdf[eventdf['Unit'] == turbine][['From_UTC', 'To_UTC', 'ErrorCode']].to_numpy() : # originally this loop was nested, but since curtailment, as defined previously, is not overlapping for a turbine, this can be sequential\n",
        "                        overlapbool, delta, ratio_curtailment_covered, ratio_event_covered = active_curt.overlappingevent(event[0], event[1])\n",
        "                        if overlapbool:\n",
        "                            overlap_codes.append(event[2])\n",
        "                            ratio_curt.append(round(ratio_curtailment_covered, 4)) # round to 4 digits for better visibility, more are not needed\n",
        "                            ratio_evt.append(round(ratio_event_covered, 4))\n",
        "            \n",
        "                \n",
        "        for curtailment in dfcur.iloc():\n",
        "            if during(curtailment['From_Local'], curtailment['To_Local'], timestamp):\n",
        "                active = curtailment['Category']\n",
        "            \n",
        "        s = pd.Series({'timestamp': timestamp, 'reported_curtailment_active' : active, 'affected_turbines': affected_turbines, 'hwrt_likely': hwrt, 'technician_likely': technician, 'events_overlapping_curtailment': overlap_codes, 'curtailemnt_coverage': ratio_curt, 'event_coverage': ratio_evt})\n",
        "        park_curtailments = park_curtailments.append(s, ignore_index=True)\n",
        "        \n",
        "    return park_curtailments, turbine_curtailments, turbinelist\n",
        "    "
      ],
      "id": "53d0a1ab",
      "execution_count": null,
      "outputs": []
    }
  ]
}